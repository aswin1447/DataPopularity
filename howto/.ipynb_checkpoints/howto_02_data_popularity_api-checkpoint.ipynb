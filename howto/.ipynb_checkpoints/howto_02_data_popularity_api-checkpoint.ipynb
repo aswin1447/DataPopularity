{
 "cells": [
  {
   "cell_type": "markdown",
   "metadata": {},
   "source": [
    "#About\n",
    "This notebook shows how to use data popularity api service. This service runs in docker container."
   ]
  },
  {
   "cell_type": "markdown",
   "metadata": {},
   "source": [
    "For further understanding of this service look http://nbviewer.ipython.org/github/hushchyn-mikhail/DataPopularity/blob/master/howto/howto_01_DataPopularity.ipynb first."
   ]
  },
  {
   "cell_type": "markdown",
   "metadata": {},
   "source": [
    "#Docker pull & run\n",
    "To start your work you should run docker container, which provides the data popularity api service."
   ]
  },
  {
   "cell_type": "markdown",
   "metadata": {},
   "source": [
    "In terminal type:\n",
    "1. ####sudo docker pull hushchynmikhail/dp_api\n",
    "2. ####sudo docker run -d -p 5000:5000 hushchynmikhail/dp_api python DataPopularity/data_popularity_api/dp_api.py"
   ]
  },
  {
   "cell_type": "markdown",
   "metadata": {},
   "source": [
    "#Get session id"
   ]
  },
  {
   "cell_type": "markdown",
   "metadata": {},
   "source": [
    "Firstly, you need to get unique session id."
   ]
  },
  {
   "cell_type": "code",
   "execution_count": 5,
   "metadata": {
    "collapsed": true
   },
   "outputs": [],
   "source": [
    "from requests import put, get, post"
   ]
  },
  {
   "cell_type": "code",
   "execution_count": 6,
   "metadata": {
    "collapsed": false
   },
   "outputs": [
    {
     "data": {
      "text/plain": [
       "u'Your NEW session_id = 9361'"
      ]
     },
     "execution_count": 6,
     "metadata": {},
     "output_type": "execute_result"
    }
   ],
   "source": [
    "post('http://localhost:5000/').json()"
   ]
  },
  {
   "cell_type": "markdown",
   "metadata": {},
   "source": [
    "#Upload data"
   ]
  },
  {
   "cell_type": "markdown",
   "metadata": {},
   "source": [
    "Secondly, upload your data using your session_id"
   ]
  },
  {
   "cell_type": "code",
   "execution_count": 27,
   "metadata": {
    "collapsed": false
   },
   "outputs": [
    {
     "data": {
      "text/plain": [
       "u'Your data saved in directory ///data_dir/9361/data.csv'"
      ]
     },
     "execution_count": 27,
     "metadata": {},
     "output_type": "execute_result"
    }
   ],
   "source": [
    "data_path = 'Data/popularity-728days.csv'\n",
    "post('http://localhost:5000/9361/Upload', files={'file':open(data_path)}).json()"
   ]
  },
  {
   "cell_type": "markdown",
   "metadata": {},
   "source": [
    "#Run Data Popularity"
   ]
  },
  {
   "cell_type": "markdown",
   "metadata": {},
   "source": [
    "Now, we can run data popularity. Post() mehod runs DataPopularityEstimator, DataIntensityPredictor and DataPlacementOptimizer."
   ]
  },
  {
   "cell_type": "code",
   "execution_count": 32,
   "metadata": {
    "collapsed": false
   },
   "outputs": [
    {
     "data": {
      "text/plain": [
       "u'Data Popularity report generated in ///data_dir/9361/opti_report.csv'"
      ]
     },
     "execution_count": 32,
     "metadata": {},
     "output_type": "execute_result"
    }
   ],
   "source": [
    "params=\"{'nb_of_weeks':104, 'q':None, 'set_replicas':'auto', 'c_disk':100, 'c_tape':1, 'c_miss':2000,\\\n",
    "       'alpha':1, 'max_replicas':4, 'method':'opti', 'pop_cut':-1}\"\n",
    "\n",
    "post('http://localhost:5000/9361/DataPopularityApi', data={'params':params}).json()"
   ]
  },
  {
   "cell_type": "markdown",
   "metadata": {},
   "source": [
    "If you want to change parameters for the DataPlacementOptimizator use put() to save your time. Put() method runs only DataPlacementOptimizer."
   ]
  },
  {
   "cell_type": "code",
   "execution_count": 33,
   "metadata": {
    "collapsed": false
   },
   "outputs": [
    {
     "data": {
      "text/plain": [
       "u'Data Popularity report generated in ///data_dir/9361/report.csv'"
      ]
     },
     "execution_count": 33,
     "metadata": {},
     "output_type": "execute_result"
    }
   ],
   "source": [
    "new_params=\"{'nb_of_weeks':104, 'q':None, 'set_replicas':'auto', 'c_disk':100, 'c_tape':1, 'c_miss':2000,\\\n",
    "       'alpha':1, 'max_replicas':4, 'method':'report', 'pop_cut':0.4}\"\n",
    "\n",
    "put('http://localhost:5000/9361/DataPopularityApi', data={'params':new_params}).json()"
   ]
  },
  {
   "cell_type": "markdown",
   "metadata": {},
   "source": [
    "To view the names of output files use get()."
   ]
  },
  {
   "cell_type": "code",
   "execution_count": 34,
   "metadata": {
    "collapsed": false
   },
   "outputs": [
    {
     "data": {
      "text/plain": [
       "u'Files data.csv, popularity.csv, prediction.csv, report.csv and opti_report.csv are in your working directory ///data_dir/9361'"
      ]
     },
     "execution_count": 34,
     "metadata": {},
     "output_type": "execute_result"
    }
   ],
   "source": [
    "get('http://localhost:5000/9361/DataPopularityApi').json()"
   ]
  },
  {
   "cell_type": "markdown",
   "metadata": {},
   "source": [
    "#Download results"
   ]
  },
  {
   "cell_type": "code",
   "execution_count": 50,
   "metadata": {
    "collapsed": false
   },
   "outputs": [],
   "source": [
    "import csv\n",
    "output_dir = 'Data/output/'\n",
    "file_name = 'opti_report.csv'\n",
    "\n",
    "r = get('http://localhost:5000/9361/Download/'+file_name)\n",
    "\n",
    "f = open(output_dir+file_name, 'w')\n",
    "f.write(r.content)"
   ]
  },
  {
   "cell_type": "code",
   "execution_count": null,
   "metadata": {
    "collapsed": true
   },
   "outputs": [],
   "source": []
  }
 ],
 "metadata": {
  "kernelspec": {
   "display_name": "Python 2",
   "language": "python",
   "name": "python2"
  },
  "language_info": {
   "codemirror_mode": {
    "name": "ipython",
    "version": 2
   },
   "file_extension": ".py",
   "mimetype": "text/x-python",
   "name": "python",
   "nbconvert_exporter": "python",
   "pygments_lexer": "ipython2",
   "version": "2.7.6"
  }
 },
 "nbformat": 4,
 "nbformat_minor": 0
}
