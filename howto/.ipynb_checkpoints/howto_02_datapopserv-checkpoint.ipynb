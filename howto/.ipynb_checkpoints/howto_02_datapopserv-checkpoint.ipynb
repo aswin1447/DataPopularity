{
 "cells": [
  {
   "cell_type": "markdown",
   "metadata": {},
   "source": [
    "#About\n",
    "This notebook shows how to use data popularity api service."
   ]
  },
  {
   "cell_type": "markdown",
   "metadata": {},
   "source": [
    "For further understanding of this service look **howto_01_datapop.ipynb** first."
   ]
  },
  {
   "cell_type": "code",
   "execution_count": 99,
   "metadata": {
    "collapsed": true
   },
   "outputs": [],
   "source": [
    "from requests import put, get, post"
   ]
  },
  {
   "cell_type": "markdown",
   "metadata": {},
   "source": [
    "#Simple request"
   ]
  },
  {
   "cell_type": "markdown",
   "metadata": {},
   "source": [
    "This is about how to save N Tb of disk space."
   ]
  },
  {
   "cell_type": "code",
   "execution_count": 105,
   "metadata": {
    "collapsed": false
   },
   "outputs": [],
   "source": [
    "data_path = 'data/inputs/popularity-910days.csv'\n",
    "params=\"{'n_tb':100}\"\n",
    "\n",
    "r = post('http://localhost:5000/', files={'file':open(data_path)}, data={'params':params})"
   ]
  },
  {
   "cell_type": "code",
   "execution_count": 107,
   "metadata": {
    "collapsed": true
   },
   "outputs": [],
   "source": [
    "# save results\n",
    "f = open('data/outputs/report.csv', 'w')\n",
    "f.write(r.content)"
   ]
  },
  {
   "cell_type": "markdown",
   "metadata": {},
   "source": [
    "# Other requests"
   ]
  },
  {
   "cell_type": "markdown",
   "metadata": {},
   "source": [
    "This request equals to the simple one. Save N Tb of disk space."
   ]
  },
  {
   "cell_type": "code",
   "execution_count": 109,
   "metadata": {
    "collapsed": false
   },
   "outputs": [],
   "source": [
    "data_path = 'data/inputs/popularity-910days.csv'\n",
    "params=\"{'mode':'save', 'n_tb':100, 'min_replicas': 1, 'max_replicas': 7}\"\n",
    "\n",
    "r = post('http://localhost:5000/', files={'file':open(data_path)}, data={'params':params})"
   ]
  },
  {
   "cell_type": "markdown",
   "metadata": {},
   "source": [
    "To create new replicas for the datasets. Fill N Tb of free disk space."
   ]
  },
  {
   "cell_type": "code",
   "execution_count": 110,
   "metadata": {
    "collapsed": true
   },
   "outputs": [],
   "source": [
    "data_path = 'data/inputs/popularity-910days.csv'\n",
    "params=\"{'mode':'fill', 'n_tb':100, 'min_replicas': 1, 'max_replicas': 7}\"\n",
    "\n",
    "r = post('http://localhost:5000/', files={'file':open(data_path)}, data={'params':params})"
   ]
  },
  {
   "cell_type": "markdown",
   "metadata": {},
   "source": [
    "To remove the datasets from the disk. Clean N Tb of disk space."
   ]
  },
  {
   "cell_type": "code",
   "execution_count": 113,
   "metadata": {
    "collapsed": false
   },
   "outputs": [],
   "source": [
    "data_path = 'data/inputs/popularity-910days.csv'\n",
    "params=\"{'mode':'clean', 'n_tb':100, 'proba_threshold':0.01}\"\n",
    "\n",
    "r = post('http://localhost:5000/', files={'file':open(data_path)}, data={'params':params})"
   ]
  },
  {
   "cell_type": "markdown",
   "metadata": {},
   "source": [
    "To get probability + prediction report."
   ]
  },
  {
   "cell_type": "code",
   "execution_count": 114,
   "metadata": {
    "collapsed": true
   },
   "outputs": [],
   "source": [
    "data_path = 'data/inputs/popularity-910days.csv'\n",
    "params=\"{'mode':'combine'}\"\n",
    "\n",
    "r = post('http://localhost:5000/', files={'file':open(data_path)}, data={'params':params})"
   ]
  },
  {
   "cell_type": "code",
   "execution_count": null,
   "metadata": {
    "collapsed": false
   },
   "outputs": [],
   "source": []
  }
 ],
 "metadata": {
  "kernelspec": {
   "display_name": "Python 2",
   "language": "python",
   "name": "python2"
  },
  "language_info": {
   "codemirror_mode": {
    "name": "ipython",
    "version": 2
   },
   "file_extension": ".py",
   "mimetype": "text/x-python",
   "name": "python",
   "nbconvert_exporter": "python",
   "pygments_lexer": "ipython2",
   "version": "2.7.10"
  }
 },
 "nbformat": 4,
 "nbformat_minor": 0
}
