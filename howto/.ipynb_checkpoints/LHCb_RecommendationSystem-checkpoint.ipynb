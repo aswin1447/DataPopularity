{
 "cells": [
  {
   "cell_type": "code",
   "execution_count": 1,
   "metadata": {
    "collapsed": true
   },
   "outputs": [],
   "source": [
    "%matplotlib inline\n",
    "import pandas as pd\n",
    "import numpy as np\n",
    "import matplotlib.pyplot as plt"
   ]
  },
  {
   "cell_type": "code",
   "execution_count": 2,
   "metadata": {
    "collapsed": false
   },
   "outputs": [
    {
     "data": {
      "text/html": [
       "<div style=\"max-height:1000px;max-width:1500px;overflow:auto;\">\n",
       "<table border=\"1\" class=\"dataframe\">\n",
       "  <thead>\n",
       "    <tr style=\"text-align: right;\">\n",
       "      <th></th>\n",
       "      <th>Name</th>\n",
       "      <th>Configuration</th>\n",
       "      <th>ProcessingPass</th>\n",
       "      <th>FileType</th>\n",
       "      <th>Type</th>\n",
       "      <th>Creation-week</th>\n",
       "      <th>NbLFN</th>\n",
       "      <th>LFNSize</th>\n",
       "      <th>NbDisk</th>\n",
       "      <th>DiskSize</th>\n",
       "      <th>...</th>\n",
       "      <th>95</th>\n",
       "      <th>96</th>\n",
       "      <th>97</th>\n",
       "      <th>98</th>\n",
       "      <th>99</th>\n",
       "      <th>100</th>\n",
       "      <th>101</th>\n",
       "      <th>102</th>\n",
       "      <th>103</th>\n",
       "      <th>104</th>\n",
       "    </tr>\n",
       "  </thead>\n",
       "  <tbody>\n",
       "    <tr>\n",
       "      <th>0</th>\n",
       "      <td> /LHCb/Collision10/Beam3500GeV-VeloClosed-MagDo...</td>\n",
       "      <td> /LHCb/Collision10</td>\n",
       "      <td> /RealData/Reco08-MINBIAS-FIRST-14-NB/Stripping12d</td>\n",
       "      <td>    MINIBIAS.DST</td>\n",
       "      <td> 1</td>\n",
       "      <td> 104591</td>\n",
       "      <td>  67</td>\n",
       "      <td> 0.317900</td>\n",
       "      <td> 134</td>\n",
       "      <td> 0.635799</td>\n",
       "      <td>...</td>\n",
       "      <td> 12687</td>\n",
       "      <td> 12687</td>\n",
       "      <td> 12687</td>\n",
       "      <td> 12687</td>\n",
       "      <td> 12687</td>\n",
       "      <td> 12687</td>\n",
       "      <td> 12687</td>\n",
       "      <td> 12687</td>\n",
       "      <td> 12687</td>\n",
       "      <td> 12687</td>\n",
       "    </tr>\n",
       "    <tr>\n",
       "      <th>1</th>\n",
       "      <td> /LHCb/Collision10/Beam3500GeV-VeloClosed-MagDo...</td>\n",
       "      <td> /LHCb/Collision10</td>\n",
       "      <td>                      /RealData/Reco08/Stripping14</td>\n",
       "      <td>     BHADRON.DST</td>\n",
       "      <td> 1</td>\n",
       "      <td> 104607</td>\n",
       "      <td> 227</td>\n",
       "      <td> 0.649204</td>\n",
       "      <td> 980</td>\n",
       "      <td> 2.819260</td>\n",
       "      <td>...</td>\n",
       "      <td>  1631</td>\n",
       "      <td>  1631</td>\n",
       "      <td>  1631</td>\n",
       "      <td>  1631</td>\n",
       "      <td>  1631</td>\n",
       "      <td>  1631</td>\n",
       "      <td>  1631</td>\n",
       "      <td>  1631</td>\n",
       "      <td>  1631</td>\n",
       "      <td>  1631</td>\n",
       "    </tr>\n",
       "    <tr>\n",
       "      <th>2</th>\n",
       "      <td> /LHCb/Collision10/Beam3500GeV-VeloClosed-MagDo...</td>\n",
       "      <td> /LHCb/Collision10</td>\n",
       "      <td>                      /RealData/Reco08/Stripping14</td>\n",
       "      <td> CALIBRATION.DST</td>\n",
       "      <td> 1</td>\n",
       "      <td> 104607</td>\n",
       "      <td> 355</td>\n",
       "      <td> 1.370105</td>\n",
       "      <td> 355</td>\n",
       "      <td> 1.370105</td>\n",
       "      <td>...</td>\n",
       "      <td>     0</td>\n",
       "      <td>     0</td>\n",
       "      <td>     0</td>\n",
       "      <td>   474</td>\n",
       "      <td>   708</td>\n",
       "      <td>   708</td>\n",
       "      <td>   708</td>\n",
       "      <td>   708</td>\n",
       "      <td>   708</td>\n",
       "      <td>   708</td>\n",
       "    </tr>\n",
       "  </tbody>\n",
       "</table>\n",
       "<p>3 rows × 124 columns</p>\n",
       "</div>"
      ],
      "text/plain": [
       "                                                Name      Configuration  \\\n",
       "0  /LHCb/Collision10/Beam3500GeV-VeloClosed-MagDo...  /LHCb/Collision10   \n",
       "1  /LHCb/Collision10/Beam3500GeV-VeloClosed-MagDo...  /LHCb/Collision10   \n",
       "2  /LHCb/Collision10/Beam3500GeV-VeloClosed-MagDo...  /LHCb/Collision10   \n",
       "\n",
       "                                      ProcessingPass         FileType  Type  \\\n",
       "0  /RealData/Reco08-MINBIAS-FIRST-14-NB/Stripping12d     MINIBIAS.DST     1   \n",
       "1                       /RealData/Reco08/Stripping14      BHADRON.DST     1   \n",
       "2                       /RealData/Reco08/Stripping14  CALIBRATION.DST     1   \n",
       "\n",
       "   Creation-week  NbLFN   LFNSize  NbDisk  DiskSize    ...        95     96  \\\n",
       "0         104591     67  0.317900     134  0.635799    ...     12687  12687   \n",
       "1         104607    227  0.649204     980  2.819260    ...      1631   1631   \n",
       "2         104607    355  1.370105     355  1.370105    ...         0      0   \n",
       "\n",
       "      97     98     99    100    101    102    103    104  \n",
       "0  12687  12687  12687  12687  12687  12687  12687  12687  \n",
       "1   1631   1631   1631   1631   1631   1631   1631   1631  \n",
       "2      0    474    708    708    708    708    708    708  \n",
       "\n",
       "[3 rows x 124 columns]"
      ]
     },
     "execution_count": 2,
     "metadata": {},
     "output_type": "execute_result"
    }
   ],
   "source": [
    "lhcb_data = pd.read_csv('Data/popularity-728days.csv')\n",
    "lhcb_data.irow(range(0,3))"
   ]
  },
  {
   "cell_type": "code",
   "execution_count": 3,
   "metadata": {
    "collapsed": false
   },
   "outputs": [
    {
     "data": {
      "text/plain": [
       "(100, 124)"
      ]
     },
     "execution_count": 3,
     "metadata": {},
     "output_type": "execute_result"
    }
   ],
   "source": [
    "test_data = lhcb_data.irow(np.random.choice(lhcb_data.index, 100))\n",
    "test_data.shape"
   ]
  },
  {
   "cell_type": "code",
   "execution_count": 4,
   "metadata": {
    "collapsed": true
   },
   "outputs": [],
   "source": [
    "risk_matrix = np.array([[0, 1],\n",
    "                        [1000, 0]])"
   ]
  },
  {
   "cell_type": "code",
   "execution_count": 5,
   "metadata": {
    "collapsed": false
   },
   "outputs": [
    {
     "name": "stdout",
     "output_type": "stream",
     "text": [
      "KFold prediction using folds column\n",
      "KFold prediction using folds column\n"
     ]
    }
   ],
   "source": [
    "from datapop.LHCb import RecommendationSystem\n",
    "rs = RecommendationSystem(forecast_horizont=26, class_abs_thresholds=1, risk_matrix=risk_matrix)\n",
    "report = rs.report(data=test_data)"
   ]
  },
  {
   "cell_type": "code",
   "execution_count": 6,
   "metadata": {
    "collapsed": false
   },
   "outputs": [
    {
     "data": {
      "text/html": [
       "<div style=\"max-height:1000px;max-width:1500px;overflow:auto;\">\n",
       "<table border=\"1\" class=\"dataframe\">\n",
       "  <thead>\n",
       "    <tr style=\"text-align: right;\">\n",
       "      <th></th>\n",
       "      <th>ID</th>\n",
       "      <th>Proba_Type_0</th>\n",
       "      <th>Proba_Type_1</th>\n",
       "      <th>Risk_Type_0</th>\n",
       "      <th>Risk_Type_1</th>\n",
       "      <th>Recommended_Type</th>\n",
       "    </tr>\n",
       "  </thead>\n",
       "  <tbody>\n",
       "    <tr>\n",
       "      <th>0</th>\n",
       "      <td> /MC/2011/Beam3500GeV-2011-MagDown-Nu2-Pythia6/...</td>\n",
       "      <td>    0.9994142</td>\n",
       "      <td> 0.0005857969</td>\n",
       "      <td> 0.5857969</td>\n",
       "      <td>    0.9994142</td>\n",
       "      <td> 0</td>\n",
       "    </tr>\n",
       "    <tr>\n",
       "      <th>1</th>\n",
       "      <td> /MC/2012/Beam4000GeV-2012-MagDown-Nu2.5-Pythia...</td>\n",
       "      <td> 0.0001872918</td>\n",
       "      <td>    0.9998127</td>\n",
       "      <td>  999.8127</td>\n",
       "      <td> 0.0001872918</td>\n",
       "      <td> 1</td>\n",
       "    </tr>\n",
       "    <tr>\n",
       "      <th>2</th>\n",
       "      <td> /MC/2012/Beam4000GeV-2012-MagDown-Nu2.5-Pythia...</td>\n",
       "      <td> 0.0001221674</td>\n",
       "      <td>    0.9998778</td>\n",
       "      <td>  999.8778</td>\n",
       "      <td> 0.0001221674</td>\n",
       "      <td> 1</td>\n",
       "    </tr>\n",
       "    <tr>\n",
       "      <th>3</th>\n",
       "      <td> /LHCb/Collision11/Beam3500GeV-VeloClosed-MagUp...</td>\n",
       "      <td>    0.0583802</td>\n",
       "      <td>    0.9416198</td>\n",
       "      <td>  941.6198</td>\n",
       "      <td>    0.0583802</td>\n",
       "      <td> 1</td>\n",
       "    </tr>\n",
       "    <tr>\n",
       "      <th>4</th>\n",
       "      <td> /MC/2010/Beam3500GeV-Oct2010-MagDown-Nu2.5/Sim...</td>\n",
       "      <td>     0.999831</td>\n",
       "      <td> 0.0001690458</td>\n",
       "      <td> 0.1690458</td>\n",
       "      <td>     0.999831</td>\n",
       "      <td> 0</td>\n",
       "    </tr>\n",
       "  </tbody>\n",
       "</table>\n",
       "</div>"
      ],
      "text/plain": [
       "                                                  ID  Proba_Type_0  \\\n",
       "0  /MC/2011/Beam3500GeV-2011-MagDown-Nu2-Pythia6/...     0.9994142   \n",
       "1  /MC/2012/Beam4000GeV-2012-MagDown-Nu2.5-Pythia...  0.0001872918   \n",
       "2  /MC/2012/Beam4000GeV-2012-MagDown-Nu2.5-Pythia...  0.0001221674   \n",
       "3  /LHCb/Collision11/Beam3500GeV-VeloClosed-MagUp...     0.0583802   \n",
       "4  /MC/2010/Beam3500GeV-Oct2010-MagDown-Nu2.5/Sim...      0.999831   \n",
       "\n",
       "   Proba_Type_1 Risk_Type_0   Risk_Type_1  Recommended_Type  \n",
       "0  0.0005857969   0.5857969     0.9994142                 0  \n",
       "1     0.9998127    999.8127  0.0001872918                 1  \n",
       "2     0.9998778    999.8778  0.0001221674                 1  \n",
       "3     0.9416198    941.6198     0.0583802                 1  \n",
       "4  0.0001690458   0.1690458      0.999831                 0  "
      ]
     },
     "execution_count": 6,
     "metadata": {},
     "output_type": "execute_result"
    }
   ],
   "source": [
    "report.irow(range(0,5))"
   ]
  },
  {
   "cell_type": "code",
   "execution_count": 8,
   "metadata": {
    "collapsed": false
   },
   "outputs": [
    {
     "data": {
      "text/html": [
       "<div style=\"max-height:1000px;max-width:1500px;overflow:auto;\">\n",
       "<table border=\"1\" class=\"dataframe\">\n",
       "  <thead>\n",
       "    <tr style=\"text-align: right;\">\n",
       "      <th></th>\n",
       "      <th>ID</th>\n",
       "      <th>Creation</th>\n",
       "      <th>First</th>\n",
       "      <th>StartTime</th>\n",
       "      <th>Now</th>\n",
       "      <th>1</th>\n",
       "      <th>2</th>\n",
       "      <th>3</th>\n",
       "      <th>4</th>\n",
       "      <th>5</th>\n",
       "      <th>...</th>\n",
       "      <th>95</th>\n",
       "      <th>96</th>\n",
       "      <th>97</th>\n",
       "      <th>98</th>\n",
       "      <th>99</th>\n",
       "      <th>100</th>\n",
       "      <th>101</th>\n",
       "      <th>102</th>\n",
       "      <th>103</th>\n",
       "      <th>104</th>\n",
       "    </tr>\n",
       "  </thead>\n",
       "  <tbody>\n",
       "    <tr>\n",
       "      <th>0</th>\n",
       "      <td> /MC/2011/Beam3500GeV-2011-MagDown-Nu2-Pythia6/...</td>\n",
       "      <td> 104724</td>\n",
       "      <td> 104725</td>\n",
       "      <td> 104660</td>\n",
       "      <td> 104764</td>\n",
       "      <td> 0</td>\n",
       "      <td> 0</td>\n",
       "      <td> 0</td>\n",
       "      <td> 0</td>\n",
       "      <td> 0</td>\n",
       "      <td>...</td>\n",
       "      <td> 0</td>\n",
       "      <td> 0</td>\n",
       "      <td> 0</td>\n",
       "      <td> 0</td>\n",
       "      <td> 0</td>\n",
       "      <td>  0</td>\n",
       "      <td> 0</td>\n",
       "      <td> 0</td>\n",
       "      <td> 0</td>\n",
       "      <td> 0</td>\n",
       "    </tr>\n",
       "    <tr>\n",
       "      <th>1</th>\n",
       "      <td> /MC/2012/Beam4000GeV-2012-MagDown-Nu2.5-Pythia...</td>\n",
       "      <td> 104748</td>\n",
       "      <td> 104749</td>\n",
       "      <td> 104660</td>\n",
       "      <td> 104764</td>\n",
       "      <td> 0</td>\n",
       "      <td> 0</td>\n",
       "      <td> 0</td>\n",
       "      <td> 0</td>\n",
       "      <td> 0</td>\n",
       "      <td>...</td>\n",
       "      <td> 6</td>\n",
       "      <td> 0</td>\n",
       "      <td> 0</td>\n",
       "      <td> 0</td>\n",
       "      <td> 0</td>\n",
       "      <td> 10</td>\n",
       "      <td> 0</td>\n",
       "      <td> 0</td>\n",
       "      <td> 0</td>\n",
       "      <td> 0</td>\n",
       "    </tr>\n",
       "    <tr>\n",
       "      <th>2</th>\n",
       "      <td> /MC/2012/Beam4000GeV-2012-MagDown-Nu2.5-Pythia...</td>\n",
       "      <td> 104721</td>\n",
       "      <td> 104722</td>\n",
       "      <td> 104660</td>\n",
       "      <td> 104764</td>\n",
       "      <td> 0</td>\n",
       "      <td> 0</td>\n",
       "      <td> 0</td>\n",
       "      <td> 0</td>\n",
       "      <td> 0</td>\n",
       "      <td>...</td>\n",
       "      <td> 0</td>\n",
       "      <td> 0</td>\n",
       "      <td> 0</td>\n",
       "      <td> 0</td>\n",
       "      <td> 0</td>\n",
       "      <td>  0</td>\n",
       "      <td> 0</td>\n",
       "      <td> 0</td>\n",
       "      <td> 0</td>\n",
       "      <td> 0</td>\n",
       "    </tr>\n",
       "    <tr>\n",
       "      <th>3</th>\n",
       "      <td> /LHCb/Collision11/Beam3500GeV-VeloClosed-MagUp...</td>\n",
       "      <td> 104628</td>\n",
       "      <td> 104714</td>\n",
       "      <td> 104660</td>\n",
       "      <td> 104764</td>\n",
       "      <td> 0</td>\n",
       "      <td> 0</td>\n",
       "      <td> 0</td>\n",
       "      <td> 0</td>\n",
       "      <td> 0</td>\n",
       "      <td>...</td>\n",
       "      <td> 0</td>\n",
       "      <td> 0</td>\n",
       "      <td> 0</td>\n",
       "      <td> 0</td>\n",
       "      <td> 0</td>\n",
       "      <td>  0</td>\n",
       "      <td> 0</td>\n",
       "      <td> 0</td>\n",
       "      <td> 0</td>\n",
       "      <td> 0</td>\n",
       "    </tr>\n",
       "    <tr>\n",
       "      <th>4</th>\n",
       "      <td> /MC/2010/Beam3500GeV-Oct2010-MagDown-Nu2.5/Sim...</td>\n",
       "      <td> 104600</td>\n",
       "      <td>      0</td>\n",
       "      <td> 104660</td>\n",
       "      <td> 104764</td>\n",
       "      <td> 0</td>\n",
       "      <td> 0</td>\n",
       "      <td> 0</td>\n",
       "      <td> 0</td>\n",
       "      <td> 0</td>\n",
       "      <td>...</td>\n",
       "      <td> 0</td>\n",
       "      <td> 0</td>\n",
       "      <td> 0</td>\n",
       "      <td> 0</td>\n",
       "      <td> 0</td>\n",
       "      <td>  0</td>\n",
       "      <td> 0</td>\n",
       "      <td> 0</td>\n",
       "      <td> 0</td>\n",
       "      <td> 0</td>\n",
       "    </tr>\n",
       "  </tbody>\n",
       "</table>\n",
       "<p>5 rows × 109 columns</p>\n",
       "</div>"
      ],
      "text/plain": [
       "                                                  ID Creation   First  \\\n",
       "0  /MC/2011/Beam3500GeV-2011-MagDown-Nu2-Pythia6/...   104724  104725   \n",
       "1  /MC/2012/Beam4000GeV-2012-MagDown-Nu2.5-Pythia...   104748  104749   \n",
       "2  /MC/2012/Beam4000GeV-2012-MagDown-Nu2.5-Pythia...   104721  104722   \n",
       "3  /LHCb/Collision11/Beam3500GeV-VeloClosed-MagUp...   104628  104714   \n",
       "4  /MC/2010/Beam3500GeV-Oct2010-MagDown-Nu2.5/Sim...   104600       0   \n",
       "\n",
       "  StartTime     Now  1  2  3  4  5 ... 95 96 97 98 99 100 101 102 103 104  \n",
       "0    104660  104764  0  0  0  0  0 ...  0  0  0  0  0   0   0   0   0   0  \n",
       "1    104660  104764  0  0  0  0  0 ...  6  0  0  0  0  10   0   0   0   0  \n",
       "2    104660  104764  0  0  0  0  0 ...  0  0  0  0  0   0   0   0   0   0  \n",
       "3    104660  104764  0  0  0  0  0 ...  0  0  0  0  0   0   0   0   0   0  \n",
       "4    104660  104764  0  0  0  0  0 ...  0  0  0  0  0   0   0   0   0   0  \n",
       "\n",
       "[5 rows x 109 columns]"
      ]
     },
     "execution_count": 8,
     "metadata": {},
     "output_type": "execute_result"
    }
   ],
   "source": [
    "preprocessed_data = rs._get_preprocessed_data(test_data)\n",
    "preprocessed_data.irow(range(0,5))"
   ]
  },
  {
   "cell_type": "code",
   "execution_count": 9,
   "metadata": {
    "collapsed": false
   },
   "outputs": [
    {
     "name": "stdout",
     "output_type": "stream",
     "text": [
      "KFold prediction using folds column\n",
      "KFold prediction using folds column\n"
     ]
    },
    {
     "data": {
      "text/html": [
       "<div style=\"max-height:1000px;max-width:1500px;overflow:auto;\">\n",
       "<table border=\"1\" class=\"dataframe\">\n",
       "  <thead>\n",
       "    <tr style=\"text-align: right;\">\n",
       "      <th></th>\n",
       "      <th>ID</th>\n",
       "      <th>Proba_Type_0</th>\n",
       "      <th>Proba_Type_1</th>\n",
       "      <th>Risk_Type_0</th>\n",
       "      <th>Risk_Type_1</th>\n",
       "      <th>Recommended_Type</th>\n",
       "    </tr>\n",
       "  </thead>\n",
       "  <tbody>\n",
       "    <tr>\n",
       "      <th>0</th>\n",
       "      <td> /MC/2011/Beam3500GeV-2011-MagDown-Nu2-Pythia6/...</td>\n",
       "      <td>     0.999536</td>\n",
       "      <td> 0.0004640087</td>\n",
       "      <td> 0.4640087</td>\n",
       "      <td>     0.999536</td>\n",
       "      <td> 0</td>\n",
       "    </tr>\n",
       "    <tr>\n",
       "      <th>1</th>\n",
       "      <td> /MC/2012/Beam4000GeV-2012-MagDown-Nu2.5-Pythia...</td>\n",
       "      <td> 0.0001970474</td>\n",
       "      <td>     0.999803</td>\n",
       "      <td>   999.803</td>\n",
       "      <td> 0.0001970474</td>\n",
       "      <td> 1</td>\n",
       "    </tr>\n",
       "    <tr>\n",
       "      <th>2</th>\n",
       "      <td> /MC/2012/Beam4000GeV-2012-MagDown-Nu2.5-Pythia...</td>\n",
       "      <td> 0.0001456994</td>\n",
       "      <td>    0.9998543</td>\n",
       "      <td>  999.8543</td>\n",
       "      <td> 0.0001456994</td>\n",
       "      <td> 1</td>\n",
       "    </tr>\n",
       "    <tr>\n",
       "      <th>3</th>\n",
       "      <td> /LHCb/Collision11/Beam3500GeV-VeloClosed-MagUp...</td>\n",
       "      <td>   0.05929843</td>\n",
       "      <td>    0.9407016</td>\n",
       "      <td>  940.7016</td>\n",
       "      <td>   0.05929843</td>\n",
       "      <td> 1</td>\n",
       "    </tr>\n",
       "    <tr>\n",
       "      <th>4</th>\n",
       "      <td> /MC/2010/Beam3500GeV-Oct2010-MagDown-Nu2.5/Sim...</td>\n",
       "      <td>    0.9998323</td>\n",
       "      <td> 0.0001676558</td>\n",
       "      <td> 0.1676558</td>\n",
       "      <td>    0.9998323</td>\n",
       "      <td> 0</td>\n",
       "    </tr>\n",
       "  </tbody>\n",
       "</table>\n",
       "</div>"
      ],
      "text/plain": [
       "                                                  ID  Proba_Type_0  \\\n",
       "0  /MC/2011/Beam3500GeV-2011-MagDown-Nu2-Pythia6/...      0.999536   \n",
       "1  /MC/2012/Beam4000GeV-2012-MagDown-Nu2.5-Pythia...  0.0001970474   \n",
       "2  /MC/2012/Beam4000GeV-2012-MagDown-Nu2.5-Pythia...  0.0001456994   \n",
       "3  /LHCb/Collision11/Beam3500GeV-VeloClosed-MagUp...    0.05929843   \n",
       "4  /MC/2010/Beam3500GeV-Oct2010-MagDown-Nu2.5/Sim...     0.9998323   \n",
       "\n",
       "   Proba_Type_1 Risk_Type_0   Risk_Type_1  Recommended_Type  \n",
       "0  0.0004640087   0.4640087      0.999536                 0  \n",
       "1      0.999803     999.803  0.0001970474                 1  \n",
       "2     0.9998543    999.8543  0.0001456994                 1  \n",
       "3     0.9407016    940.7016    0.05929843                 1  \n",
       "4  0.0001676558   0.1676558     0.9998323                 0  "
      ]
     },
     "execution_count": 9,
     "metadata": {},
     "output_type": "execute_result"
    }
   ],
   "source": [
    "rs._simulation_report(preprocessed_data).irow(range(0,5))"
   ]
  },
  {
   "cell_type": "code",
   "execution_count": null,
   "metadata": {
    "collapsed": true
   },
   "outputs": [],
   "source": []
  },
  {
   "cell_type": "markdown",
   "metadata": {},
   "source": [
    "#Simulation"
   ]
  },
  {
   "cell_type": "code",
   "execution_count": null,
   "metadata": {
    "collapsed": true
   },
   "outputs": [],
   "source": []
  },
  {
   "cell_type": "code",
   "execution_count": null,
   "metadata": {
    "collapsed": true
   },
   "outputs": [],
   "source": []
  },
  {
   "cell_type": "code",
   "execution_count": null,
   "metadata": {
    "collapsed": true
   },
   "outputs": [],
   "source": []
  },
  {
   "cell_type": "code",
   "execution_count": null,
   "metadata": {
    "collapsed": true
   },
   "outputs": [],
   "source": []
  }
 ],
 "metadata": {
  "kernelspec": {
   "display_name": "Python 2",
   "language": "python",
   "name": "python2"
  },
  "language_info": {
   "codemirror_mode": {
    "name": "ipython",
    "version": 2
   },
   "file_extension": ".py",
   "mimetype": "text/x-python",
   "name": "python",
   "nbconvert_exporter": "python",
   "pygments_lexer": "ipython2",
   "version": "2.7.10"
  }
 },
 "nbformat": 4,
 "nbformat_minor": 0
}
