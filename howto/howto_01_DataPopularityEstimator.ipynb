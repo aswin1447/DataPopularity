{
 "metadata": {
  "name": "",
  "signature": "sha256:89ec4d7a58804163253689c7bc3e49aea213a4726f6a7872882fc82be3737f7b"
 },
 "nbformat": 3,
 "nbformat_minor": 0,
 "worksheets": [
  {
   "cells": [
    {
     "cell_type": "markdown",
     "metadata": {},
     "source": [
      "#About"
     ]
    },
    {
     "cell_type": "markdown",
     "metadata": {},
     "source": [
      "This notebook presents example of using Data Popularity Estimator"
     ]
    },
    {
     "cell_type": "markdown",
     "metadata": {},
     "source": [
      "#Data requets"
     ]
    },
    {
     "cell_type": "code",
     "collapsed": false,
     "input": [
      "import numpy as np\n",
      "import pandas as pd\n",
      "import matplotlib.pyplot as plt\n",
      "%matplotlib inline\n",
      "\n",
      "data_path = '/home/mikhail91/REP/notebooks/popularity-728days.xls'\n",
      "data = pd.read_excel(data_path)\n",
      "\n",
      "data.irow(range(0,2))"
     ],
     "language": "python",
     "metadata": {},
     "outputs": [
      {
       "html": [
        "<div style=\"max-height:1000px;max-width:1500px;overflow:auto;\">\n",
        "<table border=\"1\" class=\"dataframe\">\n",
        "  <thead>\n",
        "    <tr style=\"text-align: right;\">\n",
        "      <th></th>\n",
        "      <th>Name</th>\n",
        "      <th>Configuration</th>\n",
        "      <th>ProcessingPass</th>\n",
        "      <th>FileType</th>\n",
        "      <th>Type</th>\n",
        "      <th>Creation-week</th>\n",
        "      <th>NbLFN</th>\n",
        "      <th>LFNSize</th>\n",
        "      <th>NbDisk</th>\n",
        "      <th>DiskSize</th>\n",
        "      <th>...</th>\n",
        "      <th>95</th>\n",
        "      <th>96</th>\n",
        "      <th>97</th>\n",
        "      <th>98</th>\n",
        "      <th>99</th>\n",
        "      <th>100</th>\n",
        "      <th>101</th>\n",
        "      <th>102</th>\n",
        "      <th>103</th>\n",
        "      <th>104</th>\n",
        "    </tr>\n",
        "  </thead>\n",
        "  <tbody>\n",
        "    <tr>\n",
        "      <th>0</th>\n",
        "      <td> /LHCb/Collision10/Beam3500GeV-VeloClosed-MagDo...</td>\n",
        "      <td> /LHCb/Collision10</td>\n",
        "      <td> /RealData/Reco08-MINBIAS-FIRST-14-NB/Stripping12d</td>\n",
        "      <td> MINIBIAS.DST</td>\n",
        "      <td> 1</td>\n",
        "      <td> 104591</td>\n",
        "      <td>  67</td>\n",
        "      <td> 0.317900</td>\n",
        "      <td> 134</td>\n",
        "      <td> 0.635799</td>\n",
        "      <td>...</td>\n",
        "      <td> 12687</td>\n",
        "      <td> 12687</td>\n",
        "      <td> 12687</td>\n",
        "      <td> 12687</td>\n",
        "      <td> 12687</td>\n",
        "      <td> 12687</td>\n",
        "      <td> 12687</td>\n",
        "      <td> 12687</td>\n",
        "      <td> 12687</td>\n",
        "      <td> 12687</td>\n",
        "    </tr>\n",
        "    <tr>\n",
        "      <th>1</th>\n",
        "      <td> /LHCb/Collision10/Beam3500GeV-VeloClosed-MagDo...</td>\n",
        "      <td> /LHCb/Collision10</td>\n",
        "      <td>                      /RealData/Reco08/Stripping14</td>\n",
        "      <td>  BHADRON.DST</td>\n",
        "      <td> 1</td>\n",
        "      <td> 104607</td>\n",
        "      <td> 227</td>\n",
        "      <td> 0.649204</td>\n",
        "      <td> 980</td>\n",
        "      <td> 2.819260</td>\n",
        "      <td>...</td>\n",
        "      <td>  1631</td>\n",
        "      <td>  1631</td>\n",
        "      <td>  1631</td>\n",
        "      <td>  1631</td>\n",
        "      <td>  1631</td>\n",
        "      <td>  1631</td>\n",
        "      <td>  1631</td>\n",
        "      <td>  1631</td>\n",
        "      <td>  1631</td>\n",
        "      <td>  1631</td>\n",
        "    </tr>\n",
        "  </tbody>\n",
        "</table>\n",
        "<p>2 rows \u00d7 124 columns</p>\n",
        "</div>"
       ],
       "metadata": {},
       "output_type": "pyout",
       "prompt_number": 5,
       "text": [
        "                                                Name      Configuration  \\\n",
        "0  /LHCb/Collision10/Beam3500GeV-VeloClosed-MagDo...  /LHCb/Collision10   \n",
        "1  /LHCb/Collision10/Beam3500GeV-VeloClosed-MagDo...  /LHCb/Collision10   \n",
        "\n",
        "                                      ProcessingPass      FileType  Type  \\\n",
        "0  /RealData/Reco08-MINBIAS-FIRST-14-NB/Stripping12d  MINIBIAS.DST     1   \n",
        "1                       /RealData/Reco08/Stripping14   BHADRON.DST     1   \n",
        "\n",
        "   Creation-week  NbLFN   LFNSize  NbDisk  DiskSize    ...        95     96  \\\n",
        "0         104591     67  0.317900     134  0.635799    ...     12687  12687   \n",
        "1         104607    227  0.649204     980  2.819260    ...      1631   1631   \n",
        "\n",
        "      97     98     99    100    101    102    103    104  \n",
        "0  12687  12687  12687  12687  12687  12687  12687  12687  \n",
        "1   1631   1631   1631   1631   1631   1631   1631   1631  \n",
        "\n",
        "[2 rows x 124 columns]"
       ]
      }
     ],
     "prompt_number": 5
    },
    {
     "cell_type": "markdown",
     "metadata": {},
     "source": [
      "###Data columns requests"
     ]
    },
    {
     "cell_type": "code",
     "collapsed": false,
     "input": [
      "data.columns"
     ],
     "language": "python",
     "metadata": {},
     "outputs": [
      {
       "metadata": {},
       "output_type": "pyout",
       "prompt_number": 6,
       "text": [
        "Index([u'Name', u'Configuration', u'ProcessingPass', u'FileType', u'Type', u'Creation-week', u'NbLFN', u'LFNSize', u'NbDisk', u'DiskSize', u'NbTape', u'TapeSize', u'NbArchived', u'ArchivedSize', u'Nb Replicas', u'Nb ArchReps', u'Storage', u'FirstUsage', u'LastUsage', u'Now', 1, 2, 3, 4, 5, 6, 7, 8, 9, 10, 11, 12, 13, 14, 15, 16, 17, 18, 19, 20, 21, 22, 23, 24, 25, 26, 27, 28, 29, 30, 31, 32, 33, 34, 35, 36, 37, 38, 39, 40, 41, 42, 43, 44, 45, 46, 47, 48, 49, 50, 51, 52, 53, 54, 55, 56, 57, 58, 59, 60, 61, 62, 63, 64, 65, 66, 67, 68, 69, 70, 71, 72, 73, 74, 75, 76, 77, 78, 79, 80, ...], dtype='object')"
       ]
      }
     ],
     "prompt_number": 6
    },
    {
     "cell_type": "markdown",
     "metadata": {},
     "source": [
      "#Train Data Popularity Estimator"
     ]
    },
    {
     "cell_type": "code",
     "collapsed": false,
     "input": [
      "from DataPopularityEstimator import DataPopularityEstimator\n",
      "\n",
      "estimator = DataPopularityEstimator(data=data, nb_of_weeks=104)\n",
      "\n",
      "#Alternative way:\n",
      "#estimator = DataPopularityEstimator(source_path=data_path, nb_of_weeks=104)"
     ],
     "language": "python",
     "metadata": {},
     "outputs": [],
     "prompt_number": 8
    },
    {
     "cell_type": "code",
     "collapsed": false,
     "input": [
      "%%time\n",
      "estimator.train()"
     ],
     "language": "python",
     "metadata": {},
     "outputs": [
      {
       "output_type": "stream",
       "stream": "stdout",
       "text": [
        "CPU times: user 4min 57s, sys: 23.6 s, total: 5min 21s\n",
        "Wall time: 3min 27s\n"
       ]
      },
      {
       "output_type": "stream",
       "stream": "stderr",
       "text": [
        "/home/mikhail91/xgboost-master/wrapper/xgboost.py:80: FutureWarning: comparison to `None` will result in an elementwise object comparison in the future.\n",
        "  if label != None:\n",
        "/home/mikhail91/xgboost-master/wrapper/xgboost.py:82: FutureWarning: comparison to `None` will result in an elementwise object comparison in the future.\n",
        "  if weight !=None:\n"
       ]
      },
      {
       "metadata": {},
       "output_type": "pyout",
       "prompt_number": 9,
       "text": [
        "1"
       ]
      }
     ],
     "prompt_number": 9
    },
    {
     "cell_type": "code",
     "collapsed": false,
     "input": [
      "estimator.roc_curve()"
     ],
     "language": "python",
     "metadata": {},
     "outputs": [
      {
       "metadata": {},
       "output_type": "pyout",
       "prompt_number": 10,
       "text": [
        "0.9781486897294801"
       ]
      },
      {
       "metadata": {},
       "output_type": "display_data",
       "png": "[encoded data removed]",
       "text": [
        "<matplotlib.figure.Figure at 0x7f830e55af10>"
       ]
      }
     ],
     "prompt_number": 10
    },
    {
     "cell_type": "code",
     "collapsed": false,
     "input": [
      "estimator.train_report.irow(range(0,5))"
     ],
     "language": "python",
     "metadata": {},
     "outputs": [
      {
       "html": [
        "<div style=\"max-height:1000px;max-width:1500px;overflow:auto;\">\n",
        "<table border=\"1\" class=\"dataframe\">\n",
        "  <thead>\n",
        "    <tr style=\"text-align: right;\">\n",
        "      <th></th>\n",
        "      <th>Name</th>\n",
        "      <th>Probability</th>\n",
        "      <th>Label</th>\n",
        "    </tr>\n",
        "  </thead>\n",
        "  <tbody>\n",
        "    <tr>\n",
        "      <th>0</th>\n",
        "      <td> /MC/2012/Beam4000GeV-2012-MagUp-Nu2.5-Pythia6/...</td>\n",
        "      <td> 0.001193</td>\n",
        "      <td> 0</td>\n",
        "    </tr>\n",
        "    <tr>\n",
        "      <th>1</th>\n",
        "      <td> /MC/2012/Beam4000GeV-2012-MagDown-Nu2.5-Pythia...</td>\n",
        "      <td> 0.000030</td>\n",
        "      <td> 0</td>\n",
        "    </tr>\n",
        "    <tr>\n",
        "      <th>2</th>\n",
        "      <td> /MC/2012/Beam4000GeV-2012-MagUp-Nu2.5-Pythia6/...</td>\n",
        "      <td> 0.999944</td>\n",
        "      <td> 1</td>\n",
        "    </tr>\n",
        "    <tr>\n",
        "      <th>3</th>\n",
        "      <td> /MC/2011/Beam3500GeV-2011-MagDown-Nu2-Pythia6/...</td>\n",
        "      <td> 0.000126</td>\n",
        "      <td> 0</td>\n",
        "    </tr>\n",
        "    <tr>\n",
        "      <th>4</th>\n",
        "      <td> /LHCb/Collision12/Beam4000GeV-VeloClosed-MagUp...</td>\n",
        "      <td> 0.000429</td>\n",
        "      <td> 0</td>\n",
        "    </tr>\n",
        "  </tbody>\n",
        "</table>\n",
        "</div>"
       ],
       "metadata": {},
       "output_type": "pyout",
       "prompt_number": 11,
       "text": [
        "                                                Name  Probability  Label\n",
        "0  /MC/2012/Beam4000GeV-2012-MagUp-Nu2.5-Pythia6/...     0.001193      0\n",
        "1  /MC/2012/Beam4000GeV-2012-MagDown-Nu2.5-Pythia...     0.000030      0\n",
        "2  /MC/2012/Beam4000GeV-2012-MagUp-Nu2.5-Pythia6/...     0.999944      1\n",
        "3  /MC/2011/Beam3500GeV-2011-MagDown-Nu2-Pythia6/...     0.000126      0\n",
        "4  /LHCb/Collision12/Beam4000GeV-VeloClosed-MagUp...     0.000429      0"
       ]
      }
     ],
     "prompt_number": 11
    },
    {
     "cell_type": "markdown",
     "metadata": {},
     "source": [
      "#Get Popularity"
     ]
    },
    {
     "cell_type": "code",
     "collapsed": false,
     "input": [
      "popularity = estimator.get_popularity()\n",
      "popularity.irow(range(0,5))"
     ],
     "language": "python",
     "metadata": {},
     "outputs": [
      {
       "html": [
        "<div style=\"max-height:1000px;max-width:1500px;overflow:auto;\">\n",
        "<table border=\"1\" class=\"dataframe\">\n",
        "  <thead>\n",
        "    <tr style=\"text-align: right;\">\n",
        "      <th></th>\n",
        "      <th>Name</th>\n",
        "      <th>Popularity</th>\n",
        "    </tr>\n",
        "  </thead>\n",
        "  <tbody>\n",
        "    <tr>\n",
        "      <th>0</th>\n",
        "      <td> /MC/2012/Beam4000GeV-2012-MagUp-Nu2.5-Pythia6/...</td>\n",
        "      <td> 0.000492</td>\n",
        "    </tr>\n",
        "    <tr>\n",
        "      <th>1</th>\n",
        "      <td> /MC/2012/Beam4000GeV-2012-MagDown-Nu2.5-Pythia...</td>\n",
        "      <td> 0.000157</td>\n",
        "    </tr>\n",
        "    <tr>\n",
        "      <th>2</th>\n",
        "      <td> /MC/2012/Beam4000GeV-2012-MagUp-Nu2.5-Pythia6/...</td>\n",
        "      <td> 0.674097</td>\n",
        "    </tr>\n",
        "    <tr>\n",
        "      <th>3</th>\n",
        "      <td> /MC/2011/Beam3500GeV-2011-MagDown-Nu2-Pythia6/...</td>\n",
        "      <td> 0.000157</td>\n",
        "    </tr>\n",
        "    <tr>\n",
        "      <th>4</th>\n",
        "      <td> /LHCb/Collision12/Beam4000GeV-VeloClosed-MagUp...</td>\n",
        "      <td> 0.000192</td>\n",
        "    </tr>\n",
        "  </tbody>\n",
        "</table>\n",
        "</div>"
       ],
       "metadata": {},
       "output_type": "pyout",
       "prompt_number": 12,
       "text": [
        "                                                Name  Popularity\n",
        "0  /MC/2012/Beam4000GeV-2012-MagUp-Nu2.5-Pythia6/...    0.000492\n",
        "1  /MC/2012/Beam4000GeV-2012-MagDown-Nu2.5-Pythia...    0.000157\n",
        "2  /MC/2012/Beam4000GeV-2012-MagUp-Nu2.5-Pythia6/...    0.674097\n",
        "3  /MC/2011/Beam3500GeV-2011-MagDown-Nu2-Pythia6/...    0.000157\n",
        "4  /LHCb/Collision12/Beam4000GeV-VeloClosed-MagUp...    0.000192"
       ]
      }
     ],
     "prompt_number": 12
    },
    {
     "cell_type": "markdown",
     "metadata": {},
     "source": [
      "#Cut Popularity"
     ]
    },
    {
     "cell_type": "code",
     "collapsed": false,
     "input": [
      "cut = estimator.popularity_cut_fpr(fpr_value=0.05)\n",
      "cut"
     ],
     "language": "python",
     "metadata": {},
     "outputs": [
      {
       "metadata": {},
       "output_type": "pyout",
       "prompt_number": 13,
       "text": [
        "0.075564863057541218"
       ]
      }
     ],
     "prompt_number": 13
    },
    {
     "cell_type": "code",
     "collapsed": false,
     "input": [
      "pop = estimator.get_popularity()['Popularity'].values\n",
      "label = estimator.train_report['Label'].values\n",
      "\n",
      "plt.hist(pop[label==1], color='b', alpha=0.5, label='1')\n",
      "plt.hist(pop[label==0], color='r', alpha=0.5, label='0')\n",
      "plt.hist(pop[pop>=cut], color='g', alpha=1, label='fpr<=fpr_value', histtype='step', linewidth=3)\n",
      "plt.legend(loc='best')\n",
      "plt.title('Popularity hists')\n",
      "plt.show()"
     ],
     "language": "python",
     "metadata": {},
     "outputs": [
      {
       "metadata": {},
       "output_type": "display_data",
       "png": "[encoded data removed]",
       "text": [
        "<matplotlib.figure.Figure at 0x7f831d7eee50>"
       ]
      }
     ],
     "prompt_number": 14
    },
    {
     "cell_type": "code",
     "collapsed": false,
     "input": [],
     "language": "python",
     "metadata": {},
     "outputs": [],
     "prompt_number": 14
    }
   ],
   "metadata": {}
  }
 ]
}