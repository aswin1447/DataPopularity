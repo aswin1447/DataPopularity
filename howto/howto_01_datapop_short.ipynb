{
 "cells": [
  {
   "cell_type": "markdown",
   "metadata": {},
   "source": [
    "#About"
   ]
  },
  {
   "cell_type": "markdown",
   "metadata": {},
   "source": [
    "This notebook shows how to use datapop library in a simple way."
   ]
  },
  {
   "cell_type": "code",
   "execution_count": 1,
   "metadata": {
    "collapsed": false
   },
   "outputs": [],
   "source": [
    "%matplotlib inline\n",
    "import pandas\n",
    "import numpy\n",
    "import matplotlib.pyplot as plt"
   ]
  },
  {
   "cell_type": "markdown",
   "metadata": {},
   "source": [
    "#Data"
   ]
  },
  {
   "cell_type": "code",
   "execution_count": 2,
   "metadata": {
    "collapsed": false
   },
   "outputs": [],
   "source": [
    "import pandas\n",
    "data = pandas.read_csv('data/inputs/popularity-910days.csv')"
   ]
  },
  {
   "cell_type": "markdown",
   "metadata": {
    "collapsed": true
   },
   "source": [
    "#ReplicationPlacementStrategy"
   ]
  },
  {
   "cell_type": "markdown",
   "metadata": {},
   "source": [
    "class **ReplicationPlacementStrategy** generates data replication recommendation.\n",
    "\n",
    "pandas.DataFrame **data**: data for the analysis.\n",
    "    \n",
    "int **min_replicas**: minimum number of datasets replicas. Default: 1\n",
    "        \n",
    "int **max_replicas**: maximum number of datasets replicas. Default: 7"
   ]
  },
  {
   "cell_type": "code",
   "execution_count": 5,
   "metadata": {
    "collapsed": false
   },
   "outputs": [],
   "source": [
    "from datapop import ReplicationPlacementStrategy\n",
    "rps = ReplicationPlacementStrategy(data=data, min_replicas=1, max_replicas=7)"
   ]
  },
  {
   "cell_type": "markdown",
   "metadata": {},
   "source": [
    "Recommendations for which datasets decrease number of replicas and in wich order to **save N Tb** disk space. Reduce just one replica in one step. Number of replicas for the datasets with the lowest metric value are decreased first.\n",
    "\n",
    "int **n_tb**: number of Tb wanted to save. If **None** - reduce number of replicas for all datasets. Default: None"
   ]
  },
  {
   "cell_type": "code",
   "execution_count": 8,
   "metadata": {
    "collapsed": false
   },
   "outputs": [
    {
     "data": {
      "text/html": [
       "<div style=\"max-height:1000px;max-width:1500px;overflow:auto;\">\n",
       "<table border=\"1\" class=\"dataframe\">\n",
       "  <thead>\n",
       "    <tr style=\"text-align: right;\">\n",
       "      <th></th>\n",
       "      <th>Name</th>\n",
       "      <th>Probability</th>\n",
       "      <th>roc_auc</th>\n",
       "      <th>precision0</th>\n",
       "      <th>Prediction</th>\n",
       "      <th>rmse</th>\n",
       "      <th>Nb_Replicas</th>\n",
       "      <th>LFNSize</th>\n",
       "      <th>Metric</th>\n",
       "      <th>DecreaseReplicas</th>\n",
       "    </tr>\n",
       "  </thead>\n",
       "  <tbody>\n",
       "    <tr>\n",
       "      <th>0</th>\n",
       "      <td> /MC/2011/Beam3500GeV-2011-MagDown-Nu2-Pythia8/...</td>\n",
       "      <td> 0.000395</td>\n",
       "      <td> 0.868972</td>\n",
       "      <td> 0.877842</td>\n",
       "      <td> 0</td>\n",
       "      <td> 0</td>\n",
       "      <td> 2.961538</td>\n",
       "      <td> 0.066009</td>\n",
       "      <td> 0</td>\n",
       "      <td> 1</td>\n",
       "    </tr>\n",
       "    <tr>\n",
       "      <th>0</th>\n",
       "      <td> /MC/2011/Beam3500GeV-2011-MagDown-Nu2-Pythia8/...</td>\n",
       "      <td> 0.000395</td>\n",
       "      <td> 0.868972</td>\n",
       "      <td> 0.877842</td>\n",
       "      <td> 0</td>\n",
       "      <td> 0</td>\n",
       "      <td> 3.000000</td>\n",
       "      <td> 0.070195</td>\n",
       "      <td> 0</td>\n",
       "      <td> 1</td>\n",
       "    </tr>\n",
       "    <tr>\n",
       "      <th>0</th>\n",
       "      <td> /MC/2011/Beam3500GeV-2011-MagDown-Nu2-Pythia8/...</td>\n",
       "      <td> 0.000395</td>\n",
       "      <td> 0.868972</td>\n",
       "      <td> 0.877842</td>\n",
       "      <td> 0</td>\n",
       "      <td> 0</td>\n",
       "      <td> 2.000000</td>\n",
       "      <td> 0.070195</td>\n",
       "      <td> 0</td>\n",
       "      <td> 1</td>\n",
       "    </tr>\n",
       "    <tr>\n",
       "      <th>0</th>\n",
       "      <td> /MC/2011/Beam3500GeV-2011-MagDown-Nu2-Pythia8/...</td>\n",
       "      <td> 0.000395</td>\n",
       "      <td> 0.868972</td>\n",
       "      <td> 0.877842</td>\n",
       "      <td> 0</td>\n",
       "      <td> 0</td>\n",
       "      <td> 2.962963</td>\n",
       "      <td> 0.084499</td>\n",
       "      <td> 0</td>\n",
       "      <td> 1</td>\n",
       "    </tr>\n",
       "    <tr>\n",
       "      <th>0</th>\n",
       "      <td> /MC/2011/Beam3500GeV-2011-MagDown-Nu2-Pythia8/...</td>\n",
       "      <td> 0.000395</td>\n",
       "      <td> 0.868972</td>\n",
       "      <td> 0.877842</td>\n",
       "      <td> 0</td>\n",
       "      <td> 0</td>\n",
       "      <td> 3.000000</td>\n",
       "      <td> 0.083705</td>\n",
       "      <td> 0</td>\n",
       "      <td> 1</td>\n",
       "    </tr>\n",
       "  </tbody>\n",
       "</table>\n",
       "</div>"
      ],
      "text/plain": [
       "                                                Name  Probability   roc_auc  \\\n",
       "0  /MC/2011/Beam3500GeV-2011-MagDown-Nu2-Pythia8/...     0.000395  0.868972   \n",
       "0  /MC/2011/Beam3500GeV-2011-MagDown-Nu2-Pythia8/...     0.000395  0.868972   \n",
       "0  /MC/2011/Beam3500GeV-2011-MagDown-Nu2-Pythia8/...     0.000395  0.868972   \n",
       "0  /MC/2011/Beam3500GeV-2011-MagDown-Nu2-Pythia8/...     0.000395  0.868972   \n",
       "0  /MC/2011/Beam3500GeV-2011-MagDown-Nu2-Pythia8/...     0.000395  0.868972   \n",
       "\n",
       "   precision0  Prediction  rmse  Nb_Replicas   LFNSize  Metric  \\\n",
       "0    0.877842           0     0     2.961538  0.066009       0   \n",
       "0    0.877842           0     0     3.000000  0.070195       0   \n",
       "0    0.877842           0     0     2.000000  0.070195       0   \n",
       "0    0.877842           0     0     2.962963  0.084499       0   \n",
       "0    0.877842           0     0     3.000000  0.083705       0   \n",
       "\n",
       "   DecreaseReplicas  \n",
       "0                 1  \n",
       "0                 1  \n",
       "0                 1  \n",
       "0                 1  \n",
       "0                 1  "
      ]
     },
     "execution_count": 8,
     "metadata": {},
     "output_type": "execute_result"
    }
   ],
   "source": [
    "report = rps.save_n_tb(n_tb=10)\n",
    "report.head()"
   ]
  },
  {
   "cell_type": "markdown",
   "metadata": {},
   "source": [
    "Recommendations for which datasets increase number of replicas and in wich order to **fill N Tb** of disk space. Add just one replica in one step. Number of replicas for the datasets with the highest metric value are increased first.\n",
    "\n",
    "int **n_tb**: number of Tb wanted to fill. If **None** - increase number of replicas for all datasets. Default: None"
   ]
  },
  {
   "cell_type": "code",
   "execution_count": 9,
   "metadata": {
    "collapsed": false
   },
   "outputs": [
    {
     "data": {
      "text/html": [
       "<div style=\"max-height:1000px;max-width:1500px;overflow:auto;\">\n",
       "<table border=\"1\" class=\"dataframe\">\n",
       "  <thead>\n",
       "    <tr style=\"text-align: right;\">\n",
       "      <th></th>\n",
       "      <th>Name</th>\n",
       "      <th>Probability</th>\n",
       "      <th>roc_auc</th>\n",
       "      <th>precision0</th>\n",
       "      <th>Prediction</th>\n",
       "      <th>rmse</th>\n",
       "      <th>Nb_Replicas</th>\n",
       "      <th>LFNSize</th>\n",
       "      <th>Metric</th>\n",
       "      <th>IncreaseReplicas</th>\n",
       "    </tr>\n",
       "  </thead>\n",
       "  <tbody>\n",
       "    <tr>\n",
       "      <th>0</th>\n",
       "      <td> /LHCb/Collision12/Beam4000GeV-VeloClosed-MagDo...</td>\n",
       "      <td> 0.875755</td>\n",
       "      <td> 0.872937</td>\n",
       "      <td> 0.881308</td>\n",
       "      <td> 90368.930288</td>\n",
       "      <td> 38158.044273</td>\n",
       "      <td> 3.985338</td>\n",
       "      <td> 29.072362</td>\n",
       "      <td> 22675.349064</td>\n",
       "      <td> 1</td>\n",
       "    </tr>\n",
       "    <tr>\n",
       "      <th>0</th>\n",
       "      <td> /LHCb/Collision12/Beam4000GeV-VeloClosed-MagUp...</td>\n",
       "      <td> 0.885385</td>\n",
       "      <td> 0.872937</td>\n",
       "      <td> 0.881308</td>\n",
       "      <td> 86111.981671</td>\n",
       "      <td> 31571.521761</td>\n",
       "      <td> 4.008043</td>\n",
       "      <td> 28.696464</td>\n",
       "      <td> 21484.794866</td>\n",
       "      <td> 1</td>\n",
       "    </tr>\n",
       "    <tr>\n",
       "      <th>0</th>\n",
       "      <td> /LHCb/Collision12/Beam4000GeV-VeloClosed-MagDo...</td>\n",
       "      <td> 0.875755</td>\n",
       "      <td> 0.872937</td>\n",
       "      <td> 0.881308</td>\n",
       "      <td> 90368.930288</td>\n",
       "      <td> 38158.044273</td>\n",
       "      <td> 4.985338</td>\n",
       "      <td> 29.072362</td>\n",
       "      <td> 18126.941501</td>\n",
       "      <td> 1</td>\n",
       "    </tr>\n",
       "  </tbody>\n",
       "</table>\n",
       "</div>"
      ],
      "text/plain": [
       "                                                Name  Probability   roc_auc  \\\n",
       "0  /LHCb/Collision12/Beam4000GeV-VeloClosed-MagDo...     0.875755  0.872937   \n",
       "0  /LHCb/Collision12/Beam4000GeV-VeloClosed-MagUp...     0.885385  0.872937   \n",
       "0  /LHCb/Collision12/Beam4000GeV-VeloClosed-MagDo...     0.875755  0.872937   \n",
       "\n",
       "   precision0    Prediction          rmse  Nb_Replicas    LFNSize  \\\n",
       "0    0.881308  90368.930288  38158.044273     3.985338  29.072362   \n",
       "0    0.881308  86111.981671  31571.521761     4.008043  28.696464   \n",
       "0    0.881308  90368.930288  38158.044273     4.985338  29.072362   \n",
       "\n",
       "         Metric  IncreaseReplicas  \n",
       "0  22675.349064                 1  \n",
       "0  21484.794866                 1  \n",
       "0  18126.941501                 1  "
      ]
     },
     "execution_count": 9,
     "metadata": {},
     "output_type": "execute_result"
    }
   ],
   "source": [
    "report = rps.fill_n_tb(n_tb=100)\n",
    "report.head()"
   ]
  },
  {
   "cell_type": "markdown",
   "metadata": {},
   "source": [
    "Recommendations for which datasets can be remove from disks and in wich order to **clean N Tb** of disk space. The datasets with the lowest probability to be accessed are removed first.\n",
    "\n",
    "int **n_tb**: number of Tb wanted to clean. If **None** - remove all datasets. Default: None"
   ]
  },
  {
   "cell_type": "code",
   "execution_count": 11,
   "metadata": {
    "collapsed": false
   },
   "outputs": [
    {
     "data": {
      "text/html": [
       "<div style=\"max-height:1000px;max-width:1500px;overflow:auto;\">\n",
       "<table border=\"1\" class=\"dataframe\">\n",
       "  <thead>\n",
       "    <tr style=\"text-align: right;\">\n",
       "      <th></th>\n",
       "      <th>Name</th>\n",
       "      <th>Probability</th>\n",
       "      <th>roc_auc</th>\n",
       "      <th>precision0</th>\n",
       "      <th>Prediction</th>\n",
       "      <th>rmse</th>\n",
       "      <th>Nb_Replicas</th>\n",
       "      <th>LFNSize</th>\n",
       "    </tr>\n",
       "  </thead>\n",
       "  <tbody>\n",
       "    <tr>\n",
       "      <th>5</th>\n",
       "      <td> /LHCb/Collision10/Beam3500GeV-VeloClosed-MagDo...</td>\n",
       "      <td> 0.019623</td>\n",
       "      <td> 0.870184</td>\n",
       "      <td> 0.880889</td>\n",
       "      <td> 0.000000</td>\n",
       "      <td>  0.000000</td>\n",
       "      <td> 3.993421</td>\n",
       "      <td> 0.066366</td>\n",
       "    </tr>\n",
       "    <tr>\n",
       "      <th>6</th>\n",
       "      <td> /LHCb/Collision10/Beam3500GeV-VeloClosed-MagDo...</td>\n",
       "      <td> 0.019887</td>\n",
       "      <td> 0.870184</td>\n",
       "      <td> 0.880889</td>\n",
       "      <td> 0.000000</td>\n",
       "      <td>  0.000000</td>\n",
       "      <td> 3.994186</td>\n",
       "      <td> 0.295318</td>\n",
       "    </tr>\n",
       "    <tr>\n",
       "      <th>1</th>\n",
       "      <td> /LHCb/Collision10/Beam3500GeV-VeloClosed-MagDo...</td>\n",
       "      <td> 0.054753</td>\n",
       "      <td> 0.870184</td>\n",
       "      <td> 0.880889</td>\n",
       "      <td> 0.000000</td>\n",
       "      <td>  0.256410</td>\n",
       "      <td> 0.004592</td>\n",
       "      <td> 2.402856</td>\n",
       "    </tr>\n",
       "    <tr>\n",
       "      <th>7</th>\n",
       "      <td> /LHCb/Collision10/Beam3500GeV-VeloClosed-MagDo...</td>\n",
       "      <td> 0.068039</td>\n",
       "      <td> 0.870184</td>\n",
       "      <td> 0.880889</td>\n",
       "      <td> 0.000000</td>\n",
       "      <td>  0.000000</td>\n",
       "      <td> 0.997183</td>\n",
       "      <td> 1.370105</td>\n",
       "    </tr>\n",
       "    <tr>\n",
       "      <th>2</th>\n",
       "      <td> /LHCb/Collision10/Beam3500GeV-VeloClosed-MagDo...</td>\n",
       "      <td> 0.077262</td>\n",
       "      <td> 0.870184</td>\n",
       "      <td> 0.880889</td>\n",
       "      <td> 0.000054</td>\n",
       "      <td> 18.919273</td>\n",
       "      <td> 0.001443</td>\n",
       "      <td> 0.085333</td>\n",
       "    </tr>\n",
       "  </tbody>\n",
       "</table>\n",
       "</div>"
      ],
      "text/plain": [
       "                                                Name  Probability   roc_auc  \\\n",
       "5  /LHCb/Collision10/Beam3500GeV-VeloClosed-MagDo...     0.019623  0.870184   \n",
       "6  /LHCb/Collision10/Beam3500GeV-VeloClosed-MagDo...     0.019887  0.870184   \n",
       "1  /LHCb/Collision10/Beam3500GeV-VeloClosed-MagDo...     0.054753  0.870184   \n",
       "7  /LHCb/Collision10/Beam3500GeV-VeloClosed-MagDo...     0.068039  0.870184   \n",
       "2  /LHCb/Collision10/Beam3500GeV-VeloClosed-MagDo...     0.077262  0.870184   \n",
       "\n",
       "   precision0  Prediction       rmse  Nb_Replicas   LFNSize  \n",
       "5    0.880889    0.000000   0.000000     3.993421  0.066366  \n",
       "6    0.880889    0.000000   0.000000     3.994186  0.295318  \n",
       "1    0.880889    0.000000   0.256410     0.004592  2.402856  \n",
       "7    0.880889    0.000000   0.000000     0.997183  1.370105  \n",
       "2    0.880889    0.000054  18.919273     0.001443  0.085333  "
      ]
     },
     "execution_count": 11,
     "metadata": {},
     "output_type": "execute_result"
    }
   ],
   "source": [
    "report = rps.clean_n_tb(n_tb=10)\n",
    "report.head()"
   ]
  },
  {
   "cell_type": "markdown",
   "metadata": {},
   "source": [
    "Combination of the long-term prediction and the short-term forecast reports.\n",
    "\n",
    "pandas.DataFrame **data**: data for the analysis."
   ]
  },
  {
   "cell_type": "code",
   "execution_count": 12,
   "metadata": {
    "collapsed": false
   },
   "outputs": [
    {
     "data": {
      "text/html": [
       "<div style=\"max-height:1000px;max-width:1500px;overflow:auto;\">\n",
       "<table border=\"1\" class=\"dataframe\">\n",
       "  <thead>\n",
       "    <tr style=\"text-align: right;\">\n",
       "      <th></th>\n",
       "      <th>Name</th>\n",
       "      <th>Probability</th>\n",
       "      <th>roc_auc</th>\n",
       "      <th>precision0</th>\n",
       "      <th>Prediction</th>\n",
       "      <th>rmse</th>\n",
       "      <th>Nb_Replicas</th>\n",
       "      <th>LFNSize</th>\n",
       "    </tr>\n",
       "  </thead>\n",
       "  <tbody>\n",
       "    <tr>\n",
       "      <th>0</th>\n",
       "      <td> /LHCb/Collision10/Beam3500GeV-VeloClosed-MagDo...</td>\n",
       "      <td> 0.587157</td>\n",
       "      <td> 0.870572</td>\n",
       "      <td> 0.879532</td>\n",
       "      <td>  6.660679</td>\n",
       "      <td> 153.429956</td>\n",
       "      <td> 2.000000</td>\n",
       "      <td> 0.317900</td>\n",
       "    </tr>\n",
       "    <tr>\n",
       "      <th>1</th>\n",
       "      <td> /LHCb/Collision10/Beam3500GeV-VeloClosed-MagDo...</td>\n",
       "      <td> 0.039410</td>\n",
       "      <td> 0.870572</td>\n",
       "      <td> 0.879532</td>\n",
       "      <td>  0.000000</td>\n",
       "      <td>   0.256410</td>\n",
       "      <td> 0.004592</td>\n",
       "      <td> 2.402856</td>\n",
       "    </tr>\n",
       "    <tr>\n",
       "      <th>2</th>\n",
       "      <td> /LHCb/Collision10/Beam3500GeV-VeloClosed-MagDo...</td>\n",
       "      <td> 0.084264</td>\n",
       "      <td> 0.870572</td>\n",
       "      <td> 0.879532</td>\n",
       "      <td>  0.000054</td>\n",
       "      <td>  18.919273</td>\n",
       "      <td> 0.001443</td>\n",
       "      <td> 0.085333</td>\n",
       "    </tr>\n",
       "    <tr>\n",
       "      <th>3</th>\n",
       "      <td> /LHCb/Collision10/Beam3500GeV-VeloClosed-MagDo...</td>\n",
       "      <td> 0.317376</td>\n",
       "      <td> 0.870572</td>\n",
       "      <td> 0.879532</td>\n",
       "      <td> 10.675200</td>\n",
       "      <td>  22.378141</td>\n",
       "      <td> 3.973568</td>\n",
       "      <td> 0.649204</td>\n",
       "    </tr>\n",
       "    <tr>\n",
       "      <th>4</th>\n",
       "      <td> /LHCb/Collision10/Beam3500GeV-VeloClosed-MagDo...</td>\n",
       "      <td> 0.338774</td>\n",
       "      <td> 0.870572</td>\n",
       "      <td> 0.879532</td>\n",
       "      <td>  0.000000</td>\n",
       "      <td>   0.000000</td>\n",
       "      <td> 3.984375</td>\n",
       "      <td> 0.803981</td>\n",
       "    </tr>\n",
       "  </tbody>\n",
       "</table>\n",
       "</div>"
      ],
      "text/plain": [
       "                                                Name  Probability   roc_auc  \\\n",
       "0  /LHCb/Collision10/Beam3500GeV-VeloClosed-MagDo...     0.587157  0.870572   \n",
       "1  /LHCb/Collision10/Beam3500GeV-VeloClosed-MagDo...     0.039410  0.870572   \n",
       "2  /LHCb/Collision10/Beam3500GeV-VeloClosed-MagDo...     0.084264  0.870572   \n",
       "3  /LHCb/Collision10/Beam3500GeV-VeloClosed-MagDo...     0.317376  0.870572   \n",
       "4  /LHCb/Collision10/Beam3500GeV-VeloClosed-MagDo...     0.338774  0.870572   \n",
       "\n",
       "   precision0  Prediction        rmse  Nb_Replicas   LFNSize  \n",
       "0    0.879532    6.660679  153.429956     2.000000  0.317900  \n",
       "1    0.879532    0.000000    0.256410     0.004592  2.402856  \n",
       "2    0.879532    0.000054   18.919273     0.001443  0.085333  \n",
       "3    0.879532   10.675200   22.378141     3.973568  0.649204  \n",
       "4    0.879532    0.000000    0.000000     3.984375  0.803981  "
      ]
     },
     "execution_count": 12,
     "metadata": {},
     "output_type": "execute_result"
    }
   ],
   "source": [
    "report = rps.get_combine_report(data)\n",
    "report.head()"
   ]
  },
  {
   "cell_type": "code",
   "execution_count": null,
   "metadata": {
    "collapsed": true
   },
   "outputs": [],
   "source": []
  }
 ],
 "metadata": {
  "kernelspec": {
   "display_name": "Python 2",
   "language": "python",
   "name": "python2"
  },
  "language_info": {
   "codemirror_mode": {
    "name": "ipython",
    "version": 2
   },
   "file_extension": ".py",
   "mimetype": "text/x-python",
   "name": "python",
   "nbconvert_exporter": "python",
   "pygments_lexer": "ipython2",
   "version": "2.7.10"
  }
 },
 "nbformat": 4,
 "nbformat_minor": 0
}
