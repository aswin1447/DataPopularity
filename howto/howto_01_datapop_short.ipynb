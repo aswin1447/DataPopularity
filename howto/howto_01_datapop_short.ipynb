{
 "cells": [
  {
   "cell_type": "markdown",
   "metadata": {},
   "source": [
    "#About"
   ]
  },
  {
   "cell_type": "markdown",
   "metadata": {},
   "source": [
    "This notebook shows how to use datapop library in a simple way."
   ]
  },
  {
   "cell_type": "code",
   "execution_count": 1,
   "metadata": {
    "collapsed": false
   },
   "outputs": [],
   "source": [
    "%matplotlib inline\n",
    "import pandas\n",
    "import numpy\n",
    "import matplotlib.pyplot as plt"
   ]
  },
  {
   "cell_type": "markdown",
   "metadata": {},
   "source": [
    "#Data"
   ]
  },
  {
   "cell_type": "code",
   "execution_count": 2,
   "metadata": {
    "collapsed": false
   },
   "outputs": [],
   "source": [
    "import pandas\n",
    "data = pandas.read_csv('data/inputs/popularity-910days.csv')"
   ]
  },
  {
   "cell_type": "markdown",
   "metadata": {
    "collapsed": true
   },
   "source": [
    "#ReplicationPlacementStrategy"
   ]
  },
  {
   "cell_type": "markdown",
   "metadata": {},
   "source": [
    "class **ReplicationPlacementStrategy** generates data replication recommendation.\n",
    "\n",
    "pandas.DataFrame **data**: data for the analysis.\n",
    "    \n",
    "int **min_replicas**: minimum number of datasets replicas. Default: 1\n",
    "        \n",
    "int **max_replicas**: maximum number of datasets replicas. Default: 7"
   ]
  },
  {
   "cell_type": "code",
   "execution_count": 3,
   "metadata": {
    "collapsed": false
   },
   "outputs": [],
   "source": [
    "from datapop import ReplicationPlacementStrategy\n",
    "rps = ReplicationPlacementStrategy(data=data, min_replicas=1, max_replicas=7)"
   ]
  },
  {
   "cell_type": "markdown",
   "metadata": {},
   "source": [
    "Recommendations for which datasets decrease number of replicas and in wich order to **save N Tb** disk space. Reduce just one replica in one step. Number of replicas for the datasets with the lowest metric value are decreased first.\n",
    "\n",
    "int **n_tb**: number of Tb wanted to save. If **None** - reduce number of replicas for all datasets. Default: None"
   ]
  },
  {
   "cell_type": "code",
   "execution_count": 4,
   "metadata": {
    "collapsed": false
   },
   "outputs": [
    {
     "data": {
      "text/html": [
       "<div style=\"max-height:1000px;max-width:1500px;overflow:auto;\">\n",
       "<table border=\"1\" class=\"dataframe\">\n",
       "  <thead>\n",
       "    <tr style=\"text-align: right;\">\n",
       "      <th></th>\n",
       "      <th>Name</th>\n",
       "      <th>Probability</th>\n",
       "      <th>roc_auc</th>\n",
       "      <th>precision0</th>\n",
       "      <th>Prediction</th>\n",
       "      <th>rmse</th>\n",
       "      <th>Nb_Replicas</th>\n",
       "      <th>LFNSize</th>\n",
       "      <th>Metric</th>\n",
       "      <th>DecreaseReplicas</th>\n",
       "    </tr>\n",
       "  </thead>\n",
       "  <tbody>\n",
       "    <tr>\n",
       "      <th>0</th>\n",
       "      <td> /MC/2011/Beam3500GeV-2011-MagUp-Nu2-Pythia6/Si...</td>\n",
       "      <td> 0.009002</td>\n",
       "      <td> 0.817979</td>\n",
       "      <td> 0.808357</td>\n",
       "      <td> 0</td>\n",
       "      <td> 0</td>\n",
       "      <td> 3</td>\n",
       "      <td> 0.018161</td>\n",
       "      <td> 0</td>\n",
       "      <td> 1</td>\n",
       "    </tr>\n",
       "    <tr>\n",
       "      <th>0</th>\n",
       "      <td> /MC/2011/Beam3500GeV-2011-MagUp-Nu2-Pythia6/Si...</td>\n",
       "      <td> 0.009002</td>\n",
       "      <td> 0.817979</td>\n",
       "      <td> 0.808357</td>\n",
       "      <td> 0</td>\n",
       "      <td> 0</td>\n",
       "      <td> 2</td>\n",
       "      <td> 0.018161</td>\n",
       "      <td> 0</td>\n",
       "      <td> 1</td>\n",
       "    </tr>\n",
       "    <tr>\n",
       "      <th>0</th>\n",
       "      <td> /MC/2012/Beam4000GeV-2012-MagDown-Nu2.5-Pythia...</td>\n",
       "      <td> 0.009002</td>\n",
       "      <td> 0.817979</td>\n",
       "      <td> 0.808357</td>\n",
       "      <td> 0</td>\n",
       "      <td> 0</td>\n",
       "      <td> 3</td>\n",
       "      <td> 0.021516</td>\n",
       "      <td> 0</td>\n",
       "      <td> 1</td>\n",
       "    </tr>\n",
       "    <tr>\n",
       "      <th>0</th>\n",
       "      <td> /MC/2012/Beam4000GeV-2012-MagDown-Nu2.5-Pythia...</td>\n",
       "      <td> 0.009002</td>\n",
       "      <td> 0.817979</td>\n",
       "      <td> 0.808357</td>\n",
       "      <td> 0</td>\n",
       "      <td> 0</td>\n",
       "      <td> 2</td>\n",
       "      <td> 0.021516</td>\n",
       "      <td> 0</td>\n",
       "      <td> 1</td>\n",
       "    </tr>\n",
       "    <tr>\n",
       "      <th>0</th>\n",
       "      <td> /MC/2012/Beam4000GeV-2012-MagDown-Nu2.5-Pythia...</td>\n",
       "      <td> 0.009002</td>\n",
       "      <td> 0.817979</td>\n",
       "      <td> 0.808357</td>\n",
       "      <td> 0</td>\n",
       "      <td> 0</td>\n",
       "      <td> 3</td>\n",
       "      <td> 0.026533</td>\n",
       "      <td> 0</td>\n",
       "      <td> 1</td>\n",
       "    </tr>\n",
       "  </tbody>\n",
       "</table>\n",
       "</div>"
      ],
      "text/plain": [
       "                                                Name  Probability   roc_auc  \\\n",
       "0  /MC/2011/Beam3500GeV-2011-MagUp-Nu2-Pythia6/Si...     0.009002  0.817979   \n",
       "0  /MC/2011/Beam3500GeV-2011-MagUp-Nu2-Pythia6/Si...     0.009002  0.817979   \n",
       "0  /MC/2012/Beam4000GeV-2012-MagDown-Nu2.5-Pythia...     0.009002  0.817979   \n",
       "0  /MC/2012/Beam4000GeV-2012-MagDown-Nu2.5-Pythia...     0.009002  0.817979   \n",
       "0  /MC/2012/Beam4000GeV-2012-MagDown-Nu2.5-Pythia...     0.009002  0.817979   \n",
       "\n",
       "   precision0  Prediction  rmse  Nb_Replicas   LFNSize  Metric  \\\n",
       "0    0.808357           0     0            3  0.018161       0   \n",
       "0    0.808357           0     0            2  0.018161       0   \n",
       "0    0.808357           0     0            3  0.021516       0   \n",
       "0    0.808357           0     0            2  0.021516       0   \n",
       "0    0.808357           0     0            3  0.026533       0   \n",
       "\n",
       "   DecreaseReplicas  \n",
       "0                 1  \n",
       "0                 1  \n",
       "0                 1  \n",
       "0                 1  \n",
       "0                 1  "
      ]
     },
     "execution_count": 4,
     "metadata": {},
     "output_type": "execute_result"
    }
   ],
   "source": [
    "report = rps.save_n_tb(n_tb=10)\n",
    "report.head()"
   ]
  },
  {
   "cell_type": "markdown",
   "metadata": {},
   "source": [
    "Recommendations for which datasets increase number of replicas and in wich order to **fill N Tb** of disk space. Add just one replica in one step. Number of replicas for the datasets with the highest metric value are increased first.\n",
    "\n",
    "int **n_tb**: number of Tb wanted to fill. If **None** - increase number of replicas for all datasets. Default: None"
   ]
  },
  {
   "cell_type": "code",
   "execution_count": 5,
   "metadata": {
    "collapsed": false
   },
   "outputs": [
    {
     "data": {
      "text/html": [
       "<div style=\"max-height:1000px;max-width:1500px;overflow:auto;\">\n",
       "<table border=\"1\" class=\"dataframe\">\n",
       "  <thead>\n",
       "    <tr style=\"text-align: right;\">\n",
       "      <th></th>\n",
       "      <th>Name</th>\n",
       "      <th>Probability</th>\n",
       "      <th>roc_auc</th>\n",
       "      <th>precision0</th>\n",
       "      <th>Prediction</th>\n",
       "      <th>rmse</th>\n",
       "      <th>Nb_Replicas</th>\n",
       "      <th>LFNSize</th>\n",
       "      <th>Metric</th>\n",
       "      <th>IncreaseReplicas</th>\n",
       "    </tr>\n",
       "  </thead>\n",
       "  <tbody>\n",
       "    <tr>\n",
       "      <th>0</th>\n",
       "      <td> /LHCb/Collision12/Beam4000GeV-VeloClosed-MagDo...</td>\n",
       "      <td> 0.86016</td>\n",
       "      <td> 0.818104</td>\n",
       "      <td> 0.811092</td>\n",
       "      <td> 116439.102564</td>\n",
       "      <td> 38776.199170</td>\n",
       "      <td> 3.985338</td>\n",
       "      <td> 29.072362</td>\n",
       "      <td> 29216.870078</td>\n",
       "      <td> 1</td>\n",
       "    </tr>\n",
       "    <tr>\n",
       "      <th>0</th>\n",
       "      <td> /LHCb/Collision12/Beam4000GeV-VeloClosed-MagUp...</td>\n",
       "      <td> 0.86016</td>\n",
       "      <td> 0.818104</td>\n",
       "      <td> 0.811092</td>\n",
       "      <td>  98721.145299</td>\n",
       "      <td> 31029.067283</td>\n",
       "      <td> 4.008043</td>\n",
       "      <td> 28.696464</td>\n",
       "      <td> 24630.760024</td>\n",
       "      <td> 1</td>\n",
       "    </tr>\n",
       "    <tr>\n",
       "      <th>0</th>\n",
       "      <td> /LHCb/Collision12/Beam4000GeV-VeloClosed-MagDo...</td>\n",
       "      <td> 0.86016</td>\n",
       "      <td> 0.818104</td>\n",
       "      <td> 0.811092</td>\n",
       "      <td> 116439.102564</td>\n",
       "      <td> 38776.199170</td>\n",
       "      <td> 4.985338</td>\n",
       "      <td> 29.072362</td>\n",
       "      <td> 23356.310558</td>\n",
       "      <td> 1</td>\n",
       "    </tr>\n",
       "  </tbody>\n",
       "</table>\n",
       "</div>"
      ],
      "text/plain": [
       "                                                Name  Probability   roc_auc  \\\n",
       "0  /LHCb/Collision12/Beam4000GeV-VeloClosed-MagDo...      0.86016  0.818104   \n",
       "0  /LHCb/Collision12/Beam4000GeV-VeloClosed-MagUp...      0.86016  0.818104   \n",
       "0  /LHCb/Collision12/Beam4000GeV-VeloClosed-MagDo...      0.86016  0.818104   \n",
       "\n",
       "   precision0     Prediction          rmse  Nb_Replicas    LFNSize  \\\n",
       "0    0.811092  116439.102564  38776.199170     3.985338  29.072362   \n",
       "0    0.811092   98721.145299  31029.067283     4.008043  28.696464   \n",
       "0    0.811092  116439.102564  38776.199170     4.985338  29.072362   \n",
       "\n",
       "         Metric  IncreaseReplicas  \n",
       "0  29216.870078                 1  \n",
       "0  24630.760024                 1  \n",
       "0  23356.310558                 1  "
      ]
     },
     "execution_count": 5,
     "metadata": {},
     "output_type": "execute_result"
    }
   ],
   "source": [
    "report = rps.fill_n_tb(n_tb=100)\n",
    "report.head()"
   ]
  },
  {
   "cell_type": "markdown",
   "metadata": {},
   "source": [
    "Recommendations for which datasets can be remove from disks and in wich order to **clean N Tb** of disk space. The datasets with the lowest probability to be accessed are removed first.\n",
    "\n",
    "int **n_tb**: number of Tb wanted to clean. If **None** - remove all datasets. Default: None"
   ]
  },
  {
   "cell_type": "code",
   "execution_count": 6,
   "metadata": {
    "collapsed": false
   },
   "outputs": [
    {
     "data": {
      "text/html": [
       "<div style=\"max-height:1000px;max-width:1500px;overflow:auto;\">\n",
       "<table border=\"1\" class=\"dataframe\">\n",
       "  <thead>\n",
       "    <tr style=\"text-align: right;\">\n",
       "      <th></th>\n",
       "      <th>Name</th>\n",
       "      <th>Probability</th>\n",
       "      <th>roc_auc</th>\n",
       "      <th>precision0</th>\n",
       "      <th>Prediction</th>\n",
       "      <th>rmse</th>\n",
       "      <th>Nb_Replicas</th>\n",
       "      <th>LFNSize</th>\n",
       "    </tr>\n",
       "  </thead>\n",
       "  <tbody>\n",
       "    <tr>\n",
       "      <th>8179</th>\n",
       "      <td> /MC/2011/Beam3500GeV-2011-MagUp-Nu2-Pythia6/Ge...</td>\n",
       "      <td> 0.008161</td>\n",
       "      <td> 0.817752</td>\n",
       "      <td> 0.812015</td>\n",
       "      <td> 0</td>\n",
       "      <td> 0</td>\n",
       "      <td> 1</td>\n",
       "      <td> 0.020774</td>\n",
       "    </tr>\n",
       "    <tr>\n",
       "      <th>8613</th>\n",
       "      <td> /MC/2012/Beam4000GeV-2012-MagUp-Nu2.5-Pythia6/...</td>\n",
       "      <td> 0.008161</td>\n",
       "      <td> 0.817752</td>\n",
       "      <td> 0.812015</td>\n",
       "      <td> 0</td>\n",
       "      <td> 0</td>\n",
       "      <td> 1</td>\n",
       "      <td> 0.013174</td>\n",
       "    </tr>\n",
       "    <tr>\n",
       "      <th>8344</th>\n",
       "      <td> /MC/2012/Beam4000GeV-2012-MagDown-Nu2.5-Pythia...</td>\n",
       "      <td> 0.008161</td>\n",
       "      <td> 0.817752</td>\n",
       "      <td> 0.812015</td>\n",
       "      <td> 0</td>\n",
       "      <td> 0</td>\n",
       "      <td> 1</td>\n",
       "      <td> 0.012778</td>\n",
       "    </tr>\n",
       "    <tr>\n",
       "      <th>8366</th>\n",
       "      <td> /MC/2012/Beam4000GeV-2012-MagDown-Nu2.5-Pythia...</td>\n",
       "      <td> 0.008161</td>\n",
       "      <td> 0.817752</td>\n",
       "      <td> 0.812015</td>\n",
       "      <td> 0</td>\n",
       "      <td> 0</td>\n",
       "      <td> 3</td>\n",
       "      <td> 0.005714</td>\n",
       "    </tr>\n",
       "    <tr>\n",
       "      <th>8901</th>\n",
       "      <td> /MC/Dev/Beam3500GeV-2011-MagUp-Fix1-NominalBea...</td>\n",
       "      <td> 0.008161</td>\n",
       "      <td> 0.817752</td>\n",
       "      <td> 0.812015</td>\n",
       "      <td> 0</td>\n",
       "      <td> 0</td>\n",
       "      <td> 1</td>\n",
       "      <td> 0.005546</td>\n",
       "    </tr>\n",
       "  </tbody>\n",
       "</table>\n",
       "</div>"
      ],
      "text/plain": [
       "                                                   Name  Probability  \\\n",
       "8179  /MC/2011/Beam3500GeV-2011-MagUp-Nu2-Pythia6/Ge...     0.008161   \n",
       "8613  /MC/2012/Beam4000GeV-2012-MagUp-Nu2.5-Pythia6/...     0.008161   \n",
       "8344  /MC/2012/Beam4000GeV-2012-MagDown-Nu2.5-Pythia...     0.008161   \n",
       "8366  /MC/2012/Beam4000GeV-2012-MagDown-Nu2.5-Pythia...     0.008161   \n",
       "8901  /MC/Dev/Beam3500GeV-2011-MagUp-Fix1-NominalBea...     0.008161   \n",
       "\n",
       "       roc_auc  precision0  Prediction  rmse  Nb_Replicas   LFNSize  \n",
       "8179  0.817752    0.812015           0     0            1  0.020774  \n",
       "8613  0.817752    0.812015           0     0            1  0.013174  \n",
       "8344  0.817752    0.812015           0     0            1  0.012778  \n",
       "8366  0.817752    0.812015           0     0            3  0.005714  \n",
       "8901  0.817752    0.812015           0     0            1  0.005546  "
      ]
     },
     "execution_count": 6,
     "metadata": {},
     "output_type": "execute_result"
    }
   ],
   "source": [
    "report = rps.clean_n_tb(n_tb=10)\n",
    "report.head()"
   ]
  },
  {
   "cell_type": "markdown",
   "metadata": {},
   "source": [
    "Combination of the long-term prediction and the short-term forecast reports.\n",
    "\n",
    "pandas.DataFrame **data**: data for the analysis."
   ]
  },
  {
   "cell_type": "code",
   "execution_count": 7,
   "metadata": {
    "collapsed": false
   },
   "outputs": [
    {
     "data": {
      "text/html": [
       "<div style=\"max-height:1000px;max-width:1500px;overflow:auto;\">\n",
       "<table border=\"1\" class=\"dataframe\">\n",
       "  <thead>\n",
       "    <tr style=\"text-align: right;\">\n",
       "      <th></th>\n",
       "      <th>Name</th>\n",
       "      <th>Probability</th>\n",
       "      <th>roc_auc</th>\n",
       "      <th>precision0</th>\n",
       "      <th>Prediction</th>\n",
       "      <th>rmse</th>\n",
       "      <th>Nb_Replicas</th>\n",
       "      <th>LFNSize</th>\n",
       "    </tr>\n",
       "  </thead>\n",
       "  <tbody>\n",
       "    <tr>\n",
       "      <th>0</th>\n",
       "      <td> /LHCb/Collision10/Beam3500GeV-VeloClosed-MagDo...</td>\n",
       "      <td> 0.468589</td>\n",
       "      <td> 0.817803</td>\n",
       "      <td> 0.810964</td>\n",
       "      <td> 99.138462</td>\n",
       "      <td> 133.158600</td>\n",
       "      <td> 2.000000</td>\n",
       "      <td> 0.317900</td>\n",
       "    </tr>\n",
       "    <tr>\n",
       "      <th>1</th>\n",
       "      <td> /LHCb/Collision10/Beam3500GeV-VeloClosed-MagDo...</td>\n",
       "      <td> 0.072328</td>\n",
       "      <td> 0.817803</td>\n",
       "      <td> 0.810964</td>\n",
       "      <td> 43.746154</td>\n",
       "      <td> 130.982252</td>\n",
       "      <td> 0.004592</td>\n",
       "      <td> 2.402856</td>\n",
       "    </tr>\n",
       "    <tr>\n",
       "      <th>2</th>\n",
       "      <td> /LHCb/Collision10/Beam3500GeV-VeloClosed-MagDo...</td>\n",
       "      <td> 0.061695</td>\n",
       "      <td> 0.817803</td>\n",
       "      <td> 0.810964</td>\n",
       "      <td> 16.515385</td>\n",
       "      <td>  33.867127</td>\n",
       "      <td> 0.001443</td>\n",
       "      <td> 0.085333</td>\n",
       "    </tr>\n",
       "    <tr>\n",
       "      <th>3</th>\n",
       "      <td> /LHCb/Collision10/Beam3500GeV-VeloClosed-MagDo...</td>\n",
       "      <td> 0.230931</td>\n",
       "      <td> 0.817803</td>\n",
       "      <td> 0.810964</td>\n",
       "      <td> 12.546154</td>\n",
       "      <td>  19.818181</td>\n",
       "      <td> 3.973568</td>\n",
       "      <td> 0.649204</td>\n",
       "    </tr>\n",
       "    <tr>\n",
       "      <th>4</th>\n",
       "      <td> /LHCb/Collision10/Beam3500GeV-VeloClosed-MagDo...</td>\n",
       "      <td> 0.131098</td>\n",
       "      <td> 0.817803</td>\n",
       "      <td> 0.810964</td>\n",
       "      <td>  4.115385</td>\n",
       "      <td>  12.346154</td>\n",
       "      <td> 3.984375</td>\n",
       "      <td> 0.803981</td>\n",
       "    </tr>\n",
       "  </tbody>\n",
       "</table>\n",
       "</div>"
      ],
      "text/plain": [
       "                                                Name  Probability   roc_auc  \\\n",
       "0  /LHCb/Collision10/Beam3500GeV-VeloClosed-MagDo...     0.468589  0.817803   \n",
       "1  /LHCb/Collision10/Beam3500GeV-VeloClosed-MagDo...     0.072328  0.817803   \n",
       "2  /LHCb/Collision10/Beam3500GeV-VeloClosed-MagDo...     0.061695  0.817803   \n",
       "3  /LHCb/Collision10/Beam3500GeV-VeloClosed-MagDo...     0.230931  0.817803   \n",
       "4  /LHCb/Collision10/Beam3500GeV-VeloClosed-MagDo...     0.131098  0.817803   \n",
       "\n",
       "   precision0  Prediction        rmse  Nb_Replicas   LFNSize  \n",
       "0    0.810964   99.138462  133.158600     2.000000  0.317900  \n",
       "1    0.810964   43.746154  130.982252     0.004592  2.402856  \n",
       "2    0.810964   16.515385   33.867127     0.001443  0.085333  \n",
       "3    0.810964   12.546154   19.818181     3.973568  0.649204  \n",
       "4    0.810964    4.115385   12.346154     3.984375  0.803981  "
      ]
     },
     "execution_count": 7,
     "metadata": {},
     "output_type": "execute_result"
    }
   ],
   "source": [
    "report = rps.get_combine_report(data)\n",
    "report.head()"
   ]
  },
  {
   "cell_type": "markdown",
   "metadata": {
    "collapsed": true
   },
   "source": [
    "Combination of the long-term prediction and the short-term forecast reports with dataset features.\n",
    "\n",
    "pandas.DataFrame **data**: data for the analysis."
   ]
  },
  {
   "cell_type": "code",
   "execution_count": 8,
   "metadata": {
    "collapsed": false
   },
   "outputs": [
    {
     "data": {
      "text/html": [
       "<div style=\"max-height:1000px;max-width:1500px;overflow:auto;\">\n",
       "<table border=\"1\" class=\"dataframe\">\n",
       "  <thead>\n",
       "    <tr style=\"text-align: right;\">\n",
       "      <th></th>\n",
       "      <th>Name</th>\n",
       "      <th>Probability</th>\n",
       "      <th>roc_auc</th>\n",
       "      <th>precision0</th>\n",
       "      <th>Prediction</th>\n",
       "      <th>rmse</th>\n",
       "      <th>Nb_Replicas</th>\n",
       "      <th>LFNSize</th>\n",
       "      <th>recency</th>\n",
       "      <th>reuse_distance</th>\n",
       "      <th>first_used</th>\n",
       "      <th>creation</th>\n",
       "      <th>frequency</th>\n",
       "      <th>frequency_week</th>\n",
       "      <th>type</th>\n",
       "      <th>extentions</th>\n",
       "      <th>size</th>\n",
       "      <th>nblfn</th>\n",
       "    </tr>\n",
       "  </thead>\n",
       "  <tbody>\n",
       "    <tr>\n",
       "      <th>0</th>\n",
       "      <td> /LHCb/Collision10/Beam3500GeV-VeloClosed-MagDo...</td>\n",
       "      <td> 0.478415</td>\n",
       "      <td> 0.818284</td>\n",
       "      <td> 0.811681</td>\n",
       "      <td> 99.138462</td>\n",
       "      <td> 133.158600</td>\n",
       "      <td> 2.000000</td>\n",
       "      <td> 0.317900</td>\n",
       "      <td>  10</td>\n",
       "      <td>  14</td>\n",
       "      <td> 118</td>\n",
       "      <td> 197</td>\n",
       "      <td> 2122</td>\n",
       "      <td> 6</td>\n",
       "      <td> 1</td>\n",
       "      <td> 1</td>\n",
       "      <td> 0.317900</td>\n",
       "      <td>  67</td>\n",
       "    </tr>\n",
       "    <tr>\n",
       "      <th>1</th>\n",
       "      <td> /LHCb/Collision10/Beam3500GeV-VeloClosed-MagDo...</td>\n",
       "      <td> 0.074194</td>\n",
       "      <td> 0.818284</td>\n",
       "      <td> 0.811681</td>\n",
       "      <td> 43.746154</td>\n",
       "      <td> 130.982252</td>\n",
       "      <td> 0.004592</td>\n",
       "      <td> 2.402856</td>\n",
       "      <td> 113</td>\n",
       "      <td>  12</td>\n",
       "      <td> 129</td>\n",
       "      <td> 220</td>\n",
       "      <td>    0</td>\n",
       "      <td> 0</td>\n",
       "      <td> 1</td>\n",
       "      <td> 1</td>\n",
       "      <td> 2.402856</td>\n",
       "      <td> 871</td>\n",
       "    </tr>\n",
       "    <tr>\n",
       "      <th>2</th>\n",
       "      <td> /LHCb/Collision10/Beam3500GeV-VeloClosed-MagDo...</td>\n",
       "      <td> 0.059725</td>\n",
       "      <td> 0.818284</td>\n",
       "      <td> 0.811681</td>\n",
       "      <td> 16.515385</td>\n",
       "      <td>  33.867127</td>\n",
       "      <td> 0.001443</td>\n",
       "      <td> 0.085333</td>\n",
       "      <td>  75</td>\n",
       "      <td>  27</td>\n",
       "      <td> 113</td>\n",
       "      <td> 220</td>\n",
       "      <td>    0</td>\n",
       "      <td> 0</td>\n",
       "      <td> 1</td>\n",
       "      <td> 1</td>\n",
       "      <td> 0.085333</td>\n",
       "      <td> 693</td>\n",
       "    </tr>\n",
       "    <tr>\n",
       "      <th>3</th>\n",
       "      <td> /LHCb/Collision10/Beam3500GeV-VeloClosed-MagDo...</td>\n",
       "      <td> 0.226111</td>\n",
       "      <td> 0.818284</td>\n",
       "      <td> 0.811681</td>\n",
       "      <td> 12.546154</td>\n",
       "      <td>  19.818181</td>\n",
       "      <td> 3.973568</td>\n",
       "      <td> 0.649204</td>\n",
       "      <td>  35</td>\n",
       "      <td>   1</td>\n",
       "      <td> 112</td>\n",
       "      <td> 192</td>\n",
       "      <td> 1177</td>\n",
       "      <td> 6</td>\n",
       "      <td> 1</td>\n",
       "      <td> 1</td>\n",
       "      <td> 0.649204</td>\n",
       "      <td> 227</td>\n",
       "    </tr>\n",
       "    <tr>\n",
       "      <th>4</th>\n",
       "      <td> /LHCb/Collision10/Beam3500GeV-VeloClosed-MagDo...</td>\n",
       "      <td> 0.127448</td>\n",
       "      <td> 0.818284</td>\n",
       "      <td> 0.811681</td>\n",
       "      <td>  4.115385</td>\n",
       "      <td>  12.346154</td>\n",
       "      <td> 3.984375</td>\n",
       "      <td> 0.803981</td>\n",
       "      <td>  48</td>\n",
       "      <td> 999</td>\n",
       "      <td>  48</td>\n",
       "      <td> 192</td>\n",
       "      <td>  535</td>\n",
       "      <td> 1</td>\n",
       "      <td> 1</td>\n",
       "      <td> 1</td>\n",
       "      <td> 0.803981</td>\n",
       "      <td> 256</td>\n",
       "    </tr>\n",
       "  </tbody>\n",
       "</table>\n",
       "</div>"
      ],
      "text/plain": [
       "                                                Name  Probability   roc_auc  \\\n",
       "0  /LHCb/Collision10/Beam3500GeV-VeloClosed-MagDo...     0.478415  0.818284   \n",
       "1  /LHCb/Collision10/Beam3500GeV-VeloClosed-MagDo...     0.074194  0.818284   \n",
       "2  /LHCb/Collision10/Beam3500GeV-VeloClosed-MagDo...     0.059725  0.818284   \n",
       "3  /LHCb/Collision10/Beam3500GeV-VeloClosed-MagDo...     0.226111  0.818284   \n",
       "4  /LHCb/Collision10/Beam3500GeV-VeloClosed-MagDo...     0.127448  0.818284   \n",
       "\n",
       "   precision0  Prediction        rmse  Nb_Replicas   LFNSize  recency  \\\n",
       "0    0.811681   99.138462  133.158600     2.000000  0.317900       10   \n",
       "1    0.811681   43.746154  130.982252     0.004592  2.402856      113   \n",
       "2    0.811681   16.515385   33.867127     0.001443  0.085333       75   \n",
       "3    0.811681   12.546154   19.818181     3.973568  0.649204       35   \n",
       "4    0.811681    4.115385   12.346154     3.984375  0.803981       48   \n",
       "\n",
       "   reuse_distance  first_used  creation  frequency  frequency_week  type  \\\n",
       "0              14         118       197       2122               6     1   \n",
       "1              12         129       220          0               0     1   \n",
       "2              27         113       220          0               0     1   \n",
       "3               1         112       192       1177               6     1   \n",
       "4             999          48       192        535               1     1   \n",
       "\n",
       "   extentions      size  nblfn  \n",
       "0           1  0.317900     67  \n",
       "1           1  2.402856    871  \n",
       "2           1  0.085333    693  \n",
       "3           1  0.649204    227  \n",
       "4           1  0.803981    256  "
      ]
     },
     "execution_count": 8,
     "metadata": {},
     "output_type": "execute_result"
    }
   ],
   "source": [
    "report = rps.get_full_combine_report(data)\n",
    "report.head()"
   ]
  },
  {
   "cell_type": "code",
   "execution_count": null,
   "metadata": {
    "collapsed": true
   },
   "outputs": [],
   "source": []
  }
 ],
 "metadata": {
  "kernelspec": {
   "display_name": "Python 2",
   "language": "python",
   "name": "python2"
  },
  "language_info": {
   "codemirror_mode": {
    "name": "ipython",
    "version": 2
   },
   "file_extension": ".py",
   "mimetype": "text/x-python",
   "name": "python",
   "nbconvert_exporter": "python",
   "pygments_lexer": "ipython2",
   "version": "2.7.10"
  }
 },
 "nbformat": 4,
 "nbformat_minor": 0
}
