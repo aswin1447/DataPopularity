{
 "cells": [
  {
   "cell_type": "markdown",
   "metadata": {},
   "source": [
    "#About"
   ]
  },
  {
   "cell_type": "markdown",
   "metadata": {},
   "source": [
    "This notebook shows how to use datapop library in a simple way."
   ]
  },
  {
   "cell_type": "code",
   "execution_count": 1,
   "metadata": {
    "collapsed": false
   },
   "outputs": [],
   "source": [
    "%matplotlib inline\n",
    "import pandas\n",
    "import numpy\n",
    "import matplotlib.pyplot as plt"
   ]
  },
  {
   "cell_type": "markdown",
   "metadata": {},
   "source": [
    "#Data"
   ]
  },
  {
   "cell_type": "code",
   "execution_count": 2,
   "metadata": {
    "collapsed": false
   },
   "outputs": [],
   "source": [
    "import pandas\n",
    "data = pandas.read_csv('data/inputs/popularity-910days.csv')"
   ]
  },
  {
   "cell_type": "markdown",
   "metadata": {
    "collapsed": true
   },
   "source": [
    "#ReplicationPlacementStrategy"
   ]
  },
  {
   "cell_type": "markdown",
   "metadata": {},
   "source": [
    "class **ReplicationPlacementStrategy** generates data replication recommendation.\n",
    "\n",
    "pandas.DataFrame **data**: data for the analysis.\n",
    "    \n",
    "int **min_replicas**: minimum number of datasets replicas. Default: 1\n",
    "        \n",
    "int **max_replicas**: maximum number of datasets replicas. Default: 7"
   ]
  },
  {
   "cell_type": "code",
   "execution_count": 3,
   "metadata": {
    "collapsed": false
   },
   "outputs": [],
   "source": [
    "from datapop import ReplicationPlacementStrategy\n",
    "rps = ReplicationPlacementStrategy(data=data, min_replicas=1, max_replicas=7)"
   ]
  },
  {
   "cell_type": "markdown",
   "metadata": {},
   "source": [
    "Recommendations for which datasets decrease number of replicas and in wich order to **save N Tb** disk space. Reduce just one replica in one step. Number of replicas for the datasets with the lowest metric value are decreased first.\n",
    "\n",
    "int **n_tb**: number of Tb wanted to save. If **None** - reduce number of replicas for all datasets. Default: None"
   ]
  },
  {
   "cell_type": "code",
   "execution_count": 4,
   "metadata": {
    "collapsed": false
   },
   "outputs": [
    {
     "data": {
      "text/html": [
       "<div style=\"max-height:1000px;max-width:1500px;overflow:auto;\">\n",
       "<table border=\"1\" class=\"dataframe\">\n",
       "  <thead>\n",
       "    <tr style=\"text-align: right;\">\n",
       "      <th></th>\n",
       "      <th>Name</th>\n",
       "      <th>Probability</th>\n",
       "      <th>roc_auc</th>\n",
       "      <th>precision0</th>\n",
       "      <th>Prediction</th>\n",
       "      <th>rmse</th>\n",
       "      <th>Nb_Replicas</th>\n",
       "      <th>LFNSize</th>\n",
       "      <th>Metric</th>\n",
       "      <th>DecreaseReplicas</th>\n",
       "    </tr>\n",
       "  </thead>\n",
       "  <tbody>\n",
       "    <tr>\n",
       "      <th>0</th>\n",
       "      <td> /LHCb/Collision11/Beam3500GeV-VeloClosed-MagDo...</td>\n",
       "      <td> 0.000468</td>\n",
       "      <td> 0.871852</td>\n",
       "      <td> 0.881211</td>\n",
       "      <td> 0</td>\n",
       "      <td> 0</td>\n",
       "      <td> 4.162791</td>\n",
       "      <td> 0.204121</td>\n",
       "      <td> 0</td>\n",
       "      <td> 1</td>\n",
       "    </tr>\n",
       "    <tr>\n",
       "      <th>0</th>\n",
       "      <td> /LHCb/Collision11/Beam3500GeV-VeloClosed-MagDo...</td>\n",
       "      <td> 0.000468</td>\n",
       "      <td> 0.871852</td>\n",
       "      <td> 0.881211</td>\n",
       "      <td> 0</td>\n",
       "      <td> 0</td>\n",
       "      <td> 3.162791</td>\n",
       "      <td> 0.204121</td>\n",
       "      <td> 0</td>\n",
       "      <td> 1</td>\n",
       "    </tr>\n",
       "    <tr>\n",
       "      <th>0</th>\n",
       "      <td> /LHCb/Collision11/Beam3500GeV-VeloClosed-MagDo...</td>\n",
       "      <td> 0.000468</td>\n",
       "      <td> 0.871852</td>\n",
       "      <td> 0.881211</td>\n",
       "      <td> 0</td>\n",
       "      <td> 0</td>\n",
       "      <td> 2.162791</td>\n",
       "      <td> 0.204121</td>\n",
       "      <td> 0</td>\n",
       "      <td> 1</td>\n",
       "    </tr>\n",
       "    <tr>\n",
       "      <th>0</th>\n",
       "      <td> /LHCb/Collision11/Beam3500GeV-VeloClosed-MagUp...</td>\n",
       "      <td> 0.000468</td>\n",
       "      <td> 0.871852</td>\n",
       "      <td> 0.881211</td>\n",
       "      <td> 0</td>\n",
       "      <td> 0</td>\n",
       "      <td> 4.187500</td>\n",
       "      <td> 0.146613</td>\n",
       "      <td> 0</td>\n",
       "      <td> 1</td>\n",
       "    </tr>\n",
       "    <tr>\n",
       "      <th>0</th>\n",
       "      <td> /LHCb/Collision11/Beam3500GeV-VeloClosed-MagUp...</td>\n",
       "      <td> 0.000468</td>\n",
       "      <td> 0.871852</td>\n",
       "      <td> 0.881211</td>\n",
       "      <td> 0</td>\n",
       "      <td> 0</td>\n",
       "      <td> 3.187500</td>\n",
       "      <td> 0.146613</td>\n",
       "      <td> 0</td>\n",
       "      <td> 1</td>\n",
       "    </tr>\n",
       "  </tbody>\n",
       "</table>\n",
       "</div>"
      ],
      "text/plain": [
       "                                                Name  Probability   roc_auc  \\\n",
       "0  /LHCb/Collision11/Beam3500GeV-VeloClosed-MagDo...     0.000468  0.871852   \n",
       "0  /LHCb/Collision11/Beam3500GeV-VeloClosed-MagDo...     0.000468  0.871852   \n",
       "0  /LHCb/Collision11/Beam3500GeV-VeloClosed-MagDo...     0.000468  0.871852   \n",
       "0  /LHCb/Collision11/Beam3500GeV-VeloClosed-MagUp...     0.000468  0.871852   \n",
       "0  /LHCb/Collision11/Beam3500GeV-VeloClosed-MagUp...     0.000468  0.871852   \n",
       "\n",
       "   precision0  Prediction  rmse  Nb_Replicas   LFNSize  Metric  \\\n",
       "0    0.881211           0     0     4.162791  0.204121       0   \n",
       "0    0.881211           0     0     3.162791  0.204121       0   \n",
       "0    0.881211           0     0     2.162791  0.204121       0   \n",
       "0    0.881211           0     0     4.187500  0.146613       0   \n",
       "0    0.881211           0     0     3.187500  0.146613       0   \n",
       "\n",
       "   DecreaseReplicas  \n",
       "0                 1  \n",
       "0                 1  \n",
       "0                 1  \n",
       "0                 1  \n",
       "0                 1  "
      ]
     },
     "execution_count": 4,
     "metadata": {},
     "output_type": "execute_result"
    }
   ],
   "source": [
    "report = rps.save_n_tb(n_tb=10)\n",
    "report.head()"
   ]
  },
  {
   "cell_type": "markdown",
   "metadata": {},
   "source": [
    "Recommendations for which datasets increase number of replicas and in wich order to **fill N Tb** of disk space. Add just one replica in one step. Number of replicas for the datasets with the highest metric value are increased first.\n",
    "\n",
    "int **n_tb**: number of Tb wanted to fill. If **None** - increase number of replicas for all datasets. Default: None"
   ]
  },
  {
   "cell_type": "code",
   "execution_count": 5,
   "metadata": {
    "collapsed": false
   },
   "outputs": [
    {
     "data": {
      "text/html": [
       "<div style=\"max-height:1000px;max-width:1500px;overflow:auto;\">\n",
       "<table border=\"1\" class=\"dataframe\">\n",
       "  <thead>\n",
       "    <tr style=\"text-align: right;\">\n",
       "      <th></th>\n",
       "      <th>Name</th>\n",
       "      <th>Probability</th>\n",
       "      <th>roc_auc</th>\n",
       "      <th>precision0</th>\n",
       "      <th>Prediction</th>\n",
       "      <th>rmse</th>\n",
       "      <th>Nb_Replicas</th>\n",
       "      <th>LFNSize</th>\n",
       "      <th>Metric</th>\n",
       "      <th>IncreaseReplicas</th>\n",
       "    </tr>\n",
       "  </thead>\n",
       "  <tbody>\n",
       "    <tr>\n",
       "      <th>0</th>\n",
       "      <td> /LHCb/Collision12/Beam4000GeV-VeloClosed-MagDo...</td>\n",
       "      <td> 0.894488</td>\n",
       "      <td> 0.870367</td>\n",
       "      <td> 0.878102</td>\n",
       "      <td> 90368.930288</td>\n",
       "      <td> 38158.044273</td>\n",
       "      <td> 3.985338</td>\n",
       "      <td> 29.072362</td>\n",
       "      <td> 22675.349064</td>\n",
       "      <td> 1</td>\n",
       "    </tr>\n",
       "    <tr>\n",
       "      <th>0</th>\n",
       "      <td> /LHCb/Collision12/Beam4000GeV-VeloClosed-MagUp...</td>\n",
       "      <td> 0.894488</td>\n",
       "      <td> 0.870367</td>\n",
       "      <td> 0.878102</td>\n",
       "      <td> 86111.981671</td>\n",
       "      <td> 31571.521761</td>\n",
       "      <td> 4.008043</td>\n",
       "      <td> 28.696464</td>\n",
       "      <td> 21484.794866</td>\n",
       "      <td> 1</td>\n",
       "    </tr>\n",
       "    <tr>\n",
       "      <th>0</th>\n",
       "      <td> /LHCb/Collision12/Beam4000GeV-VeloClosed-MagDo...</td>\n",
       "      <td> 0.894488</td>\n",
       "      <td> 0.870367</td>\n",
       "      <td> 0.878102</td>\n",
       "      <td> 90368.930288</td>\n",
       "      <td> 38158.044273</td>\n",
       "      <td> 4.985338</td>\n",
       "      <td> 29.072362</td>\n",
       "      <td> 18126.941501</td>\n",
       "      <td> 1</td>\n",
       "    </tr>\n",
       "  </tbody>\n",
       "</table>\n",
       "</div>"
      ],
      "text/plain": [
       "                                                Name  Probability   roc_auc  \\\n",
       "0  /LHCb/Collision12/Beam4000GeV-VeloClosed-MagDo...     0.894488  0.870367   \n",
       "0  /LHCb/Collision12/Beam4000GeV-VeloClosed-MagUp...     0.894488  0.870367   \n",
       "0  /LHCb/Collision12/Beam4000GeV-VeloClosed-MagDo...     0.894488  0.870367   \n",
       "\n",
       "   precision0    Prediction          rmse  Nb_Replicas    LFNSize  \\\n",
       "0    0.878102  90368.930288  38158.044273     3.985338  29.072362   \n",
       "0    0.878102  86111.981671  31571.521761     4.008043  28.696464   \n",
       "0    0.878102  90368.930288  38158.044273     4.985338  29.072362   \n",
       "\n",
       "         Metric  IncreaseReplicas  \n",
       "0  22675.349064                 1  \n",
       "0  21484.794866                 1  \n",
       "0  18126.941501                 1  "
      ]
     },
     "execution_count": 5,
     "metadata": {},
     "output_type": "execute_result"
    }
   ],
   "source": [
    "report = rps.fill_n_tb(n_tb=100)\n",
    "report.head()"
   ]
  },
  {
   "cell_type": "markdown",
   "metadata": {},
   "source": [
    "Recommendations for which datasets can be remove from disks and in wich order to **clean N Tb** of disk space. The datasets with the lowest probability to be accessed are removed first.\n",
    "\n",
    "int **n_tb**: number of Tb wanted to clean. If **None** - remove all datasets. Default: None"
   ]
  },
  {
   "cell_type": "code",
   "execution_count": 6,
   "metadata": {
    "collapsed": false
   },
   "outputs": [
    {
     "data": {
      "text/html": [
       "<div style=\"max-height:1000px;max-width:1500px;overflow:auto;\">\n",
       "<table border=\"1\" class=\"dataframe\">\n",
       "  <thead>\n",
       "    <tr style=\"text-align: right;\">\n",
       "      <th></th>\n",
       "      <th>Name</th>\n",
       "      <th>Probability</th>\n",
       "      <th>roc_auc</th>\n",
       "      <th>precision0</th>\n",
       "      <th>Prediction</th>\n",
       "      <th>rmse</th>\n",
       "      <th>Nb_Replicas</th>\n",
       "      <th>LFNSize</th>\n",
       "    </tr>\n",
       "  </thead>\n",
       "  <tbody>\n",
       "    <tr>\n",
       "      <th>8428</th>\n",
       "      <td> /MC/2012/Beam4000GeV-2012-MagDown-Nu2.5-Pythia...</td>\n",
       "      <td> 0.000427</td>\n",
       "      <td> 0.871252</td>\n",
       "      <td> 0.88008</td>\n",
       "      <td> 0</td>\n",
       "      <td> 0</td>\n",
       "      <td> 1</td>\n",
       "      <td> 0.037904</td>\n",
       "    </tr>\n",
       "    <tr>\n",
       "      <th>8827</th>\n",
       "      <td> /MC/2012/Beam4000GeV-2012-MagUp-Nu2.5-Pythia8/...</td>\n",
       "      <td> 0.000427</td>\n",
       "      <td> 0.871252</td>\n",
       "      <td> 0.88008</td>\n",
       "      <td> 0</td>\n",
       "      <td> 0</td>\n",
       "      <td> 1</td>\n",
       "      <td> 0.033392</td>\n",
       "    </tr>\n",
       "    <tr>\n",
       "      <th>8832</th>\n",
       "      <td> /MC/2012/Beam4000GeV-2012-MagUp-Nu2.5-Pythia8/...</td>\n",
       "      <td> 0.000427</td>\n",
       "      <td> 0.871252</td>\n",
       "      <td> 0.88008</td>\n",
       "      <td> 0</td>\n",
       "      <td> 0</td>\n",
       "      <td> 1</td>\n",
       "      <td> 0.033680</td>\n",
       "    </tr>\n",
       "    <tr>\n",
       "      <th>7968</th>\n",
       "      <td> /MC/2011/Beam3500GeV-2011-MagUp-Nu2-Pythia8/Ge...</td>\n",
       "      <td> 0.000435</td>\n",
       "      <td> 0.871252</td>\n",
       "      <td> 0.88008</td>\n",
       "      <td> 0</td>\n",
       "      <td> 0</td>\n",
       "      <td> 1</td>\n",
       "      <td> 0.000120</td>\n",
       "    </tr>\n",
       "    <tr>\n",
       "      <th>7969</th>\n",
       "      <td> /MC/2011/Beam3500GeV-2011-MagUp-Nu2-Pythia8/Ge...</td>\n",
       "      <td> 0.000435</td>\n",
       "      <td> 0.871252</td>\n",
       "      <td> 0.88008</td>\n",
       "      <td> 0</td>\n",
       "      <td> 0</td>\n",
       "      <td> 1</td>\n",
       "      <td> 0.000123</td>\n",
       "    </tr>\n",
       "  </tbody>\n",
       "</table>\n",
       "</div>"
      ],
      "text/plain": [
       "                                                   Name  Probability  \\\n",
       "8428  /MC/2012/Beam4000GeV-2012-MagDown-Nu2.5-Pythia...     0.000427   \n",
       "8827  /MC/2012/Beam4000GeV-2012-MagUp-Nu2.5-Pythia8/...     0.000427   \n",
       "8832  /MC/2012/Beam4000GeV-2012-MagUp-Nu2.5-Pythia8/...     0.000427   \n",
       "7968  /MC/2011/Beam3500GeV-2011-MagUp-Nu2-Pythia8/Ge...     0.000435   \n",
       "7969  /MC/2011/Beam3500GeV-2011-MagUp-Nu2-Pythia8/Ge...     0.000435   \n",
       "\n",
       "       roc_auc  precision0  Prediction  rmse  Nb_Replicas   LFNSize  \n",
       "8428  0.871252     0.88008           0     0            1  0.037904  \n",
       "8827  0.871252     0.88008           0     0            1  0.033392  \n",
       "8832  0.871252     0.88008           0     0            1  0.033680  \n",
       "7968  0.871252     0.88008           0     0            1  0.000120  \n",
       "7969  0.871252     0.88008           0     0            1  0.000123  "
      ]
     },
     "execution_count": 6,
     "metadata": {},
     "output_type": "execute_result"
    }
   ],
   "source": [
    "report = rps.clean_n_tb(n_tb=10)\n",
    "report.head()"
   ]
  },
  {
   "cell_type": "markdown",
   "metadata": {},
   "source": [
    "Combination of the long-term prediction and the short-term forecast reports.\n",
    "\n",
    "pandas.DataFrame **data**: data for the analysis."
   ]
  },
  {
   "cell_type": "code",
   "execution_count": 7,
   "metadata": {
    "collapsed": false
   },
   "outputs": [
    {
     "data": {
      "text/html": [
       "<div style=\"max-height:1000px;max-width:1500px;overflow:auto;\">\n",
       "<table border=\"1\" class=\"dataframe\">\n",
       "  <thead>\n",
       "    <tr style=\"text-align: right;\">\n",
       "      <th></th>\n",
       "      <th>Name</th>\n",
       "      <th>Probability</th>\n",
       "      <th>roc_auc</th>\n",
       "      <th>precision0</th>\n",
       "      <th>Prediction</th>\n",
       "      <th>rmse</th>\n",
       "      <th>Nb_Replicas</th>\n",
       "      <th>LFNSize</th>\n",
       "    </tr>\n",
       "  </thead>\n",
       "  <tbody>\n",
       "    <tr>\n",
       "      <th>0</th>\n",
       "      <td> /LHCb/Collision10/Beam3500GeV-VeloClosed-MagDo...</td>\n",
       "      <td> 0.575450</td>\n",
       "      <td> 0.871351</td>\n",
       "      <td> 0.881032</td>\n",
       "      <td>  6.660679</td>\n",
       "      <td> 153.429956</td>\n",
       "      <td> 2.000000</td>\n",
       "      <td> 0.317900</td>\n",
       "    </tr>\n",
       "    <tr>\n",
       "      <th>1</th>\n",
       "      <td> /LHCb/Collision10/Beam3500GeV-VeloClosed-MagDo...</td>\n",
       "      <td> 0.047044</td>\n",
       "      <td> 0.871351</td>\n",
       "      <td> 0.881032</td>\n",
       "      <td>  0.000000</td>\n",
       "      <td>   0.256410</td>\n",
       "      <td> 0.004592</td>\n",
       "      <td> 2.402856</td>\n",
       "    </tr>\n",
       "    <tr>\n",
       "      <th>2</th>\n",
       "      <td> /LHCb/Collision10/Beam3500GeV-VeloClosed-MagDo...</td>\n",
       "      <td> 0.076623</td>\n",
       "      <td> 0.871351</td>\n",
       "      <td> 0.881032</td>\n",
       "      <td>  0.000054</td>\n",
       "      <td>  18.919273</td>\n",
       "      <td> 0.001443</td>\n",
       "      <td> 0.085333</td>\n",
       "    </tr>\n",
       "    <tr>\n",
       "      <th>3</th>\n",
       "      <td> /LHCb/Collision10/Beam3500GeV-VeloClosed-MagDo...</td>\n",
       "      <td> 0.307749</td>\n",
       "      <td> 0.871351</td>\n",
       "      <td> 0.881032</td>\n",
       "      <td> 10.675200</td>\n",
       "      <td>  22.378141</td>\n",
       "      <td> 3.973568</td>\n",
       "      <td> 0.649204</td>\n",
       "    </tr>\n",
       "    <tr>\n",
       "      <th>4</th>\n",
       "      <td> /LHCb/Collision10/Beam3500GeV-VeloClosed-MagDo...</td>\n",
       "      <td> 0.333904</td>\n",
       "      <td> 0.871351</td>\n",
       "      <td> 0.881032</td>\n",
       "      <td>  0.000000</td>\n",
       "      <td>   0.000000</td>\n",
       "      <td> 3.984375</td>\n",
       "      <td> 0.803981</td>\n",
       "    </tr>\n",
       "  </tbody>\n",
       "</table>\n",
       "</div>"
      ],
      "text/plain": [
       "                                                Name  Probability   roc_auc  \\\n",
       "0  /LHCb/Collision10/Beam3500GeV-VeloClosed-MagDo...     0.575450  0.871351   \n",
       "1  /LHCb/Collision10/Beam3500GeV-VeloClosed-MagDo...     0.047044  0.871351   \n",
       "2  /LHCb/Collision10/Beam3500GeV-VeloClosed-MagDo...     0.076623  0.871351   \n",
       "3  /LHCb/Collision10/Beam3500GeV-VeloClosed-MagDo...     0.307749  0.871351   \n",
       "4  /LHCb/Collision10/Beam3500GeV-VeloClosed-MagDo...     0.333904  0.871351   \n",
       "\n",
       "   precision0  Prediction        rmse  Nb_Replicas   LFNSize  \n",
       "0    0.881032    6.660679  153.429956     2.000000  0.317900  \n",
       "1    0.881032    0.000000    0.256410     0.004592  2.402856  \n",
       "2    0.881032    0.000054   18.919273     0.001443  0.085333  \n",
       "3    0.881032   10.675200   22.378141     3.973568  0.649204  \n",
       "4    0.881032    0.000000    0.000000     3.984375  0.803981  "
      ]
     },
     "execution_count": 7,
     "metadata": {},
     "output_type": "execute_result"
    }
   ],
   "source": [
    "report = rps.get_combine_report(data)\n",
    "report.head()"
   ]
  },
  {
   "cell_type": "markdown",
   "metadata": {
    "collapsed": true
   },
   "source": [
    "Combination of the long-term prediction and the short-term forecast reports with dataset features.\n",
    "\n",
    "pandas.DataFrame **data**: data for the analysis."
   ]
  },
  {
   "cell_type": "code",
   "execution_count": 8,
   "metadata": {
    "collapsed": false
   },
   "outputs": [
    {
     "data": {
      "text/html": [
       "<div style=\"max-height:1000px;max-width:1500px;overflow:auto;\">\n",
       "<table border=\"1\" class=\"dataframe\">\n",
       "  <thead>\n",
       "    <tr style=\"text-align: right;\">\n",
       "      <th></th>\n",
       "      <th>Name</th>\n",
       "      <th>Probability</th>\n",
       "      <th>roc_auc</th>\n",
       "      <th>precision0</th>\n",
       "      <th>Prediction</th>\n",
       "      <th>rmse</th>\n",
       "      <th>Nb_Replicas</th>\n",
       "      <th>LFNSize</th>\n",
       "      <th>recency</th>\n",
       "      <th>reuse_distance</th>\n",
       "      <th>first_used</th>\n",
       "      <th>creation</th>\n",
       "      <th>frequency</th>\n",
       "      <th>frequency_week</th>\n",
       "      <th>type</th>\n",
       "      <th>extentions</th>\n",
       "      <th>size</th>\n",
       "      <th>nblfn</th>\n",
       "    </tr>\n",
       "  </thead>\n",
       "  <tbody>\n",
       "    <tr>\n",
       "      <th>0</th>\n",
       "      <td> /LHCb/Collision10/Beam3500GeV-VeloClosed-MagDo...</td>\n",
       "      <td> 0.582984</td>\n",
       "      <td> 0.871754</td>\n",
       "      <td> 0.881163</td>\n",
       "      <td>  6.660679</td>\n",
       "      <td> 153.429956</td>\n",
       "      <td> 2.000000</td>\n",
       "      <td> 0.317900</td>\n",
       "      <td>  10</td>\n",
       "      <td>  14</td>\n",
       "      <td> 118</td>\n",
       "      <td> 197</td>\n",
       "      <td> 2122</td>\n",
       "      <td> 6</td>\n",
       "      <td> 1</td>\n",
       "      <td> 1</td>\n",
       "      <td> 0.317900</td>\n",
       "      <td>  67</td>\n",
       "    </tr>\n",
       "    <tr>\n",
       "      <th>1</th>\n",
       "      <td> /LHCb/Collision10/Beam3500GeV-VeloClosed-MagDo...</td>\n",
       "      <td> 0.041421</td>\n",
       "      <td> 0.871754</td>\n",
       "      <td> 0.881163</td>\n",
       "      <td>  0.000000</td>\n",
       "      <td>   0.256410</td>\n",
       "      <td> 0.004592</td>\n",
       "      <td> 2.402856</td>\n",
       "      <td> 113</td>\n",
       "      <td>  12</td>\n",
       "      <td> 129</td>\n",
       "      <td> 220</td>\n",
       "      <td>    0</td>\n",
       "      <td> 0</td>\n",
       "      <td> 1</td>\n",
       "      <td> 1</td>\n",
       "      <td> 2.402856</td>\n",
       "      <td> 871</td>\n",
       "    </tr>\n",
       "    <tr>\n",
       "      <th>2</th>\n",
       "      <td> /LHCb/Collision10/Beam3500GeV-VeloClosed-MagDo...</td>\n",
       "      <td> 0.083709</td>\n",
       "      <td> 0.871754</td>\n",
       "      <td> 0.881163</td>\n",
       "      <td>  0.000054</td>\n",
       "      <td>  18.919273</td>\n",
       "      <td> 0.001443</td>\n",
       "      <td> 0.085333</td>\n",
       "      <td>  75</td>\n",
       "      <td>  27</td>\n",
       "      <td> 113</td>\n",
       "      <td> 220</td>\n",
       "      <td>    0</td>\n",
       "      <td> 0</td>\n",
       "      <td> 1</td>\n",
       "      <td> 1</td>\n",
       "      <td> 0.085333</td>\n",
       "      <td> 693</td>\n",
       "    </tr>\n",
       "    <tr>\n",
       "      <th>3</th>\n",
       "      <td> /LHCb/Collision10/Beam3500GeV-VeloClosed-MagDo...</td>\n",
       "      <td> 0.285343</td>\n",
       "      <td> 0.871754</td>\n",
       "      <td> 0.881163</td>\n",
       "      <td> 10.675200</td>\n",
       "      <td>  22.378141</td>\n",
       "      <td> 3.973568</td>\n",
       "      <td> 0.649204</td>\n",
       "      <td>  35</td>\n",
       "      <td>   1</td>\n",
       "      <td> 112</td>\n",
       "      <td> 192</td>\n",
       "      <td> 1177</td>\n",
       "      <td> 6</td>\n",
       "      <td> 1</td>\n",
       "      <td> 1</td>\n",
       "      <td> 0.649204</td>\n",
       "      <td> 227</td>\n",
       "    </tr>\n",
       "    <tr>\n",
       "      <th>4</th>\n",
       "      <td> /LHCb/Collision10/Beam3500GeV-VeloClosed-MagDo...</td>\n",
       "      <td> 0.308699</td>\n",
       "      <td> 0.871754</td>\n",
       "      <td> 0.881163</td>\n",
       "      <td>  0.000000</td>\n",
       "      <td>   0.000000</td>\n",
       "      <td> 3.984375</td>\n",
       "      <td> 0.803981</td>\n",
       "      <td>  48</td>\n",
       "      <td> 999</td>\n",
       "      <td>  48</td>\n",
       "      <td> 192</td>\n",
       "      <td>  535</td>\n",
       "      <td> 1</td>\n",
       "      <td> 1</td>\n",
       "      <td> 1</td>\n",
       "      <td> 0.803981</td>\n",
       "      <td> 256</td>\n",
       "    </tr>\n",
       "  </tbody>\n",
       "</table>\n",
       "</div>"
      ],
      "text/plain": [
       "                                                Name  Probability   roc_auc  \\\n",
       "0  /LHCb/Collision10/Beam3500GeV-VeloClosed-MagDo...     0.582984  0.871754   \n",
       "1  /LHCb/Collision10/Beam3500GeV-VeloClosed-MagDo...     0.041421  0.871754   \n",
       "2  /LHCb/Collision10/Beam3500GeV-VeloClosed-MagDo...     0.083709  0.871754   \n",
       "3  /LHCb/Collision10/Beam3500GeV-VeloClosed-MagDo...     0.285343  0.871754   \n",
       "4  /LHCb/Collision10/Beam3500GeV-VeloClosed-MagDo...     0.308699  0.871754   \n",
       "\n",
       "   precision0  Prediction        rmse  Nb_Replicas   LFNSize  recency  \\\n",
       "0    0.881163    6.660679  153.429956     2.000000  0.317900       10   \n",
       "1    0.881163    0.000000    0.256410     0.004592  2.402856      113   \n",
       "2    0.881163    0.000054   18.919273     0.001443  0.085333       75   \n",
       "3    0.881163   10.675200   22.378141     3.973568  0.649204       35   \n",
       "4    0.881163    0.000000    0.000000     3.984375  0.803981       48   \n",
       "\n",
       "   reuse_distance  first_used  creation  frequency  frequency_week  type  \\\n",
       "0              14         118       197       2122               6     1   \n",
       "1              12         129       220          0               0     1   \n",
       "2              27         113       220          0               0     1   \n",
       "3               1         112       192       1177               6     1   \n",
       "4             999          48       192        535               1     1   \n",
       "\n",
       "   extentions      size  nblfn  \n",
       "0           1  0.317900     67  \n",
       "1           1  2.402856    871  \n",
       "2           1  0.085333    693  \n",
       "3           1  0.649204    227  \n",
       "4           1  0.803981    256  "
      ]
     },
     "execution_count": 8,
     "metadata": {},
     "output_type": "execute_result"
    }
   ],
   "source": [
    "report = rps.get_full_combine_report(data)\n",
    "report.head()"
   ]
  },
  {
   "cell_type": "code",
   "execution_count": null,
   "metadata": {
    "collapsed": true
   },
   "outputs": [],
   "source": []
  }
 ],
 "metadata": {
  "kernelspec": {
   "display_name": "Python 2",
   "language": "python",
   "name": "python2"
  },
  "language_info": {
   "codemirror_mode": {
    "name": "ipython",
    "version": 2
   },
   "file_extension": ".py",
   "mimetype": "text/x-python",
   "name": "python",
   "nbconvert_exporter": "python",
   "pygments_lexer": "ipython2",
   "version": "2.7.10"
  }
 },
 "nbformat": 4,
 "nbformat_minor": 0
}
