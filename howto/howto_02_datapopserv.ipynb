{
 "cells": [
  {
   "cell_type": "markdown",
   "metadata": {},
   "source": [
    "#About\n",
    "This notebook shows how to use data popularity api service. This service runs in docker container."
   ]
  },
  {
   "cell_type": "markdown",
   "metadata": {},
   "source": [
    "For further understanding of this service look **howto_01_datapop.ipynb** first."
   ]
  },
  {
   "cell_type": "markdown",
   "metadata": {},
   "source": [
    "#Docker pull & run\n",
    "To start your work you should run docker container, which provides the data popularity api service."
   ]
  },
  {
   "cell_type": "markdown",
   "metadata": {},
   "source": [
    "In terminal type:\n",
    "1. ####sudo docker pull hushchynmikhail/dp_api\n",
    "2. ####sudo docker run -d -p 5000:5000 hushchynmikhail/dp_api python DataPopularity/data_popularity_api/dp_api.py"
   ]
  },
  {
   "cell_type": "markdown",
   "metadata": {},
   "source": [
    "#Get session id"
   ]
  },
  {
   "cell_type": "markdown",
   "metadata": {},
   "source": [
    "Firstly, you need to get unique session id."
   ]
  },
  {
   "cell_type": "code",
   "execution_count": 1,
   "metadata": {
    "collapsed": true
   },
   "outputs": [],
   "source": [
    "from requests import put, get, post"
   ]
  },
  {
   "cell_type": "code",
   "execution_count": 5,
   "metadata": {
    "collapsed": false
   },
   "outputs": [
    {
     "data": {
      "text/plain": [
       "u'Your NEW session_id = 785'"
      ]
     },
     "execution_count": 5,
     "metadata": {},
     "output_type": "execute_result"
    }
   ],
   "source": [
    "post('http://localhost:5000/').json()"
   ]
  },
  {
   "cell_type": "markdown",
   "metadata": {},
   "source": [
    "#Upload data"
   ]
  },
  {
   "cell_type": "markdown",
   "metadata": {},
   "source": [
    "Secondly, upload your data using your session_id"
   ]
  },
  {
   "cell_type": "code",
   "execution_count": 9,
   "metadata": {
    "collapsed": false
   },
   "outputs": [
    {
     "data": {
      "text/plain": [
       "u'Your data saved in directory ///data_dir/785/data.csv'"
      ]
     },
     "execution_count": 9,
     "metadata": {},
     "output_type": "execute_result"
    }
   ],
   "source": [
    "data_path = 'Data/popularity-728days.csv'\n",
    "post('http://localhost:5000/785/Upload', files={'file':open(data_path)}).json()"
   ]
  },
  {
   "cell_type": "markdown",
   "metadata": {},
   "source": [
    "#Run Data Popularity"
   ]
  },
  {
   "cell_type": "markdown",
   "metadata": {},
   "source": [
    "Now, we can run data popularity. Post() mehod runs DataPopularityEstimator, DataIntensityPredictor and DataPlacementOptimizer."
   ]
  },
  {
   "cell_type": "code",
   "execution_count": 10,
   "metadata": {
    "collapsed": false
   },
   "outputs": [
    {
     "data": {
      "text/plain": [
       "u'Data Popularity report generated in ///data_dir/785/opti_report.csv'"
      ]
     },
     "execution_count": 10,
     "metadata": {},
     "output_type": "execute_result"
    }
   ],
   "source": [
    "params=\"{'nb_of_weeks':104, 'q':None, 'set_replicas':'auto', 'c_disk':100, 'c_tape':1, 'c_miss':2000,\\\n",
    "       'alpha':1, 'max_replicas':4, 'method':'opti', 'pop_cut':-1}\"\n",
    "\n",
    "post('http://localhost:5000/785/DataPopularityApi', data={'params':params}).json()"
   ]
  },
  {
   "cell_type": "markdown",
   "metadata": {},
   "source": [
    "If you want to change parameters for the DataPlacementOptimizator use put() to save your time. Put() method runs only DataPlacementOptimizer."
   ]
  },
  {
   "cell_type": "code",
   "execution_count": 11,
   "metadata": {
    "collapsed": false
   },
   "outputs": [
    {
     "data": {
      "text/plain": [
       "u'Data Popularity report generated in ///data_dir/785/report.csv'"
      ]
     },
     "execution_count": 11,
     "metadata": {},
     "output_type": "execute_result"
    }
   ],
   "source": [
    "new_params=\"{'nb_of_weeks':104, 'q':None, 'set_replicas':'auto', 'c_disk':100, 'c_tape':1, 'c_miss':2000,\\\n",
    "       'alpha':1, 'max_replicas':4, 'method':'report', 'pop_cut':0.4}\"\n",
    "\n",
    "put('http://localhost:5000/785/DataPopularityApi', data={'params':new_params}).json()"
   ]
  },
  {
   "cell_type": "markdown",
   "metadata": {},
   "source": [
    "To view the names of output files use get()."
   ]
  },
  {
   "cell_type": "code",
   "execution_count": 12,
   "metadata": {
    "collapsed": false
   },
   "outputs": [
    {
     "data": {
      "text/plain": [
       "u'Files data.csv, popularity.csv, prediction.csv, report.csv and opti_report.csv are in your working directory ///data_dir/785'"
      ]
     },
     "execution_count": 12,
     "metadata": {},
     "output_type": "execute_result"
    }
   ],
   "source": [
    "get('http://localhost:5000/785/DataPopularityApi').json()"
   ]
  },
  {
   "cell_type": "markdown",
   "metadata": {},
   "source": [
    "#Download results"
   ]
  },
  {
   "cell_type": "code",
   "execution_count": 13,
   "metadata": {
    "collapsed": false
   },
   "outputs": [],
   "source": [
    "import csv\n",
    "output_dir = 'Data/output/'\n",
    "file_name = 'opti_report.csv'\n",
    "\n",
    "r = get('http://localhost:5000/785/Download/'+file_name)\n",
    "\n",
    "f = open(output_dir+file_name, 'w')\n",
    "f.write(r.content)"
   ]
  },
  {
   "cell_type": "code",
   "execution_count": null,
   "metadata": {
    "collapsed": true
   },
   "outputs": [],
   "source": []
  }
 ],
 "metadata": {
  "kernelspec": {
   "display_name": "Python 2",
   "language": "python",
   "name": "python2"
  },
  "language_info": {
   "codemirror_mode": {
    "name": "ipython",
    "version": 2
   },
   "file_extension": ".py",
   "mimetype": "text/x-python",
   "name": "python",
   "nbconvert_exporter": "python",
   "pygments_lexer": "ipython2",
   "version": "2.7.6"
  }
 },
 "nbformat": 4,
 "nbformat_minor": 0
}
