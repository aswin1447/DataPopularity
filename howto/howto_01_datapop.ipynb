{
 "cells": [
  {
   "cell_type": "code",
   "execution_count": 1,
   "metadata": {
    "collapsed": false
   },
   "outputs": [],
   "source": [
    "%matplotlib inline\n",
    "import pandas as pd\n",
    "import numpy as np\n",
    "import matplotlib.pyplot as plt"
   ]
  },
  {
   "cell_type": "markdown",
   "metadata": {},
   "source": [
    "#LHCb. DataPreprocessor.\n",
    "This class prepare LHCb data for other classes which are use used data in special form."
   ]
  },
  {
   "cell_type": "markdown",
   "metadata": {},
   "source": [
    "LHCb data is shown below:"
   ]
  },
  {
   "cell_type": "code",
   "execution_count": 2,
   "metadata": {
    "collapsed": false,
    "scrolled": false
   },
   "outputs": [
    {
     "data": {
      "text/html": [
       "<div style=\"max-height:1000px;max-width:1500px;overflow:auto;\">\n",
       "<table border=\"1\" class=\"dataframe\">\n",
       "  <thead>\n",
       "    <tr style=\"text-align: right;\">\n",
       "      <th></th>\n",
       "      <th>Name</th>\n",
       "      <th>Configuration</th>\n",
       "      <th>ProcessingPass</th>\n",
       "      <th>FileType</th>\n",
       "      <th>Type</th>\n",
       "      <th>Creation-week</th>\n",
       "      <th>NbLFN</th>\n",
       "      <th>LFNSize</th>\n",
       "      <th>NbDisk</th>\n",
       "      <th>DiskSize</th>\n",
       "      <th>...</th>\n",
       "      <th>95</th>\n",
       "      <th>96</th>\n",
       "      <th>97</th>\n",
       "      <th>98</th>\n",
       "      <th>99</th>\n",
       "      <th>100</th>\n",
       "      <th>101</th>\n",
       "      <th>102</th>\n",
       "      <th>103</th>\n",
       "      <th>104</th>\n",
       "    </tr>\n",
       "  </thead>\n",
       "  <tbody>\n",
       "    <tr>\n",
       "      <th>0</th>\n",
       "      <td> /LHCb/Collision10/Beam3500GeV-VeloClosed-MagDo...</td>\n",
       "      <td> /LHCb/Collision10</td>\n",
       "      <td> /RealData/Reco08-MINBIAS-FIRST-14-NB/Stripping12d</td>\n",
       "      <td>    MINIBIAS.DST</td>\n",
       "      <td> 1</td>\n",
       "      <td> 104591</td>\n",
       "      <td>  67</td>\n",
       "      <td> 0.317900</td>\n",
       "      <td> 134</td>\n",
       "      <td> 0.635799</td>\n",
       "      <td>...</td>\n",
       "      <td> 12687</td>\n",
       "      <td> 12687</td>\n",
       "      <td> 12687</td>\n",
       "      <td> 12687</td>\n",
       "      <td> 12687</td>\n",
       "      <td> 12687</td>\n",
       "      <td> 12687</td>\n",
       "      <td> 12687</td>\n",
       "      <td> 12687</td>\n",
       "      <td> 12687</td>\n",
       "    </tr>\n",
       "    <tr>\n",
       "      <th>1</th>\n",
       "      <td> /LHCb/Collision10/Beam3500GeV-VeloClosed-MagDo...</td>\n",
       "      <td> /LHCb/Collision10</td>\n",
       "      <td>                      /RealData/Reco08/Stripping14</td>\n",
       "      <td>     BHADRON.DST</td>\n",
       "      <td> 1</td>\n",
       "      <td> 104607</td>\n",
       "      <td> 227</td>\n",
       "      <td> 0.649204</td>\n",
       "      <td> 980</td>\n",
       "      <td> 2.819260</td>\n",
       "      <td>...</td>\n",
       "      <td>  1631</td>\n",
       "      <td>  1631</td>\n",
       "      <td>  1631</td>\n",
       "      <td>  1631</td>\n",
       "      <td>  1631</td>\n",
       "      <td>  1631</td>\n",
       "      <td>  1631</td>\n",
       "      <td>  1631</td>\n",
       "      <td>  1631</td>\n",
       "      <td>  1631</td>\n",
       "    </tr>\n",
       "    <tr>\n",
       "      <th>2</th>\n",
       "      <td> /LHCb/Collision10/Beam3500GeV-VeloClosed-MagDo...</td>\n",
       "      <td> /LHCb/Collision10</td>\n",
       "      <td>                      /RealData/Reco08/Stripping14</td>\n",
       "      <td> CALIBRATION.DST</td>\n",
       "      <td> 1</td>\n",
       "      <td> 104607</td>\n",
       "      <td> 355</td>\n",
       "      <td> 1.370105</td>\n",
       "      <td> 355</td>\n",
       "      <td> 1.370105</td>\n",
       "      <td>...</td>\n",
       "      <td>     0</td>\n",
       "      <td>     0</td>\n",
       "      <td>     0</td>\n",
       "      <td>   474</td>\n",
       "      <td>   708</td>\n",
       "      <td>   708</td>\n",
       "      <td>   708</td>\n",
       "      <td>   708</td>\n",
       "      <td>   708</td>\n",
       "      <td>   708</td>\n",
       "    </tr>\n",
       "  </tbody>\n",
       "</table>\n",
       "<p>3 rows × 124 columns</p>\n",
       "</div>"
      ],
      "text/plain": [
       "                                                Name      Configuration  \\\n",
       "0  /LHCb/Collision10/Beam3500GeV-VeloClosed-MagDo...  /LHCb/Collision10   \n",
       "1  /LHCb/Collision10/Beam3500GeV-VeloClosed-MagDo...  /LHCb/Collision10   \n",
       "2  /LHCb/Collision10/Beam3500GeV-VeloClosed-MagDo...  /LHCb/Collision10   \n",
       "\n",
       "                                      ProcessingPass         FileType  Type  \\\n",
       "0  /RealData/Reco08-MINBIAS-FIRST-14-NB/Stripping12d     MINIBIAS.DST     1   \n",
       "1                       /RealData/Reco08/Stripping14      BHADRON.DST     1   \n",
       "2                       /RealData/Reco08/Stripping14  CALIBRATION.DST     1   \n",
       "\n",
       "   Creation-week  NbLFN   LFNSize  NbDisk  DiskSize    ...        95     96  \\\n",
       "0         104591     67  0.317900     134  0.635799    ...     12687  12687   \n",
       "1         104607    227  0.649204     980  2.819260    ...      1631   1631   \n",
       "2         104607    355  1.370105     355  1.370105    ...         0      0   \n",
       "\n",
       "      97     98     99    100    101    102    103    104  \n",
       "0  12687  12687  12687  12687  12687  12687  12687  12687  \n",
       "1   1631   1631   1631   1631   1631   1631   1631   1631  \n",
       "2      0    474    708    708    708    708    708    708  \n",
       "\n",
       "[3 rows x 124 columns]"
      ]
     },
     "execution_count": 2,
     "metadata": {},
     "output_type": "execute_result"
    }
   ],
   "source": [
    "lhcb_data = pd.read_excel('Data/popularity-728days.xls')\n",
    "lhcb_data.irow(range(0,3))"
   ]
  },
  {
   "cell_type": "markdown",
   "metadata": {},
   "source": [
    "LHCb data preparation and data form are shown below."
   ]
  },
  {
   "cell_type": "code",
   "execution_count": 3,
   "metadata": {
    "collapsed": false
   },
   "outputs": [
    {
     "data": {
      "text/html": [
       "<div style=\"max-height:1000px;max-width:1500px;overflow:auto;\">\n",
       "<table border=\"1\" class=\"dataframe\">\n",
       "  <thead>\n",
       "    <tr style=\"text-align: right;\">\n",
       "      <th></th>\n",
       "      <th>ID</th>\n",
       "      <th>1</th>\n",
       "      <th>2</th>\n",
       "      <th>3</th>\n",
       "      <th>4</th>\n",
       "      <th>5</th>\n",
       "      <th>6</th>\n",
       "      <th>7</th>\n",
       "      <th>8</th>\n",
       "      <th>9</th>\n",
       "      <th>...</th>\n",
       "      <th>95</th>\n",
       "      <th>96</th>\n",
       "      <th>97</th>\n",
       "      <th>98</th>\n",
       "      <th>99</th>\n",
       "      <th>100</th>\n",
       "      <th>101</th>\n",
       "      <th>102</th>\n",
       "      <th>103</th>\n",
       "      <th>104</th>\n",
       "    </tr>\n",
       "  </thead>\n",
       "  <tbody>\n",
       "    <tr>\n",
       "      <th>0</th>\n",
       "      <td> /LHCb/Collision10/Beam3500GeV-VeloClosed-MagDo...</td>\n",
       "      <td> 0</td>\n",
       "      <td> 0</td>\n",
       "      <td> 0</td>\n",
       "      <td> 0</td>\n",
       "      <td> 0</td>\n",
       "      <td>   0</td>\n",
       "      <td>   0</td>\n",
       "      <td> 0</td>\n",
       "      <td> 0</td>\n",
       "      <td>...</td>\n",
       "      <td> 0</td>\n",
       "      <td> 0</td>\n",
       "      <td> 0</td>\n",
       "      <td> 0</td>\n",
       "      <td> 0</td>\n",
       "      <td> 0</td>\n",
       "      <td> 0</td>\n",
       "      <td> 0</td>\n",
       "      <td> 0</td>\n",
       "      <td> 134</td>\n",
       "    </tr>\n",
       "    <tr>\n",
       "      <th>1</th>\n",
       "      <td> /LHCb/Collision10/Beam3500GeV-VeloClosed-MagDo...</td>\n",
       "      <td> 0</td>\n",
       "      <td> 0</td>\n",
       "      <td> 0</td>\n",
       "      <td> 0</td>\n",
       "      <td> 0</td>\n",
       "      <td>   0</td>\n",
       "      <td>   0</td>\n",
       "      <td> 0</td>\n",
       "      <td> 0</td>\n",
       "      <td>...</td>\n",
       "      <td> 0</td>\n",
       "      <td> 0</td>\n",
       "      <td> 0</td>\n",
       "      <td> 0</td>\n",
       "      <td> 0</td>\n",
       "      <td> 0</td>\n",
       "      <td> 0</td>\n",
       "      <td> 0</td>\n",
       "      <td> 0</td>\n",
       "      <td>   0</td>\n",
       "    </tr>\n",
       "    <tr>\n",
       "      <th>2</th>\n",
       "      <td> /LHCb/Collision10/Beam3500GeV-VeloClosed-MagDo...</td>\n",
       "      <td> 0</td>\n",
       "      <td> 0</td>\n",
       "      <td> 0</td>\n",
       "      <td> 0</td>\n",
       "      <td> 0</td>\n",
       "      <td> 234</td>\n",
       "      <td> 474</td>\n",
       "      <td> 0</td>\n",
       "      <td> 0</td>\n",
       "      <td>...</td>\n",
       "      <td> 0</td>\n",
       "      <td> 0</td>\n",
       "      <td> 0</td>\n",
       "      <td> 0</td>\n",
       "      <td> 0</td>\n",
       "      <td> 0</td>\n",
       "      <td> 0</td>\n",
       "      <td> 0</td>\n",
       "      <td> 0</td>\n",
       "      <td>   0</td>\n",
       "    </tr>\n",
       "  </tbody>\n",
       "</table>\n",
       "<p>3 rows × 105 columns</p>\n",
       "</div>"
      ],
      "text/plain": [
       "                                                  ID  1  2  3  4  5    6    7  \\\n",
       "0  /LHCb/Collision10/Beam3500GeV-VeloClosed-MagDo...  0  0  0  0  0    0    0   \n",
       "1  /LHCb/Collision10/Beam3500GeV-VeloClosed-MagDo...  0  0  0  0  0    0    0   \n",
       "2  /LHCb/Collision10/Beam3500GeV-VeloClosed-MagDo...  0  0  0  0  0  234  474   \n",
       "\n",
       "   8  9 ... 95 96 97 98 99 100 101 102 103  104  \n",
       "0  0  0 ...  0  0  0  0  0   0   0   0   0  134  \n",
       "1  0  0 ...  0  0  0  0  0   0   0   0   0    0  \n",
       "2  0  0 ...  0  0  0  0  0   0   0   0   0    0  \n",
       "\n",
       "[3 rows x 105 columns]"
      ]
     },
     "execution_count": 3,
     "metadata": {},
     "output_type": "execute_result"
    }
   ],
   "source": [
    "from datapop.LHCb import DataPreprocessor\n",
    "data = DataPreprocessor(data=lhcb_data).get_preprocessed_data()\n",
    "data.irow(range(0,3))"
   ]
  },
  {
   "cell_type": "code",
   "execution_count": null,
   "metadata": {
    "collapsed": true
   },
   "outputs": [],
   "source": []
  },
  {
   "cell_type": "markdown",
   "metadata": {},
   "source": [
    "#Core. ProbabilityEstimator.\n",
    "\n",
    "This class is used to estimate dataset probabilities on given type of data storage. \n",
    "Higher a dataset's probability for a storage type, more suitable this storage type for the dataset in future.\n",
    "\n",
    "The class accept the data form shown above."
   ]
  },
  {
   "cell_type": "code",
   "execution_count": null,
   "metadata": {
    "collapsed": false
   },
   "outputs": [],
   "source": [
    "from datapop.core import ProbabilityEstimator\n",
    "probability_estimator = ProbabilityEstimator(data=data, forecast_horizont=2, class_abs_thresholds=1)\n",
    "probability_report = probability_estimator.get_probabilities()\n",
    "probability_report.irow(range(0,3))"
   ]
  },
  {
   "cell_type": "markdown",
   "metadata": {
    "collapsed": true
   },
   "source": [
    "Also it is possible to get data that was used for the estimator training."
   ]
  },
  {
   "cell_type": "code",
   "execution_count": null,
   "metadata": {
    "collapsed": false
   },
   "outputs": [],
   "source": [
    "probability_estimator.preprocessed_data.irow(range(0,3))"
   ]
  },
  {
   "cell_type": "markdown",
   "metadata": {},
   "source": [
    "Furthermore, the class gives trained classifier which was used for probabilities estimation."
   ]
  },
  {
   "cell_type": "code",
   "execution_count": null,
   "metadata": {
    "collapsed": false
   },
   "outputs": [],
   "source": [
    "classifier = probability_estimator.classifier"
   ]
  },
  {
   "cell_type": "markdown",
   "metadata": {},
   "source": [
    "Some usefull metrics and pictures can be done by using probability_report"
   ]
  },
  {
   "cell_type": "code",
   "execution_count": null,
   "metadata": {
    "collapsed": false
   },
   "outputs": [],
   "source": [
    "from sklearn.metrics import roc_curve, auc\n",
    "\n",
    "plt.figure(figsize=(15, 10))\n",
    "\n",
    "plt.subplot(2,2,1)\n",
    "fpr, tpr, _ = roc_curve(probability_report['Current_Type'].values, probability_report['Proba_Type_1'].values)\n",
    "roc_auc = auc(fpr, tpr)\n",
    "plt.plot(fpr, tpr, label='ROC (%.2f)' % roc_auc, c='r')\n",
    "plt.title('ROC curve')\n",
    "plt.xlabel('False Positive Rate')\n",
    "plt.ylabel('True Positive Rate')\n",
    "plt.legend(loc='best')\n",
    "\n",
    "plt.subplot(2,2,2)\n",
    "plt.hist(probability_report['Proba_Type_1'].values, color='b', label='Proba_Type_1')\n",
    "plt.title('Probability Type 1 distribution')\n",
    "plt.xlabel('Probability')\n",
    "plt.ylabel('Number of datasets')\n",
    "plt.legend(loc='best')\n",
    "\n",
    "plt.subplot(2,2,4)\n",
    "cur_type = probability_report['Current_Type']\n",
    "plt.hist(probability_report['Proba_Type_1'][cur_type==1].values, alpha=0.5, color='b', label='Current_Type_1')\n",
    "plt.hist(probability_report['Proba_Type_1'][cur_type==0].values, alpha=0.5, color='r', label='Current_Type_0')\n",
    "plt.title('Probability Type 1 distribution')\n",
    "plt.xlabel('Probability')\n",
    "plt.ylabel('Number of datasets')\n",
    "plt.legend(loc='best')"
   ]
  },
  {
   "cell_type": "code",
   "execution_count": null,
   "metadata": {
    "collapsed": true
   },
   "outputs": [],
   "source": []
  }
 ],
 "metadata": {
  "kernelspec": {
   "display_name": "Python 2",
   "language": "python",
   "name": "python2"
  },
  "language_info": {
   "codemirror_mode": {
    "name": "ipython",
    "version": 2
   },
   "file_extension": ".py",
   "mimetype": "text/x-python",
   "name": "python",
   "nbconvert_exporter": "python",
   "pygments_lexer": "ipython2",
   "version": "2.7.10"
  }
 },
 "nbformat": 4,
 "nbformat_minor": 0
}
