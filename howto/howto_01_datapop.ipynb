{
 "cells": [
  {
   "cell_type": "markdown",
   "metadata": {},
   "source": [
    "#About"
   ]
  },
  {
   "cell_type": "code",
   "execution_count": 1,
   "metadata": {
    "collapsed": true
   },
   "outputs": [],
   "source": [
    "%matplotlib inline\n",
    "import pandas\n",
    "import numpy\n",
    "import matplotlib.pyplot as plt"
   ]
  },
  {
   "cell_type": "markdown",
   "metadata": {},
   "source": [
    "#Data"
   ]
  },
  {
   "cell_type": "code",
   "execution_count": 2,
   "metadata": {
    "collapsed": false
   },
   "outputs": [],
   "source": [
    "import pandas\n",
    "data = pandas.read_csv('../data/popularity-910days.csv')"
   ]
  },
  {
   "cell_type": "markdown",
   "metadata": {
    "collapsed": true
   },
   "source": [
    "#DataPreparation"
   ]
  },
  {
   "cell_type": "code",
   "execution_count": 3,
   "metadata": {
    "collapsed": true
   },
   "outputs": [],
   "source": [
    "from datapop import DataPreparation\n",
    "metadata, access_history = DataPreparation(data=data).preparation()"
   ]
  },
  {
   "cell_type": "code",
   "execution_count": 4,
   "metadata": {
    "collapsed": false
   },
   "outputs": [
    {
     "data": {
      "text/html": [
       "<div style=\"max-height:1000px;max-width:1500px;overflow:auto;\">\n",
       "<table border=\"1\" class=\"dataframe\">\n",
       "  <thead>\n",
       "    <tr style=\"text-align: right;\">\n",
       "      <th></th>\n",
       "      <th>Name</th>\n",
       "      <th>1</th>\n",
       "      <th>2</th>\n",
       "      <th>3</th>\n",
       "      <th>4</th>\n",
       "      <th>5</th>\n",
       "      <th>6</th>\n",
       "      <th>7</th>\n",
       "      <th>8</th>\n",
       "      <th>9</th>\n",
       "      <th>...</th>\n",
       "      <th>121</th>\n",
       "      <th>122</th>\n",
       "      <th>123</th>\n",
       "      <th>124</th>\n",
       "      <th>125</th>\n",
       "      <th>126</th>\n",
       "      <th>127</th>\n",
       "      <th>128</th>\n",
       "      <th>129</th>\n",
       "      <th>130</th>\n",
       "    </tr>\n",
       "  </thead>\n",
       "  <tbody>\n",
       "    <tr>\n",
       "      <th>0</th>\n",
       "      <td> /LHCb/Calibration10/Beam3500GeV-VeloClosed-Mag...</td>\n",
       "      <td> 0</td>\n",
       "      <td>    0</td>\n",
       "      <td>    0</td>\n",
       "      <td>    0</td>\n",
       "      <td>    0</td>\n",
       "      <td> 0</td>\n",
       "      <td> 0</td>\n",
       "      <td> 0</td>\n",
       "      <td> 0</td>\n",
       "      <td>...</td>\n",
       "      <td> 0</td>\n",
       "      <td> 0</td>\n",
       "      <td> 0</td>\n",
       "      <td> 0</td>\n",
       "      <td> 0</td>\n",
       "      <td> 0</td>\n",
       "      <td> 0</td>\n",
       "      <td> 0</td>\n",
       "      <td> 0</td>\n",
       "      <td> 0</td>\n",
       "    </tr>\n",
       "    <tr>\n",
       "      <th>1</th>\n",
       "      <td> /LHCb/Calibration11/Beam3500GeV-VeloClosed-Mag...</td>\n",
       "      <td> 0</td>\n",
       "      <td>    0</td>\n",
       "      <td>    0</td>\n",
       "      <td>    0</td>\n",
       "      <td>    0</td>\n",
       "      <td> 0</td>\n",
       "      <td> 0</td>\n",
       "      <td> 0</td>\n",
       "      <td> 0</td>\n",
       "      <td>...</td>\n",
       "      <td> 0</td>\n",
       "      <td> 0</td>\n",
       "      <td> 0</td>\n",
       "      <td> 0</td>\n",
       "      <td> 0</td>\n",
       "      <td> 0</td>\n",
       "      <td> 0</td>\n",
       "      <td> 0</td>\n",
       "      <td> 0</td>\n",
       "      <td> 0</td>\n",
       "    </tr>\n",
       "    <tr>\n",
       "      <th>2</th>\n",
       "      <td> /LHCb/Calibration11/Beam3500GeV-VeloClosed-Mag...</td>\n",
       "      <td> 0</td>\n",
       "      <td> 2075</td>\n",
       "      <td> 2065</td>\n",
       "      <td> 4120</td>\n",
       "      <td>    0</td>\n",
       "      <td> 0</td>\n",
       "      <td> 0</td>\n",
       "      <td> 0</td>\n",
       "      <td> 0</td>\n",
       "      <td>...</td>\n",
       "      <td> 0</td>\n",
       "      <td> 0</td>\n",
       "      <td> 0</td>\n",
       "      <td> 0</td>\n",
       "      <td> 0</td>\n",
       "      <td> 0</td>\n",
       "      <td> 0</td>\n",
       "      <td> 0</td>\n",
       "      <td> 0</td>\n",
       "      <td> 0</td>\n",
       "    </tr>\n",
       "    <tr>\n",
       "      <th>3</th>\n",
       "      <td> /LHCb/Calibration11/Beam3500GeV-VeloClosed-Mag...</td>\n",
       "      <td> 0</td>\n",
       "      <td>    0</td>\n",
       "      <td>    0</td>\n",
       "      <td>  133</td>\n",
       "      <td> 2415</td>\n",
       "      <td> 0</td>\n",
       "      <td> 0</td>\n",
       "      <td> 0</td>\n",
       "      <td> 0</td>\n",
       "      <td>...</td>\n",
       "      <td> 0</td>\n",
       "      <td> 0</td>\n",
       "      <td> 0</td>\n",
       "      <td> 0</td>\n",
       "      <td> 0</td>\n",
       "      <td> 0</td>\n",
       "      <td> 0</td>\n",
       "      <td> 0</td>\n",
       "      <td> 0</td>\n",
       "      <td> 0</td>\n",
       "    </tr>\n",
       "    <tr>\n",
       "      <th>4</th>\n",
       "      <td> /LHCb/Calibration11/Beam3500GeV-VeloClosed-Mag...</td>\n",
       "      <td> 0</td>\n",
       "      <td>    0</td>\n",
       "      <td>    0</td>\n",
       "      <td>    0</td>\n",
       "      <td> 2906</td>\n",
       "      <td> 0</td>\n",
       "      <td> 0</td>\n",
       "      <td> 0</td>\n",
       "      <td> 0</td>\n",
       "      <td>...</td>\n",
       "      <td> 0</td>\n",
       "      <td> 0</td>\n",
       "      <td> 0</td>\n",
       "      <td> 0</td>\n",
       "      <td> 0</td>\n",
       "      <td> 0</td>\n",
       "      <td> 0</td>\n",
       "      <td> 0</td>\n",
       "      <td> 0</td>\n",
       "      <td> 0</td>\n",
       "    </tr>\n",
       "  </tbody>\n",
       "</table>\n",
       "<p>5 rows × 131 columns</p>\n",
       "</div>"
      ],
      "text/plain": [
       "                                                Name  1     2     3     4  \\\n",
       "0  /LHCb/Calibration10/Beam3500GeV-VeloClosed-Mag...  0     0     0     0   \n",
       "1  /LHCb/Calibration11/Beam3500GeV-VeloClosed-Mag...  0     0     0     0   \n",
       "2  /LHCb/Calibration11/Beam3500GeV-VeloClosed-Mag...  0  2075  2065  4120   \n",
       "3  /LHCb/Calibration11/Beam3500GeV-VeloClosed-Mag...  0     0     0   133   \n",
       "4  /LHCb/Calibration11/Beam3500GeV-VeloClosed-Mag...  0     0     0     0   \n",
       "\n",
       "      5  6  7  8  9 ...  121  122  123  124  125  126  127  128  129  130  \n",
       "0     0  0  0  0  0 ...    0    0    0    0    0    0    0    0    0    0  \n",
       "1     0  0  0  0  0 ...    0    0    0    0    0    0    0    0    0    0  \n",
       "2     0  0  0  0  0 ...    0    0    0    0    0    0    0    0    0    0  \n",
       "3  2415  0  0  0  0 ...    0    0    0    0    0    0    0    0    0    0  \n",
       "4  2906  0  0  0  0 ...    0    0    0    0    0    0    0    0    0    0  \n",
       "\n",
       "[5 rows x 131 columns]"
      ]
     },
     "execution_count": 4,
     "metadata": {},
     "output_type": "execute_result"
    }
   ],
   "source": [
    "access_history.head()"
   ]
  },
  {
   "cell_type": "code",
   "execution_count": 5,
   "metadata": {
    "collapsed": false
   },
   "outputs": [
    {
     "data": {
      "text/html": [
       "<div style=\"max-height:1000px;max-width:1500px;overflow:auto;\">\n",
       "<table border=\"1\" class=\"dataframe\">\n",
       "  <thead>\n",
       "    <tr style=\"text-align: right;\">\n",
       "      <th></th>\n",
       "      <th>Name</th>\n",
       "      <th>Configuration</th>\n",
       "      <th>ProcessingPass</th>\n",
       "      <th>FileType</th>\n",
       "      <th>Type</th>\n",
       "      <th>Creation_week</th>\n",
       "      <th>NbLFN</th>\n",
       "      <th>LFNSize</th>\n",
       "      <th>NbDisk</th>\n",
       "      <th>DiskSize</th>\n",
       "      <th>...</th>\n",
       "      <th>IN2P3</th>\n",
       "      <th>PIC</th>\n",
       "      <th>RAL</th>\n",
       "      <th>SARA</th>\n",
       "      <th>Nb_Replicas</th>\n",
       "      <th>Nb_ArchReps</th>\n",
       "      <th>Storage</th>\n",
       "      <th>FirstUsage</th>\n",
       "      <th>LastUsage</th>\n",
       "      <th>Now</th>\n",
       "    </tr>\n",
       "  </thead>\n",
       "  <tbody>\n",
       "    <tr>\n",
       "      <th>0</th>\n",
       "      <td> /LHCb/Calibration10/Beam3500GeV-VeloClosed-Mag...</td>\n",
       "      <td> /LHCb/Calibration10</td>\n",
       "      <td> /RealData</td>\n",
       "      <td> RAW</td>\n",
       "      <td> 1</td>\n",
       "      <td> 104788</td>\n",
       "      <td>  381</td>\n",
       "      <td>  0.578732</td>\n",
       "      <td> 0</td>\n",
       "      <td> 0</td>\n",
       "      <td>...</td>\n",
       "      <td> 0</td>\n",
       "      <td> 0</td>\n",
       "      <td> 0</td>\n",
       "      <td> 0</td>\n",
       "      <td> 0</td>\n",
       "      <td> 0</td>\n",
       "      <td> Tape</td>\n",
       "      <td> 104737</td>\n",
       "      <td> 104737</td>\n",
       "      <td> 104788</td>\n",
       "    </tr>\n",
       "    <tr>\n",
       "      <th>1</th>\n",
       "      <td> /LHCb/Calibration11/Beam3500GeV-VeloClosed-Mag...</td>\n",
       "      <td> /LHCb/Calibration11</td>\n",
       "      <td> /RealData</td>\n",
       "      <td> RAW</td>\n",
       "      <td> 1</td>\n",
       "      <td> 104788</td>\n",
       "      <td> 1743</td>\n",
       "      <td>  5.141242</td>\n",
       "      <td> 0</td>\n",
       "      <td> 0</td>\n",
       "      <td>...</td>\n",
       "      <td> 0</td>\n",
       "      <td> 0</td>\n",
       "      <td> 0</td>\n",
       "      <td> 0</td>\n",
       "      <td> 0</td>\n",
       "      <td> 0</td>\n",
       "      <td> Tape</td>\n",
       "      <td> 104734</td>\n",
       "      <td> 104752</td>\n",
       "      <td> 104788</td>\n",
       "    </tr>\n",
       "    <tr>\n",
       "      <th>2</th>\n",
       "      <td> /LHCb/Calibration11/Beam3500GeV-VeloClosed-Mag...</td>\n",
       "      <td> /LHCb/Calibration11</td>\n",
       "      <td> /RealData</td>\n",
       "      <td> RAW</td>\n",
       "      <td> 1</td>\n",
       "      <td> 104788</td>\n",
       "      <td> 4396</td>\n",
       "      <td> 10.636304</td>\n",
       "      <td> 0</td>\n",
       "      <td> 0</td>\n",
       "      <td>...</td>\n",
       "      <td> 0</td>\n",
       "      <td> 0</td>\n",
       "      <td> 0</td>\n",
       "      <td> 0</td>\n",
       "      <td> 0</td>\n",
       "      <td> 0</td>\n",
       "      <td> Tape</td>\n",
       "      <td> 104660</td>\n",
       "      <td> 104777</td>\n",
       "      <td> 104788</td>\n",
       "    </tr>\n",
       "    <tr>\n",
       "      <th>3</th>\n",
       "      <td> /LHCb/Calibration11/Beam3500GeV-VeloClosed-Mag...</td>\n",
       "      <td> /LHCb/Calibration11</td>\n",
       "      <td> /RealData</td>\n",
       "      <td> RAW</td>\n",
       "      <td> 1</td>\n",
       "      <td> 104788</td>\n",
       "      <td> 2858</td>\n",
       "      <td>  8.697603</td>\n",
       "      <td> 0</td>\n",
       "      <td> 0</td>\n",
       "      <td>...</td>\n",
       "      <td> 0</td>\n",
       "      <td> 0</td>\n",
       "      <td> 0</td>\n",
       "      <td> 0</td>\n",
       "      <td> 0</td>\n",
       "      <td> 0</td>\n",
       "      <td> Tape</td>\n",
       "      <td> 104662</td>\n",
       "      <td> 104777</td>\n",
       "      <td> 104788</td>\n",
       "    </tr>\n",
       "    <tr>\n",
       "      <th>4</th>\n",
       "      <td> /LHCb/Calibration11/Beam3500GeV-VeloClosed-Mag...</td>\n",
       "      <td> /LHCb/Calibration11</td>\n",
       "      <td> /RealData</td>\n",
       "      <td> RAW</td>\n",
       "      <td> 1</td>\n",
       "      <td> 104788</td>\n",
       "      <td> 1849</td>\n",
       "      <td>  5.712885</td>\n",
       "      <td> 0</td>\n",
       "      <td> 0</td>\n",
       "      <td>...</td>\n",
       "      <td> 0</td>\n",
       "      <td> 0</td>\n",
       "      <td> 0</td>\n",
       "      <td> 0</td>\n",
       "      <td> 0</td>\n",
       "      <td> 0</td>\n",
       "      <td> Tape</td>\n",
       "      <td> 104663</td>\n",
       "      <td> 104777</td>\n",
       "      <td> 104788</td>\n",
       "    </tr>\n",
       "  </tbody>\n",
       "</table>\n",
       "<p>5 rows × 27 columns</p>\n",
       "</div>"
      ],
      "text/plain": [
       "                                                Name        Configuration  \\\n",
       "0  /LHCb/Calibration10/Beam3500GeV-VeloClosed-Mag...  /LHCb/Calibration10   \n",
       "1  /LHCb/Calibration11/Beam3500GeV-VeloClosed-Mag...  /LHCb/Calibration11   \n",
       "2  /LHCb/Calibration11/Beam3500GeV-VeloClosed-Mag...  /LHCb/Calibration11   \n",
       "3  /LHCb/Calibration11/Beam3500GeV-VeloClosed-Mag...  /LHCb/Calibration11   \n",
       "4  /LHCb/Calibration11/Beam3500GeV-VeloClosed-Mag...  /LHCb/Calibration11   \n",
       "\n",
       "  ProcessingPass FileType  Type  Creation_week  NbLFN    LFNSize  NbDisk  \\\n",
       "0      /RealData      RAW     1         104788    381   0.578732       0   \n",
       "1      /RealData      RAW     1         104788   1743   5.141242       0   \n",
       "2      /RealData      RAW     1         104788   4396  10.636304       0   \n",
       "3      /RealData      RAW     1         104788   2858   8.697603       0   \n",
       "4      /RealData      RAW     1         104788   1849   5.712885       0   \n",
       "\n",
       "   DiskSize    ...     IN2P3  PIC  RAL  SARA  Nb_Replicas  Nb_ArchReps  \\\n",
       "0         0    ...         0    0    0     0            0            0   \n",
       "1         0    ...         0    0    0     0            0            0   \n",
       "2         0    ...         0    0    0     0            0            0   \n",
       "3         0    ...         0    0    0     0            0            0   \n",
       "4         0    ...         0    0    0     0            0            0   \n",
       "\n",
       "   Storage  FirstUsage  LastUsage     Now  \n",
       "0     Tape      104737     104737  104788  \n",
       "1     Tape      104734     104752  104788  \n",
       "2     Tape      104660     104777  104788  \n",
       "3     Tape      104662     104777  104788  \n",
       "4     Tape      104663     104777  104788  \n",
       "\n",
       "[5 rows x 27 columns]"
      ]
     },
     "execution_count": 5,
     "metadata": {},
     "output_type": "execute_result"
    }
   ],
   "source": [
    "metadata.head()"
   ]
  },
  {
   "cell_type": "markdown",
   "metadata": {},
   "source": [
    "#AccessProbabilityPrediction"
   ]
  },
  {
   "cell_type": "code",
   "execution_count": 6,
   "metadata": {
    "collapsed": false,
    "scrolled": true
   },
   "outputs": [
    {
     "data": {
      "text/html": [
       "<div style=\"max-height:1000px;max-width:1500px;overflow:auto;\">\n",
       "<table border=\"1\" class=\"dataframe\">\n",
       "  <thead>\n",
       "    <tr style=\"text-align: right;\">\n",
       "      <th></th>\n",
       "      <th>Name</th>\n",
       "      <th>Probability</th>\n",
       "      <th>roc_auc</th>\n",
       "      <th>precision0</th>\n",
       "    </tr>\n",
       "  </thead>\n",
       "  <tbody>\n",
       "    <tr>\n",
       "      <th>0</th>\n",
       "      <td> /LHCb/Collision10/Beam3500GeV-VeloClosed-MagDo...</td>\n",
       "      <td> 0.598435</td>\n",
       "      <td> 0.871678</td>\n",
       "      <td> 0.879766</td>\n",
       "    </tr>\n",
       "    <tr>\n",
       "      <th>1</th>\n",
       "      <td> /LHCb/Collision10/Beam3500GeV-VeloClosed-MagDo...</td>\n",
       "      <td> 0.050466</td>\n",
       "      <td> 0.871678</td>\n",
       "      <td> 0.879766</td>\n",
       "    </tr>\n",
       "    <tr>\n",
       "      <th>2</th>\n",
       "      <td> /LHCb/Collision10/Beam3500GeV-VeloClosed-MagDo...</td>\n",
       "      <td> 0.091184</td>\n",
       "      <td> 0.871678</td>\n",
       "      <td> 0.879766</td>\n",
       "    </tr>\n",
       "    <tr>\n",
       "      <th>3</th>\n",
       "      <td> /LHCb/Collision10/Beam3500GeV-VeloClosed-MagDo...</td>\n",
       "      <td> 0.324089</td>\n",
       "      <td> 0.871678</td>\n",
       "      <td> 0.879766</td>\n",
       "    </tr>\n",
       "    <tr>\n",
       "      <th>4</th>\n",
       "      <td> /LHCb/Collision10/Beam3500GeV-VeloClosed-MagDo...</td>\n",
       "      <td> 0.316556</td>\n",
       "      <td> 0.871678</td>\n",
       "      <td> 0.879766</td>\n",
       "    </tr>\n",
       "  </tbody>\n",
       "</table>\n",
       "</div>"
      ],
      "text/plain": [
       "                                                Name  Probability   roc_auc  \\\n",
       "0  /LHCb/Collision10/Beam3500GeV-VeloClosed-MagDo...     0.598435  0.871678   \n",
       "1  /LHCb/Collision10/Beam3500GeV-VeloClosed-MagDo...     0.050466  0.871678   \n",
       "2  /LHCb/Collision10/Beam3500GeV-VeloClosed-MagDo...     0.091184  0.871678   \n",
       "3  /LHCb/Collision10/Beam3500GeV-VeloClosed-MagDo...     0.324089  0.871678   \n",
       "4  /LHCb/Collision10/Beam3500GeV-VeloClosed-MagDo...     0.316556  0.871678   \n",
       "\n",
       "   precision0  \n",
       "0    0.879766  \n",
       "1    0.879766  \n",
       "2    0.879766  \n",
       "3    0.879766  \n",
       "4    0.879766  "
      ]
     },
     "execution_count": 6,
     "metadata": {},
     "output_type": "execute_result"
    }
   ],
   "source": [
    "from datapop import AccessProbabilityPrediction\n",
    "app = AccessProbabilityPrediction(metadata=metadata, access_history=access_history, forecast_horizont=26)\n",
    "report = app.predict()\n",
    "report.head()"
   ]
  },
  {
   "cell_type": "markdown",
   "metadata": {
    "collapsed": true
   },
   "source": [
    "#NumberAccessPrediction"
   ]
  },
  {
   "cell_type": "code",
   "execution_count": 7,
   "metadata": {
    "collapsed": false
   },
   "outputs": [],
   "source": [
    "from datapop import NumberAccessPrediction\n",
    "nar = NumberAccessPrediction(metadata=metadata, access_history=access_history, forecast_horizont=10)"
   ]
  },
  {
   "cell_type": "code",
   "execution_count": 8,
   "metadata": {
    "collapsed": false
   },
   "outputs": [
    {
     "data": {
      "text/html": [
       "<div style=\"max-height:1000px;max-width:1500px;overflow:auto;\">\n",
       "<table border=\"1\" class=\"dataframe\">\n",
       "  <thead>\n",
       "    <tr style=\"text-align: right;\">\n",
       "      <th></th>\n",
       "      <th>Name</th>\n",
       "      <th>Prediction</th>\n",
       "      <th>rmse</th>\n",
       "    </tr>\n",
       "  </thead>\n",
       "  <tbody>\n",
       "    <tr>\n",
       "      <th>20</th>\n",
       "      <td> /LHCb/Collision10/Beam3500GeV-VeloClosed-MagDo...</td>\n",
       "      <td> 0.000000</td>\n",
       "      <td> 158.476046</td>\n",
       "    </tr>\n",
       "    <tr>\n",
       "      <th>23</th>\n",
       "      <td> /LHCb/Collision10/Beam3500GeV-VeloClosed-MagDo...</td>\n",
       "      <td> 0.000000</td>\n",
       "      <td>   0.288675</td>\n",
       "    </tr>\n",
       "    <tr>\n",
       "      <th>26</th>\n",
       "      <td> /LHCb/Collision10/Beam3500GeV-VeloClosed-MagDo...</td>\n",
       "      <td> 0.000000</td>\n",
       "      <td>  21.083082</td>\n",
       "    </tr>\n",
       "    <tr>\n",
       "      <th>28</th>\n",
       "      <td> /LHCb/Collision10/Beam3500GeV-VeloClosed-MagDo...</td>\n",
       "      <td> 8.263944</td>\n",
       "      <td>  25.396613</td>\n",
       "    </tr>\n",
       "    <tr>\n",
       "      <th>29</th>\n",
       "      <td> /LHCb/Collision10/Beam3500GeV-VeloClosed-MagDo...</td>\n",
       "      <td> 0.000000</td>\n",
       "      <td>   0.000000</td>\n",
       "    </tr>\n",
       "  </tbody>\n",
       "</table>\n",
       "</div>"
      ],
      "text/plain": [
       "                                                 Name  Prediction        rmse\n",
       "20  /LHCb/Collision10/Beam3500GeV-VeloClosed-MagDo...    0.000000  158.476046\n",
       "23  /LHCb/Collision10/Beam3500GeV-VeloClosed-MagDo...    0.000000    0.288675\n",
       "26  /LHCb/Collision10/Beam3500GeV-VeloClosed-MagDo...    0.000000   21.083082\n",
       "28  /LHCb/Collision10/Beam3500GeV-VeloClosed-MagDo...    8.263944   25.396613\n",
       "29  /LHCb/Collision10/Beam3500GeV-VeloClosed-MagDo...    0.000000    0.000000"
      ]
     },
     "execution_count": 8,
     "metadata": {},
     "output_type": "execute_result"
    }
   ],
   "source": [
    "report = nar.predict()\n",
    "report.head()"
   ]
  },
  {
   "cell_type": "code",
   "execution_count": null,
   "metadata": {
    "collapsed": true
   },
   "outputs": [],
   "source": []
  },
  {
   "cell_type": "markdown",
   "metadata": {
    "collapsed": true
   },
   "source": [
    "#ReplicationPlacementStrategy"
   ]
  },
  {
   "cell_type": "code",
   "execution_count": 10,
   "metadata": {
    "collapsed": false
   },
   "outputs": [],
   "source": [
    "from datapop import ReplicationPlacementStrategy\n",
    "rps = ReplicationPlacementStrategy(data=data)"
   ]
  },
  {
   "cell_type": "code",
   "execution_count": 11,
   "metadata": {
    "collapsed": false
   },
   "outputs": [
    {
     "data": {
      "text/html": [
       "<div style=\"max-height:1000px;max-width:1500px;overflow:auto;\">\n",
       "<table border=\"1\" class=\"dataframe\">\n",
       "  <thead>\n",
       "    <tr style=\"text-align: right;\">\n",
       "      <th></th>\n",
       "      <th>Name</th>\n",
       "      <th>Prediction</th>\n",
       "      <th>Static_prediction</th>\n",
       "      <th>Nb_Replicas</th>\n",
       "      <th>LFNSize</th>\n",
       "      <th>Metric</th>\n",
       "    </tr>\n",
       "  </thead>\n",
       "  <tbody>\n",
       "    <tr>\n",
       "      <th>20</th>\n",
       "      <td> /LHCb/Collision10/Beam3500GeV-VeloClosed-MagDo...</td>\n",
       "      <td> 0</td>\n",
       "      <td> 5.153846</td>\n",
       "      <td> 2.000000</td>\n",
       "      <td> 0.317900</td>\n",
       "      <td> 0.500000</td>\n",
       "    </tr>\n",
       "    <tr>\n",
       "      <th>28</th>\n",
       "      <td> /LHCb/Collision10/Beam3500GeV-VeloClosed-MagDo...</td>\n",
       "      <td> 0</td>\n",
       "      <td> 0.000000</td>\n",
       "      <td> 3.973568</td>\n",
       "      <td> 0.649204</td>\n",
       "      <td> 0.251663</td>\n",
       "    </tr>\n",
       "    <tr>\n",
       "      <th>29</th>\n",
       "      <td> /LHCb/Collision10/Beam3500GeV-VeloClosed-MagDo...</td>\n",
       "      <td> 0</td>\n",
       "      <td> 0.000000</td>\n",
       "      <td> 3.984375</td>\n",
       "      <td> 0.803981</td>\n",
       "      <td> 0.250980</td>\n",
       "    </tr>\n",
       "    <tr>\n",
       "      <th>30</th>\n",
       "      <td> /LHCb/Collision10/Beam3500GeV-VeloClosed-MagDo...</td>\n",
       "      <td> 0</td>\n",
       "      <td> 0.000000</td>\n",
       "      <td> 3.993421</td>\n",
       "      <td> 0.066366</td>\n",
       "      <td> 0.250412</td>\n",
       "    </tr>\n",
       "    <tr>\n",
       "      <th>31</th>\n",
       "      <td> /LHCb/Collision10/Beam3500GeV-VeloClosed-MagDo...</td>\n",
       "      <td> 0</td>\n",
       "      <td> 0.000000</td>\n",
       "      <td> 3.994186</td>\n",
       "      <td> 0.295318</td>\n",
       "      <td> 0.250364</td>\n",
       "    </tr>\n",
       "  </tbody>\n",
       "</table>\n",
       "</div>"
      ],
      "text/plain": [
       "                                                 Name  Prediction  \\\n",
       "20  /LHCb/Collision10/Beam3500GeV-VeloClosed-MagDo...           0   \n",
       "28  /LHCb/Collision10/Beam3500GeV-VeloClosed-MagDo...           0   \n",
       "29  /LHCb/Collision10/Beam3500GeV-VeloClosed-MagDo...           0   \n",
       "30  /LHCb/Collision10/Beam3500GeV-VeloClosed-MagDo...           0   \n",
       "31  /LHCb/Collision10/Beam3500GeV-VeloClosed-MagDo...           0   \n",
       "\n",
       "    Static_prediction  Nb_Replicas   LFNSize    Metric  \n",
       "20           5.153846     2.000000  0.317900  0.500000  \n",
       "28           0.000000     3.973568  0.649204  0.251663  \n",
       "29           0.000000     3.984375  0.803981  0.250980  \n",
       "30           0.000000     3.993421  0.066366  0.250412  \n",
       "31           0.000000     3.994186  0.295318  0.250364  "
      ]
     },
     "execution_count": 11,
     "metadata": {},
     "output_type": "execute_result"
    }
   ],
   "source": [
    "report = rps._replication_metric(rps.number_access_prediction_report)\n",
    "report.head()"
   ]
  },
  {
   "cell_type": "code",
   "execution_count": null,
   "metadata": {
    "collapsed": false
   },
   "outputs": [],
   "source": [
    "a = rps.save_n_tb(n_tb=4000)"
   ]
  },
  {
   "cell_type": "code",
   "execution_count": null,
   "metadata": {
    "collapsed": false
   },
   "outputs": [],
   "source": [
    "a[a.index == 9342]"
   ]
  },
  {
   "cell_type": "code",
   "execution_count": 43,
   "metadata": {
    "collapsed": false
   },
   "outputs": [],
   "source": [
    "r = report[(report['Nb_Replicas'] >= 2)]\n",
    "candidates_selection = (r['Metric'] == r['Metric'].min())\n",
    "ind = r[candidates_selection].index\n",
    "c = report.loc[[ind[0]]]\n",
    "c['Nb_Replicas'] -= 1\n",
    "c\n",
    "report.loc[ind[0], 'Nb_Replicas'] = c['Nb_Replicas'].values[0]"
   ]
  },
  {
   "cell_type": "code",
   "execution_count": 44,
   "metadata": {
    "collapsed": false
   },
   "outputs": [
    {
     "data": {
      "text/html": [
       "<div style=\"max-height:1000px;max-width:1500px;overflow:auto;\">\n",
       "<table border=\"1\" class=\"dataframe\">\n",
       "  <thead>\n",
       "    <tr style=\"text-align: right;\">\n",
       "      <th></th>\n",
       "      <th>Name</th>\n",
       "      <th>Prediction</th>\n",
       "      <th>Static_prediction</th>\n",
       "      <th>Nb_Replicas</th>\n",
       "      <th>LFNSize</th>\n",
       "      <th>Metric</th>\n",
       "    </tr>\n",
       "  </thead>\n",
       "  <tbody>\n",
       "    <tr>\n",
       "      <th>9342</th>\n",
       "      <td> /LHCb/Collision10/Beam3500GeV-VeloOpen-MagDown...</td>\n",
       "      <td> 0</td>\n",
       "      <td> 0</td>\n",
       "      <td> 5.3</td>\n",
       "      <td> 0.010727</td>\n",
       "      <td> 0.136986</td>\n",
       "    </tr>\n",
       "  </tbody>\n",
       "</table>\n",
       "</div>"
      ],
      "text/plain": [
       "                                                   Name  Prediction  \\\n",
       "9342  /LHCb/Collision10/Beam3500GeV-VeloOpen-MagDown...           0   \n",
       "\n",
       "      Static_prediction  Nb_Replicas   LFNSize    Metric  \n",
       "9342                  0          5.3  0.010727  0.136986  "
      ]
     },
     "execution_count": 44,
     "metadata": {},
     "output_type": "execute_result"
    }
   ],
   "source": [
    "report.loc[[ind[0]]]"
   ]
  },
  {
   "cell_type": "code",
   "execution_count": null,
   "metadata": {
    "collapsed": false
   },
   "outputs": [],
   "source": [
    "cand['Nb_Replicas'] -= 1\n",
    "cand"
   ]
  },
  {
   "cell_type": "code",
   "execution_count": null,
   "metadata": {
    "collapsed": false
   },
   "outputs": [],
   "source": [
    "report = report.set_value(a, 'Nb_Replicas', 1)"
   ]
  },
  {
   "cell_type": "code",
   "execution_count": null,
   "metadata": {
    "collapsed": false
   },
   "outputs": [],
   "source": [
    "report.loc[[a]]"
   ]
  },
  {
   "cell_type": "code",
   "execution_count": null,
   "metadata": {
    "collapsed": false
   },
   "outputs": [],
   "source": [
    "report[report.Prediction == 0]"
   ]
  },
  {
   "cell_type": "code",
   "execution_count": null,
   "metadata": {
    "collapsed": false
   },
   "outputs": [],
   "source": [
    "report.set_value(report[report.Metric == report.Metric.max()].index[0], 'Nb_Replicas', 20)\n",
    "report[report.Metric == report.Metric.max()]"
   ]
  },
  {
   "cell_type": "code",
   "execution_count": null,
   "metadata": {
    "collapsed": false
   },
   "outputs": [],
   "source": [
    "metadata[['CERN','CNAF','GRIDKA','IN2P3','PIC','RAL','SARA','LFNSize', 'DiskSize','Nb_Replicas','Storage']][metadata.SARA != 0]"
   ]
  },
  {
   "cell_type": "code",
   "execution_count": null,
   "metadata": {
    "collapsed": false
   },
   "outputs": [],
   "source": [
    "a = train_data.Name.values\n",
    "test_data['1'].iloc[1] += 3\n",
    "test_data['1']\n",
    "#test_data.Name.isin(a)\n",
    "#train_data.Name.isin(test_data.Name.values)"
   ]
  },
  {
   "cell_type": "code",
   "execution_count": null,
   "metadata": {
    "collapsed": false
   },
   "outputs": [],
   "source": [
    "a = test_data.irow([2])\n",
    "b = test_data.irow([1])\n",
    "a.radd(b)"
   ]
  },
  {
   "cell_type": "code",
   "execution_count": null,
   "metadata": {
    "collapsed": false
   },
   "outputs": [],
   "source": [
    "pd = pandas.DataFrame()\n",
    "pd = pandas.concat([pd,b])\n",
    "pd = pandas.concat([pd,a])\n",
    "pd"
   ]
  },
  {
   "cell_type": "code",
   "execution_count": null,
   "metadata": {
    "collapsed": false
   },
   "outputs": [],
   "source": [
    "plt.scatter(y, y_pred)\n",
    "#plt.xlim(0, 10000)\n",
    "#plt.ylim(0, 10000)\n",
    "plt.show()"
   ]
  },
  {
   "cell_type": "code",
   "execution_count": null,
   "metadata": {
    "collapsed": true
   },
   "outputs": [],
   "source": []
  },
  {
   "cell_type": "code",
   "execution_count": null,
   "metadata": {
    "collapsed": false
   },
   "outputs": [],
   "source": [
    "X_train = train_data.drop(['Name', 'first_used', 'Y'], 1).values\n",
    "Y_train = train_data['Y'].values\n",
    "Y_pred_train = X_train[:, -26:].mean(axis=1)"
   ]
  },
  {
   "cell_type": "code",
   "execution_count": null,
   "metadata": {
    "collapsed": false
   },
   "outputs": [],
   "source": [
    "X_train.shape"
   ]
  },
  {
   "cell_type": "code",
   "execution_count": null,
   "metadata": {
    "collapsed": false
   },
   "outputs": [],
   "source": [
    "(rps._total_fraquency_week(X_train) >= 104).sum()"
   ]
  },
  {
   "cell_type": "code",
   "execution_count": null,
   "metadata": {
    "collapsed": false
   },
   "outputs": [],
   "source": [
    "error = (100.*(Y_pred_train - Y_train)/(1. + Y_train)).mean()\n",
    "error"
   ]
  },
  {
   "cell_type": "code",
   "execution_count": null,
   "metadata": {
    "collapsed": false
   },
   "outputs": [],
   "source": [
    "X_train"
   ]
  },
  {
   "cell_type": "code",
   "execution_count": null,
   "metadata": {
    "collapsed": false
   },
   "outputs": [],
   "source": [
    "X_train.mean(axis=1)"
   ]
  },
  {
   "cell_type": "code",
   "execution_count": null,
   "metadata": {
    "collapsed": true
   },
   "outputs": [],
   "source": []
  },
  {
   "cell_type": "code",
   "execution_count": null,
   "metadata": {
    "collapsed": false
   },
   "outputs": [],
   "source": [
    "numpy.percentile(y, 90)"
   ]
  },
  {
   "cell_type": "code",
   "execution_count": null,
   "metadata": {
    "collapsed": false
   },
   "outputs": [],
   "source": [
    "y"
   ]
  },
  {
   "cell_type": "code",
   "execution_count": null,
   "metadata": {
    "collapsed": false
   },
   "outputs": [],
   "source": [
    "pandas.rolling_mean(y, 847,axis=1)"
   ]
  },
  {
   "cell_type": "code",
   "execution_count": null,
   "metadata": {
    "collapsed": false
   },
   "outputs": [],
   "source": [
    "y.shape"
   ]
  },
  {
   "cell_type": "code",
   "execution_count": null,
   "metadata": {
    "collapsed": false
   },
   "outputs": [],
   "source": [
    "a= numpy.array([1,1,1,1])\n",
    "numpy.percentile(a, 90)"
   ]
  },
  {
   "cell_type": "code",
   "execution_count": null,
   "metadata": {
    "collapsed": true
   },
   "outputs": [],
   "source": []
  }
 ],
 "metadata": {
  "kernelspec": {
   "display_name": "Python 2",
   "language": "python",
   "name": "python2"
  },
  "language_info": {
   "codemirror_mode": {
    "name": "ipython",
    "version": 2
   },
   "file_extension": ".py",
   "mimetype": "text/x-python",
   "name": "python",
   "nbconvert_exporter": "python",
   "pygments_lexer": "ipython2",
   "version": "2.7.10"
  }
 },
 "nbformat": 4,
 "nbformat_minor": 0
}
