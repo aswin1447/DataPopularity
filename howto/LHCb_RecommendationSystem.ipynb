{
 "cells": [
  {
   "cell_type": "code",
   "execution_count": 1,
   "metadata": {
    "collapsed": true
   },
   "outputs": [],
   "source": [
    "%matplotlib inline\n",
    "import pandas as pd\n",
    "import numpy as np\n",
    "import matplotlib.pyplot as plt"
   ]
  },
  {
   "cell_type": "code",
   "execution_count": 2,
   "metadata": {
    "collapsed": false
   },
   "outputs": [
    {
     "data": {
      "text/html": [
       "<div style=\"max-height:1000px;max-width:1500px;overflow:auto;\">\n",
       "<table border=\"1\" class=\"dataframe\">\n",
       "  <thead>\n",
       "    <tr style=\"text-align: right;\">\n",
       "      <th></th>\n",
       "      <th>Name</th>\n",
       "      <th>Configuration</th>\n",
       "      <th>ProcessingPass</th>\n",
       "      <th>FileType</th>\n",
       "      <th>Type</th>\n",
       "      <th>Creation-week</th>\n",
       "      <th>NbLFN</th>\n",
       "      <th>LFNSize</th>\n",
       "      <th>NbDisk</th>\n",
       "      <th>DiskSize</th>\n",
       "      <th>...</th>\n",
       "      <th>95</th>\n",
       "      <th>96</th>\n",
       "      <th>97</th>\n",
       "      <th>98</th>\n",
       "      <th>99</th>\n",
       "      <th>100</th>\n",
       "      <th>101</th>\n",
       "      <th>102</th>\n",
       "      <th>103</th>\n",
       "      <th>104</th>\n",
       "    </tr>\n",
       "  </thead>\n",
       "  <tbody>\n",
       "    <tr>\n",
       "      <th>0</th>\n",
       "      <td> /LHCb/Collision10/Beam3500GeV-VeloClosed-MagDo...</td>\n",
       "      <td> /LHCb/Collision10</td>\n",
       "      <td> /RealData/Reco08-MINBIAS-FIRST-14-NB/Stripping12d</td>\n",
       "      <td>    MINIBIAS.DST</td>\n",
       "      <td> 1</td>\n",
       "      <td> 104591</td>\n",
       "      <td>  67</td>\n",
       "      <td> 0.317900</td>\n",
       "      <td> 134</td>\n",
       "      <td> 0.635799</td>\n",
       "      <td>...</td>\n",
       "      <td> 12687</td>\n",
       "      <td> 12687</td>\n",
       "      <td> 12687</td>\n",
       "      <td> 12687</td>\n",
       "      <td> 12687</td>\n",
       "      <td> 12687</td>\n",
       "      <td> 12687</td>\n",
       "      <td> 12687</td>\n",
       "      <td> 12687</td>\n",
       "      <td> 12687</td>\n",
       "    </tr>\n",
       "    <tr>\n",
       "      <th>1</th>\n",
       "      <td> /LHCb/Collision10/Beam3500GeV-VeloClosed-MagDo...</td>\n",
       "      <td> /LHCb/Collision10</td>\n",
       "      <td>                      /RealData/Reco08/Stripping14</td>\n",
       "      <td>     BHADRON.DST</td>\n",
       "      <td> 1</td>\n",
       "      <td> 104607</td>\n",
       "      <td> 227</td>\n",
       "      <td> 0.649204</td>\n",
       "      <td> 980</td>\n",
       "      <td> 2.819260</td>\n",
       "      <td>...</td>\n",
       "      <td>  1631</td>\n",
       "      <td>  1631</td>\n",
       "      <td>  1631</td>\n",
       "      <td>  1631</td>\n",
       "      <td>  1631</td>\n",
       "      <td>  1631</td>\n",
       "      <td>  1631</td>\n",
       "      <td>  1631</td>\n",
       "      <td>  1631</td>\n",
       "      <td>  1631</td>\n",
       "    </tr>\n",
       "    <tr>\n",
       "      <th>2</th>\n",
       "      <td> /LHCb/Collision10/Beam3500GeV-VeloClosed-MagDo...</td>\n",
       "      <td> /LHCb/Collision10</td>\n",
       "      <td>                      /RealData/Reco08/Stripping14</td>\n",
       "      <td> CALIBRATION.DST</td>\n",
       "      <td> 1</td>\n",
       "      <td> 104607</td>\n",
       "      <td> 355</td>\n",
       "      <td> 1.370105</td>\n",
       "      <td> 355</td>\n",
       "      <td> 1.370105</td>\n",
       "      <td>...</td>\n",
       "      <td>     0</td>\n",
       "      <td>     0</td>\n",
       "      <td>     0</td>\n",
       "      <td>   474</td>\n",
       "      <td>   708</td>\n",
       "      <td>   708</td>\n",
       "      <td>   708</td>\n",
       "      <td>   708</td>\n",
       "      <td>   708</td>\n",
       "      <td>   708</td>\n",
       "    </tr>\n",
       "  </tbody>\n",
       "</table>\n",
       "<p>3 rows × 124 columns</p>\n",
       "</div>"
      ],
      "text/plain": [
       "                                                Name      Configuration  \\\n",
       "0  /LHCb/Collision10/Beam3500GeV-VeloClosed-MagDo...  /LHCb/Collision10   \n",
       "1  /LHCb/Collision10/Beam3500GeV-VeloClosed-MagDo...  /LHCb/Collision10   \n",
       "2  /LHCb/Collision10/Beam3500GeV-VeloClosed-MagDo...  /LHCb/Collision10   \n",
       "\n",
       "                                      ProcessingPass         FileType  Type  \\\n",
       "0  /RealData/Reco08-MINBIAS-FIRST-14-NB/Stripping12d     MINIBIAS.DST     1   \n",
       "1                       /RealData/Reco08/Stripping14      BHADRON.DST     1   \n",
       "2                       /RealData/Reco08/Stripping14  CALIBRATION.DST     1   \n",
       "\n",
       "   Creation-week  NbLFN   LFNSize  NbDisk  DiskSize    ...        95     96  \\\n",
       "0         104591     67  0.317900     134  0.635799    ...     12687  12687   \n",
       "1         104607    227  0.649204     980  2.819260    ...      1631   1631   \n",
       "2         104607    355  1.370105     355  1.370105    ...         0      0   \n",
       "\n",
       "      97     98     99    100    101    102    103    104  \n",
       "0  12687  12687  12687  12687  12687  12687  12687  12687  \n",
       "1   1631   1631   1631   1631   1631   1631   1631   1631  \n",
       "2      0    474    708    708    708    708    708    708  \n",
       "\n",
       "[3 rows x 124 columns]"
      ]
     },
     "execution_count": 2,
     "metadata": {},
     "output_type": "execute_result"
    }
   ],
   "source": [
    "lhcb_data = pd.read_csv('Data/popularity-728days.csv')\n",
    "lhcb_data.irow(range(0,3))"
   ]
  },
  {
   "cell_type": "code",
   "execution_count": 3,
   "metadata": {
    "collapsed": false
   },
   "outputs": [
    {
     "data": {
      "text/plain": [
       "(500, 124)"
      ]
     },
     "execution_count": 3,
     "metadata": {},
     "output_type": "execute_result"
    }
   ],
   "source": [
    "test_data = lhcb_data.irow(np.random.choice(lhcb_data.index, 500))\n",
    "test_data.shape"
   ]
  },
  {
   "cell_type": "code",
   "execution_count": 4,
   "metadata": {
    "collapsed": true
   },
   "outputs": [],
   "source": [
    "risk_matrix = np.array([[0, 1],\n",
    "                        [10000, 0]])"
   ]
  },
  {
   "cell_type": "code",
   "execution_count": 5,
   "metadata": {
    "collapsed": false
   },
   "outputs": [],
   "source": [
    "from datapop.LHCb import RecommendationSystem\n",
    "rs = RecommendationSystem(forecast_horizont=26, class_abs_thresholds=1, risk_matrix=risk_matrix)\n",
    "#report = rs.report(data=test_data)"
   ]
  },
  {
   "cell_type": "code",
   "execution_count": 6,
   "metadata": {
    "collapsed": false
   },
   "outputs": [
    {
     "ename": "NameError",
     "evalue": "name 'report' is not defined",
     "output_type": "error",
     "traceback": [
      "\u001b[0;31m---------------------------------------------------------------------------\u001b[0m",
      "\u001b[0;31mNameError\u001b[0m                                 Traceback (most recent call last)",
      "\u001b[0;32m<ipython-input-6-a0bdc83a96f0>\u001b[0m in \u001b[0;36m<module>\u001b[0;34m()\u001b[0m\n\u001b[0;32m----> 1\u001b[0;31m \u001b[0mreport\u001b[0m\u001b[0;34m.\u001b[0m\u001b[0mirow\u001b[0m\u001b[0;34m(\u001b[0m\u001b[0mrange\u001b[0m\u001b[0;34m(\u001b[0m\u001b[0;36m0\u001b[0m\u001b[0;34m,\u001b[0m\u001b[0;36m5\u001b[0m\u001b[0;34m)\u001b[0m\u001b[0;34m)\u001b[0m\u001b[0;34m\u001b[0m\u001b[0m\n\u001b[0m",
      "\u001b[0;31mNameError\u001b[0m: name 'report' is not defined"
     ]
    }
   ],
   "source": [
    "report.irow(range(0,5))"
   ]
  },
  {
   "cell_type": "code",
   "execution_count": null,
   "metadata": {
    "collapsed": false
   },
   "outputs": [],
   "source": [
    "preprocessed_data = rs._get_preprocessed_data(test_data)\n",
    "preprocessed_data.irow(range(0,5))"
   ]
  },
  {
   "cell_type": "code",
   "execution_count": null,
   "metadata": {
    "collapsed": false
   },
   "outputs": [],
   "source": [
    "rs._report2(preprocessed_data).irow(range(0,5))"
   ]
  },
  {
   "cell_type": "code",
   "execution_count": null,
   "metadata": {
    "collapsed": true
   },
   "outputs": [],
   "source": []
  },
  {
   "cell_type": "markdown",
   "metadata": {},
   "source": [
    "#Performance"
   ]
  },
  {
   "cell_type": "code",
   "execution_count": 7,
   "metadata": {
    "collapsed": false
   },
   "outputs": [
    {
     "data": {
      "text/plain": [
       "(1000, 124)"
      ]
     },
     "execution_count": 7,
     "metadata": {},
     "output_type": "execute_result"
    }
   ],
   "source": [
    "test_data = lhcb_data.irow(np.random.choice(lhcb_data.index, 1000))\n",
    "test_data.shape"
   ]
  },
  {
   "cell_type": "code",
   "execution_count": 8,
   "metadata": {
    "collapsed": false
   },
   "outputs": [],
   "source": [
    "risk_matrix = np.array([[0, 1],\n",
    "                        [1000, 0]])"
   ]
  },
  {
   "cell_type": "code",
   "execution_count": 11,
   "metadata": {
    "collapsed": false
   },
   "outputs": [
    {
     "name": "stdout",
     "output_type": "stream",
     "text": [
      "KFold prediction using folds column\n",
      "KFold prediction using folds column\n"
     ]
    }
   ],
   "source": [
    "from datapop.LHCb import RecommendationSystem\n",
    "rs = RecommendationSystem(forecast_horizont=26, class_abs_thresholds=1, risk_matrix=risk_matrix)\n",
    "report = rs.report(data=test_data)"
   ]
  },
  {
   "cell_type": "code",
   "execution_count": 12,
   "metadata": {
    "collapsed": true
   },
   "outputs": [],
   "source": [
    "preprocessed_data = rs._get_preprocessed_data(test_data)"
   ]
  },
  {
   "cell_type": "code",
   "execution_count": null,
   "metadata": {
    "collapsed": true
   },
   "outputs": [],
   "source": []
  },
  {
   "cell_type": "code",
   "execution_count": 13,
   "metadata": {
    "collapsed": false
   },
   "outputs": [
    {
     "name": "stderr",
     "output_type": "stream",
     "text": [
      "/Users/mikhail91/.virtualenvs/rep_0_6_1/lib/python2.7/site-packages/pandas/computation/expressions.py:184: UserWarning: evaluating in Python space because the '+' operator is not supported by numexpr for the bool dtype, use '|' instead\n",
      "  unsupported[op_str]))\n"
     ]
    }
   ],
   "source": [
    "from datapop.core import Simulator\n",
    "core_sim = Simulator()\n",
    "period_data = core_sim.get_period(data=preprocessed_data, period='78', forecast_horizont=26, class_abs_thresholds=1)"
   ]
  },
  {
   "cell_type": "code",
   "execution_count": 14,
   "metadata": {
    "collapsed": false
   },
   "outputs": [
    {
     "name": "stdout",
     "output_type": "stream",
     "text": [
      "KFold prediction using folds column\n",
      "KFold prediction using folds column\n"
     ]
    }
   ],
   "source": [
    "period_report = rs._report2(period_data)"
   ]
  },
  {
   "cell_type": "code",
   "execution_count": 16,
   "metadata": {
    "collapsed": true
   },
   "outputs": [],
   "source": [
    "from datapop.LHCb import Performance\n",
    "per = Performance()"
   ]
  },
  {
   "cell_type": "code",
   "execution_count": 17,
   "metadata": {
    "collapsed": false
   },
   "outputs": [
    {
     "data": {
      "text/plain": [
       "0.58683473389355745"
      ]
     },
     "execution_count": 17,
     "metadata": {},
     "output_type": "execute_result"
    }
   ],
   "source": [
    "roc_auc = per.get_roc_auc(report=period_report, period_data=period_data)\n",
    "roc_auc"
   ]
  },
  {
   "cell_type": "code",
   "execution_count": 18,
   "metadata": {
    "collapsed": false
   },
   "outputs": [
    {
     "data": {
      "text/plain": [
       "141"
      ]
     },
     "execution_count": 18,
     "metadata": {},
     "output_type": "execute_result"
    }
   ],
   "source": [
    "mistakes = per.get_mistakes_matrix(report=period_report, period_data=period_data)\n",
    "mistakes"
   ]
  },
  {
   "cell_type": "code",
   "execution_count": 19,
   "metadata": {
    "collapsed": false
   },
   "outputs": [
    {
     "data": {
      "text/plain": [
       "(1000,)"
      ]
     },
     "execution_count": 19,
     "metadata": {},
     "output_type": "execute_result"
    }
   ],
   "source": [
    "(report['Recommended_Type']==1).shape"
   ]
  },
  {
   "cell_type": "code",
   "execution_count": 20,
   "metadata": {
    "collapsed": false
   },
   "outputs": [
    {
     "data": {
      "text/plain": [
       "(895,)"
      ]
     },
     "execution_count": 20,
     "metadata": {},
     "output_type": "execute_result"
    }
   ],
   "source": [
    "period_data['DiskSize'].shape"
   ]
  },
  {
   "cell_type": "code",
   "execution_count": 21,
   "metadata": {
    "collapsed": false
   },
   "outputs": [
    {
     "data": {
      "text/plain": [
       "373.373245"
      ]
     },
     "execution_count": 21,
     "metadata": {},
     "output_type": "execute_result"
    }
   ],
   "source": [
    "(period_data['DiskSize'])[period_report['Recommended_Type'].values==1].sum(axis=0)"
   ]
  },
  {
   "cell_type": "code",
   "execution_count": 22,
   "metadata": {
    "collapsed": false
   },
   "outputs": [
    {
     "data": {
      "text/plain": [
       "(373.373245, 366.24750699999998)"
      ]
     },
     "execution_count": 22,
     "metadata": {},
     "output_type": "execute_result"
    }
   ],
   "source": [
    "per.get_total_size(report=period_report, period_data=period_data)"
   ]
  },
  {
   "cell_type": "markdown",
   "metadata": {},
   "source": [
    "#Simulation"
   ]
  },
  {
   "cell_type": "code",
   "execution_count": 6,
   "metadata": {
    "collapsed": false
   },
   "outputs": [],
   "source": [
    "from datapop.LHCb import LHCbSimulator\n",
    "sim = LHCbSimulator(data=test_data,\\\n",
    "                   begin=52, step=5,\\\n",
    "                   recommendation_system=rs)"
   ]
  },
  {
   "cell_type": "code",
   "execution_count": 7,
   "metadata": {
    "collapsed": false
   },
   "outputs": [
    {
     "name": "stdout",
     "output_type": "stream",
     "text": [
      "KFold prediction using folds column\n",
      "KFold prediction using folds column\n",
      "KFold prediction using folds column\n",
      "KFold prediction using folds column\n",
      "KFold prediction using folds column\n",
      "KFold prediction using folds column\n",
      "KFold prediction using folds column\n",
      "KFold prediction using folds column\n",
      "KFold prediction using folds column\n",
      "KFold prediction using folds column\n",
      "KFold prediction using folds column\n",
      "KFold prediction using folds column\n"
     ]
    },
    {
     "name": "stderr",
     "output_type": "stream",
     "text": [
      "/Users/mikhail91/.virtualenvs/rep_0_6_1/lib/python2.7/site-packages/pandas/computation/expressions.py:184: UserWarning: evaluating in Python space because the '+' operator is not supported by numexpr for the bool dtype, use '|' instead\n",
      "  unsupported[op_str]))\n",
      "/Users/mikhail91/Documents/Github/DataPopularity/datapop/datapop/core/Simulator.py:56: FutureWarning: comparison to `None` will result in an elementwise object comparison in the future.\n",
      "  if forecast_horizont!=None and class_abs_thresholds!=None:\n"
     ]
    }
   ],
   "source": [
    "simulation_report = sim.simulation_report()"
   ]
  },
  {
   "cell_type": "code",
   "execution_count": 8,
   "metadata": {
    "collapsed": false
   },
   "outputs": [
    {
     "data": {
      "text/html": [
       "<div style=\"max-height:1000px;max-width:1500px;overflow:auto;\">\n",
       "<table border=\"1\" class=\"dataframe\">\n",
       "  <thead>\n",
       "    <tr style=\"text-align: right;\">\n",
       "      <th></th>\n",
       "      <th>Periods</th>\n",
       "      <th>ROC_AUC</th>\n",
       "      <th>Mistakes</th>\n",
       "      <th>Recommended_total_disk_size</th>\n",
       "      <th>True_total_disk_size</th>\n",
       "    </tr>\n",
       "  </thead>\n",
       "  <tbody>\n",
       "    <tr>\n",
       "      <th>0</th>\n",
       "      <td> 52</td>\n",
       "      <td> 0.505938</td>\n",
       "      <td> 140</td>\n",
       "      <td> 371.263129</td>\n",
       "      <td> 386.587886</td>\n",
       "    </tr>\n",
       "    <tr>\n",
       "      <th>1</th>\n",
       "      <td> 57</td>\n",
       "      <td> 0.535610</td>\n",
       "      <td> 124</td>\n",
       "      <td> 380.021614</td>\n",
       "      <td> 396.137702</td>\n",
       "    </tr>\n",
       "    <tr>\n",
       "      <th>2</th>\n",
       "      <td> 62</td>\n",
       "      <td> 0.579910</td>\n",
       "      <td> 103</td>\n",
       "      <td> 398.757214</td>\n",
       "      <td> 394.138126</td>\n",
       "    </tr>\n",
       "    <tr>\n",
       "      <th>3</th>\n",
       "      <td> 67</td>\n",
       "      <td> 0.567353</td>\n",
       "      <td>  95</td>\n",
       "      <td> 406.164176</td>\n",
       "      <td> 409.028577</td>\n",
       "    </tr>\n",
       "    <tr>\n",
       "      <th>4</th>\n",
       "      <td> 72</td>\n",
       "      <td> 0.632545</td>\n",
       "      <td>  84</td>\n",
       "      <td> 424.716681</td>\n",
       "      <td> 411.463354</td>\n",
       "    </tr>\n",
       "    <tr>\n",
       "      <th>5</th>\n",
       "      <td> 77</td>\n",
       "      <td> 0.631026</td>\n",
       "      <td>  73</td>\n",
       "      <td> 438.138570</td>\n",
       "      <td> 392.566009</td>\n",
       "    </tr>\n",
       "  </tbody>\n",
       "</table>\n",
       "</div>"
      ],
      "text/plain": [
       "   Periods   ROC_AUC  Mistakes  Recommended_total_disk_size  \\\n",
       "0       52  0.505938       140                   371.263129   \n",
       "1       57  0.535610       124                   380.021614   \n",
       "2       62  0.579910       103                   398.757214   \n",
       "3       67  0.567353        95                   406.164176   \n",
       "4       72  0.632545        84                   424.716681   \n",
       "5       77  0.631026        73                   438.138570   \n",
       "\n",
       "   True_total_disk_size  \n",
       "0            386.587886  \n",
       "1            396.137702  \n",
       "2            394.138126  \n",
       "3            409.028577  \n",
       "4            411.463354  \n",
       "5            392.566009  "
      ]
     },
     "execution_count": 8,
     "metadata": {},
     "output_type": "execute_result"
    }
   ],
   "source": [
    "simulation_report"
   ]
  },
  {
   "cell_type": "code",
   "execution_count": 9,
   "metadata": {
    "collapsed": true
   },
   "outputs": [],
   "source": [
    "dp = simulation_report"
   ]
  },
  {
   "cell_type": "code",
   "execution_count": 10,
   "metadata": {
    "collapsed": false
   },
   "outputs": [
    {
     "data": {
      "text/plain": [
       "<matplotlib.legend.Legend at 0x107820c50>"
      ]
     },
     "execution_count": 10,
     "metadata": {},
     "output_type": "execute_result"
    },
    {
     "data": {
      "image/png": "[encoded data removed]",
      "text/plain": [
       "<matplotlib.figure.Figure at 0x107889a50>"
      ]
     },
     "metadata": {},
     "output_type": "display_data"
    }
   ],
   "source": [
    "plt.figure(figsize=(15, 10))\n",
    "\n",
    "plt.subplot(2,2,1)\n",
    "dp = simulation_report\n",
    "plt.plot(dp.Periods, dp.ROC_AUC, label='datapop', c='r')\n",
    "plt.title('ROC AUC')\n",
    "plt.xlabel('Periods')\n",
    "plt.ylabel('ROC AUC')\n",
    "plt.legend(loc='best')\n",
    "\n",
    "plt.subplot(2,2,2)\n",
    "plt.plot(dp.Periods, dp.Mistakes, label='datapop', c='r')\n",
    "plt.title('Mistakes')\n",
    "plt.xlabel('Periods')\n",
    "plt.ylabel('Mistakes')\n",
    "plt.legend(loc='best')\n",
    "\n",
    "plt.subplot(2,2,3)\n",
    "plt.plot(dp.Periods, dp.Recommended_total_disk_size, label='datapop', c='r')\n",
    "plt.title('Recommended total disk size')\n",
    "plt.xlabel('Periods')\n",
    "plt.ylabel('Size')\n",
    "plt.legend(loc='best')\n",
    "\n",
    "plt.subplot(2,2,4)\n",
    "plt.plot(dp.Periods, dp.True_total_disk_size, label='datapop', c='r')\n",
    "plt.title('True total disk size')\n",
    "plt.xlabel('Periods')\n",
    "plt.ylabel('Size')\n",
    "plt.legend(loc='best')"
   ]
  },
  {
   "cell_type": "code",
   "execution_count": null,
   "metadata": {
    "collapsed": true
   },
   "outputs": [],
   "source": []
  }
 ],
 "metadata": {
  "kernelspec": {
   "display_name": "Python 2",
   "language": "python",
   "name": "python2"
  },
  "language_info": {
   "codemirror_mode": {
    "name": "ipython",
    "version": 2
   },
   "file_extension": ".py",
   "mimetype": "text/x-python",
   "name": "python",
   "nbconvert_exporter": "python",
   "pygments_lexer": "ipython2",
   "version": "2.7.10"
  }
 },
 "nbformat": 4,
 "nbformat_minor": 0
}
