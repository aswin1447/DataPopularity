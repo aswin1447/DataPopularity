{
 "cells": [
  {
   "cell_type": "markdown",
   "metadata": {},
   "source": [
    "#About\n",
    "This notebook shows how to use data popularity api service wrapper. The service runs in docker container."
   ]
  },
  {
   "cell_type": "markdown",
   "metadata": {},
   "source": [
    "For further understanding of this service look http://nbviewer.ipython.org/github/hushchyn-mikhail/DataPopularity/blob/master/howto/howto_01_DataPopularity.ipynb and http://nbviewer.ipython.org/github/hushchyn-mikhail/DataPopularity/blob/master/howto/howto_02_data_popularity_api.ipynb first."
   ]
  },
  {
   "cell_type": "markdown",
   "metadata": {},
   "source": [
    "#Docker pull & run\n",
    "To start your work you should run docker container, which provides the data popularity api service"
   ]
  },
  {
   "cell_type": "markdown",
   "metadata": {},
   "source": [
    "In terminal type:\n",
    "1. ####sudo docker pull hushchynmikhail/dp_api\n",
    "2. ####sudo docker run -d -p 5000:5000 hushchynmikhail/dp_api python DataPopularity/data_popularity_api/dp_api.py"
   ]
  },
  {
   "cell_type": "markdown",
   "metadata": {},
   "source": [
    "#Init DataPopularityApiWrapper"
   ]
  },
  {
   "cell_type": "code",
   "execution_count": 16,
   "metadata": {
    "collapsed": false
   },
   "outputs": [],
   "source": [
    "from DataPopularityApiWrapper import DataPopularityApiWrapper\n",
    "\n",
    "dpaw = DataPopularityApiWrapper(service_url='http://localhost:5000')"
   ]
  },
  {
   "cell_type": "markdown",
   "metadata": {},
   "source": [
    "#Upload data"
   ]
  },
  {
   "cell_type": "code",
   "execution_count": 17,
   "metadata": {
    "collapsed": false
   },
   "outputs": [
    {
     "data": {
      "text/plain": [
       "1"
      ]
     },
     "execution_count": 17,
     "metadata": {},
     "output_type": "execute_result"
    }
   ],
   "source": [
    "data_path = 'Data/popularity-728days.csv'\n",
    "dpaw.upload(data_path=data_path)"
   ]
  },
  {
   "cell_type": "markdown",
   "metadata": {},
   "source": [
    "#Run algorithm\n",
    "The following method runs DataPopularityEstimator and DataIntensityPredictor"
   ]
  },
  {
   "cell_type": "code",
   "execution_count": 18,
   "metadata": {
    "collapsed": false
   },
   "outputs": [
    {
     "name": "stdout",
     "output_type": "stream",
     "text": [
      "CPU times: user 8.54 ms, sys: 9.57 ms, total: 18.1 ms\n",
      "Wall time: 7min 11s\n"
     ]
    }
   ],
   "source": [
    "%%time\n",
    "dpaw.run_algorithm(nb_of_weeks=104)"
   ]
  },
  {
   "cell_type": "markdown",
   "metadata": {},
   "source": [
    "#Get data popularity"
   ]
  },
  {
   "cell_type": "code",
   "execution_count": 19,
   "metadata": {
    "collapsed": false
   },
   "outputs": [
    {
     "name": "stdout",
     "output_type": "stream",
     "text": [
      "CPU times: user 28.2 ms, sys: 7.36 ms, total: 35.5 ms\n",
      "Wall time: 40.1 ms\n"
     ]
    }
   ],
   "source": [
    "%%time\n",
    "popularity = dpaw.get_data_popularity()"
   ]
  },
  {
   "cell_type": "code",
   "execution_count": 20,
   "metadata": {
    "collapsed": false
   },
   "outputs": [
    {
     "data": {
      "text/html": [
       "<div style=\"max-height:1000px;max-width:1500px;overflow:auto;\">\n",
       "<table border=\"1\" class=\"dataframe\">\n",
       "  <thead>\n",
       "    <tr style=\"text-align: right;\">\n",
       "      <th></th>\n",
       "      <th>Unnamed: 0</th>\n",
       "      <th>Name</th>\n",
       "      <th>Popularity</th>\n",
       "      <th>Label</th>\n",
       "    </tr>\n",
       "  </thead>\n",
       "  <tbody>\n",
       "    <tr>\n",
       "      <th>0</th>\n",
       "      <td> 0</td>\n",
       "      <td> /MC/2010/Beam3500GeV-Oct2010-MagDown-Nu2.5/Sim...</td>\n",
       "      <td> 0.726217</td>\n",
       "      <td> 1</td>\n",
       "    </tr>\n",
       "    <tr>\n",
       "      <th>1</th>\n",
       "      <td> 1</td>\n",
       "      <td> /MC/2011/Beam3500GeV-2011-MagDown-Fix1-EmNoCut...</td>\n",
       "      <td> 0.664050</td>\n",
       "      <td> 1</td>\n",
       "    </tr>\n",
       "    <tr>\n",
       "      <th>2</th>\n",
       "      <td> 2</td>\n",
       "      <td> /MC/2012/Beam4000GeV-2012-MagUp-Nu2.5-Pythia8/...</td>\n",
       "      <td> 0.011929</td>\n",
       "      <td> 0</td>\n",
       "    </tr>\n",
       "    <tr>\n",
       "      <th>3</th>\n",
       "      <td> 3</td>\n",
       "      <td> /MC/2012/Beam4000GeV-2012-MagUp-Nu2.5-Pythia8/...</td>\n",
       "      <td> 0.002393</td>\n",
       "      <td> 0</td>\n",
       "    </tr>\n",
       "    <tr>\n",
       "      <th>4</th>\n",
       "      <td> 4</td>\n",
       "      <td> /MC/2011/Beam3500GeV-2011-MagDown-Nu2-EmNoCuts...</td>\n",
       "      <td> 0.801256</td>\n",
       "      <td> 1</td>\n",
       "    </tr>\n",
       "  </tbody>\n",
       "</table>\n",
       "</div>"
      ],
      "text/plain": [
       "   Unnamed: 0                                               Name  Popularity  \\\n",
       "0           0  /MC/2010/Beam3500GeV-Oct2010-MagDown-Nu2.5/Sim...    0.726217   \n",
       "1           1  /MC/2011/Beam3500GeV-2011-MagDown-Fix1-EmNoCut...    0.664050   \n",
       "2           2  /MC/2012/Beam4000GeV-2012-MagUp-Nu2.5-Pythia8/...    0.011929   \n",
       "3           3  /MC/2012/Beam4000GeV-2012-MagUp-Nu2.5-Pythia8/...    0.002393   \n",
       "4           4  /MC/2011/Beam3500GeV-2011-MagDown-Nu2-EmNoCuts...    0.801256   \n",
       "\n",
       "   Label  \n",
       "0      1  \n",
       "1      1  \n",
       "2      0  \n",
       "3      0  \n",
       "4      1  "
      ]
     },
     "execution_count": 20,
     "metadata": {},
     "output_type": "execute_result"
    }
   ],
   "source": [
    "popularity.irow(range(0,5))"
   ]
  },
  {
   "cell_type": "markdown",
   "metadata": {},
   "source": [
    "#Get predicted data intensity"
   ]
  },
  {
   "cell_type": "code",
   "execution_count": 21,
   "metadata": {
    "collapsed": false
   },
   "outputs": [
    {
     "name": "stdout",
     "output_type": "stream",
     "text": [
      "CPU times: user 35.9 ms, sys: 0 ns, total: 35.9 ms\n",
      "Wall time: 38.7 ms\n"
     ]
    }
   ],
   "source": [
    "%%time\n",
    "prediction = dpaw.get_data_intensity_prediction()"
   ]
  },
  {
   "cell_type": "code",
   "execution_count": 22,
   "metadata": {
    "collapsed": false
   },
   "outputs": [
    {
     "data": {
      "text/html": [
       "<div style=\"max-height:1000px;max-width:1500px;overflow:auto;\">\n",
       "<table border=\"1\" class=\"dataframe\">\n",
       "  <thead>\n",
       "    <tr style=\"text-align: right;\">\n",
       "      <th></th>\n",
       "      <th>Unnamed: 0</th>\n",
       "      <th>Name</th>\n",
       "      <th>Intensity</th>\n",
       "      <th>Std_error</th>\n",
       "    </tr>\n",
       "  </thead>\n",
       "  <tbody>\n",
       "    <tr>\n",
       "      <th>0</th>\n",
       "      <td> 0</td>\n",
       "      <td> /LHCb/Collision10/Beam3500GeV-VeloClosed-MagDo...</td>\n",
       "      <td> 6.241640e+00</td>\n",
       "      <td>  29.241197</td>\n",
       "    </tr>\n",
       "    <tr>\n",
       "      <th>1</th>\n",
       "      <td> 1</td>\n",
       "      <td> /LHCb/Collision10/Beam3500GeV-VeloClosed-MagDo...</td>\n",
       "      <td> 3.269593e+01</td>\n",
       "      <td> 105.950344</td>\n",
       "    </tr>\n",
       "    <tr>\n",
       "      <th>2</th>\n",
       "      <td> 2</td>\n",
       "      <td> /LHCb/Collision10/Beam3500GeV-VeloClosed-MagDo...</td>\n",
       "      <td> 0.000000e+00</td>\n",
       "      <td>   0.000002</td>\n",
       "    </tr>\n",
       "    <tr>\n",
       "      <th>3</th>\n",
       "      <td> 3</td>\n",
       "      <td> /LHCb/Collision10/Beam3500GeV-VeloClosed-MagDo...</td>\n",
       "      <td> 1.800680e-01</td>\n",
       "      <td>   0.000000</td>\n",
       "    </tr>\n",
       "    <tr>\n",
       "      <th>4</th>\n",
       "      <td> 4</td>\n",
       "      <td> /LHCb/Collision10/Beam3500GeV-VeloClosed-MagDo...</td>\n",
       "      <td> 2.080052e-15</td>\n",
       "      <td>   0.000000</td>\n",
       "    </tr>\n",
       "  </tbody>\n",
       "</table>\n",
       "</div>"
      ],
      "text/plain": [
       "   Unnamed: 0                                               Name  \\\n",
       "0           0  /LHCb/Collision10/Beam3500GeV-VeloClosed-MagDo...   \n",
       "1           1  /LHCb/Collision10/Beam3500GeV-VeloClosed-MagDo...   \n",
       "2           2  /LHCb/Collision10/Beam3500GeV-VeloClosed-MagDo...   \n",
       "3           3  /LHCb/Collision10/Beam3500GeV-VeloClosed-MagDo...   \n",
       "4           4  /LHCb/Collision10/Beam3500GeV-VeloClosed-MagDo...   \n",
       "\n",
       "      Intensity   Std_error  \n",
       "0  6.241640e+00   29.241197  \n",
       "1  3.269593e+01  105.950344  \n",
       "2  0.000000e+00    0.000002  \n",
       "3  1.800680e-01    0.000000  \n",
       "4  2.080052e-15    0.000000  "
      ]
     },
     "execution_count": 22,
     "metadata": {},
     "output_type": "execute_result"
    }
   ],
   "source": [
    "prediction.irow(range(0,5))"
   ]
  },
  {
   "cell_type": "markdown",
   "metadata": {},
   "source": [
    "#Get optimization report\n",
    "This method returns report after loss function optimization. The method runs DataPlacementOptimizer"
   ]
  },
  {
   "cell_type": "code",
   "execution_count": 23,
   "metadata": {
    "collapsed": false
   },
   "outputs": [
    {
     "name": "stdout",
     "output_type": "stream",
     "text": [
      "CPU times: user 39.2 ms, sys: 0 ns, total: 39.2 ms\n",
      "Wall time: 6.04 s\n"
     ]
    }
   ],
   "source": [
    "%%time\n",
    "opti_report = dpaw.get_opti_report(q=None, set_replicas='auto', c_disk=100, c_tape=1, c_miss=2000,\\\n",
    "                alpha=1, max_replicas=4)"
   ]
  },
  {
   "cell_type": "code",
   "execution_count": 24,
   "metadata": {
    "collapsed": false
   },
   "outputs": [
    {
     "data": {
      "text/html": [
       "<div style=\"max-height:1000px;max-width:1500px;overflow:auto;\">\n",
       "<table border=\"1\" class=\"dataframe\">\n",
       "  <thead>\n",
       "    <tr style=\"text-align: right;\">\n",
       "      <th></th>\n",
       "      <th>Unnamed: 0</th>\n",
       "      <th>Name</th>\n",
       "      <th>OnDisk</th>\n",
       "      <th>NbReplicas</th>\n",
       "    </tr>\n",
       "  </thead>\n",
       "  <tbody>\n",
       "    <tr>\n",
       "      <th>0</th>\n",
       "      <td>   670</td>\n",
       "      <td> /LHCb/Collision10/Beam3500GeV-VeloClosed-MagDo...</td>\n",
       "      <td> 1</td>\n",
       "      <td> 3</td>\n",
       "    </tr>\n",
       "    <tr>\n",
       "      <th>1</th>\n",
       "      <td>  3152</td>\n",
       "      <td> /LHCb/Collision10/Beam3500GeV-VeloClosed-MagDo...</td>\n",
       "      <td> 1</td>\n",
       "      <td> 4</td>\n",
       "    </tr>\n",
       "    <tr>\n",
       "      <th>2</th>\n",
       "      <td>  7992</td>\n",
       "      <td> /LHCb/Collision10/Beam3500GeV-VeloClosed-MagDo...</td>\n",
       "      <td> 0</td>\n",
       "      <td> 1</td>\n",
       "    </tr>\n",
       "    <tr>\n",
       "      <th>3</th>\n",
       "      <td>  5847</td>\n",
       "      <td> /LHCb/Collision10/Beam3500GeV-VeloClosed-MagDo...</td>\n",
       "      <td> 0</td>\n",
       "      <td> 1</td>\n",
       "    </tr>\n",
       "    <tr>\n",
       "      <th>4</th>\n",
       "      <td> 10331</td>\n",
       "      <td> /LHCb/Collision10/Beam3500GeV-VeloClosed-MagDo...</td>\n",
       "      <td> 1</td>\n",
       "      <td> 1</td>\n",
       "    </tr>\n",
       "  </tbody>\n",
       "</table>\n",
       "</div>"
      ],
      "text/plain": [
       "   Unnamed: 0                                               Name  OnDisk  \\\n",
       "0         670  /LHCb/Collision10/Beam3500GeV-VeloClosed-MagDo...       1   \n",
       "1        3152  /LHCb/Collision10/Beam3500GeV-VeloClosed-MagDo...       1   \n",
       "2        7992  /LHCb/Collision10/Beam3500GeV-VeloClosed-MagDo...       0   \n",
       "3        5847  /LHCb/Collision10/Beam3500GeV-VeloClosed-MagDo...       0   \n",
       "4       10331  /LHCb/Collision10/Beam3500GeV-VeloClosed-MagDo...       1   \n",
       "\n",
       "   NbReplicas  \n",
       "0           3  \n",
       "1           4  \n",
       "2           1  \n",
       "3           1  \n",
       "4           1  "
      ]
     },
     "execution_count": 24,
     "metadata": {},
     "output_type": "execute_result"
    }
   ],
   "source": [
    "opti_report.irow(range(0,5))"
   ]
  },
  {
   "cell_type": "markdown",
   "metadata": {},
   "source": [
    "#Get report\n",
    "This method returns report for the data popularity value."
   ]
  },
  {
   "cell_type": "code",
   "execution_count": 25,
   "metadata": {
    "collapsed": false
   },
   "outputs": [
    {
     "name": "stdout",
     "output_type": "stream",
     "text": [
      "CPU times: user 49 ms, sys: 189 µs, total: 49.2 ms\n",
      "Wall time: 649 ms\n"
     ]
    }
   ],
   "source": [
    "%%time\n",
    "report = dpaw.get_report(q=None, set_replicas='auto', c_disk=100, c_tape=1, c_miss=2000,\\\n",
    "                alpha=1, max_replicas=4, pop_cut=0.5)"
   ]
  },
  {
   "cell_type": "code",
   "execution_count": 26,
   "metadata": {
    "collapsed": false
   },
   "outputs": [
    {
     "data": {
      "text/html": [
       "<div style=\"max-height:1000px;max-width:1500px;overflow:auto;\">\n",
       "<table border=\"1\" class=\"dataframe\">\n",
       "  <thead>\n",
       "    <tr style=\"text-align: right;\">\n",
       "      <th></th>\n",
       "      <th>Unnamed: 0</th>\n",
       "      <th>Unnamed: 0.1</th>\n",
       "      <th>Name</th>\n",
       "      <th>Popularity</th>\n",
       "      <th>Label</th>\n",
       "      <th>Intensity</th>\n",
       "      <th>LFNSize</th>\n",
       "      <th>OnDisk</th>\n",
       "      <th>NbReplicas</th>\n",
       "      <th>Missing</th>\n",
       "    </tr>\n",
       "  </thead>\n",
       "  <tbody>\n",
       "    <tr>\n",
       "      <th>0</th>\n",
       "      <td>   670</td>\n",
       "      <td>  670</td>\n",
       "      <td> /LHCb/Collision10/Beam3500GeV-VeloClosed-MagDo...</td>\n",
       "      <td> 0.019055</td>\n",
       "      <td> 0</td>\n",
       "      <td>  6.241640</td>\n",
       "      <td> 0.317900</td>\n",
       "      <td> 1</td>\n",
       "      <td> 3</td>\n",
       "      <td> 0</td>\n",
       "    </tr>\n",
       "    <tr>\n",
       "      <th>1</th>\n",
       "      <td>  3152</td>\n",
       "      <td> 3152</td>\n",
       "      <td> /LHCb/Collision10/Beam3500GeV-VeloClosed-MagDo...</td>\n",
       "      <td> 0.036589</td>\n",
       "      <td> 0</td>\n",
       "      <td> 32.695929</td>\n",
       "      <td> 0.649204</td>\n",
       "      <td> 1</td>\n",
       "      <td> 4</td>\n",
       "      <td> 0</td>\n",
       "    </tr>\n",
       "    <tr>\n",
       "      <th>2</th>\n",
       "      <td>  7992</td>\n",
       "      <td> 2808</td>\n",
       "      <td> /LHCb/Collision10/Beam3500GeV-VeloClosed-MagDo...</td>\n",
       "      <td> 0.351962</td>\n",
       "      <td> 1</td>\n",
       "      <td>  0.000000</td>\n",
       "      <td> 1.370105</td>\n",
       "      <td> 1</td>\n",
       "      <td> 1</td>\n",
       "      <td> 0</td>\n",
       "    </tr>\n",
       "    <tr>\n",
       "      <th>3</th>\n",
       "      <td>  5847</td>\n",
       "      <td>  663</td>\n",
       "      <td> /LHCb/Collision10/Beam3500GeV-VeloClosed-MagDo...</td>\n",
       "      <td> 0.405495</td>\n",
       "      <td> 1</td>\n",
       "      <td>  0.000000</td>\n",
       "      <td> 0.095290</td>\n",
       "      <td> 1</td>\n",
       "      <td> 1</td>\n",
       "      <td> 0</td>\n",
       "    </tr>\n",
       "    <tr>\n",
       "      <th>4</th>\n",
       "      <td> 10331</td>\n",
       "      <td> 5147</td>\n",
       "      <td> /LHCb/Collision10/Beam3500GeV-VeloClosed-MagDo...</td>\n",
       "      <td> 0.000638</td>\n",
       "      <td> 0</td>\n",
       "      <td>  0.180068</td>\n",
       "      <td> 0.803981</td>\n",
       "      <td> 1</td>\n",
       "      <td> 1</td>\n",
       "      <td> 0</td>\n",
       "    </tr>\n",
       "  </tbody>\n",
       "</table>\n",
       "</div>"
      ],
      "text/plain": [
       "   Unnamed: 0  Unnamed: 0.1  \\\n",
       "0         670           670   \n",
       "1        3152          3152   \n",
       "2        7992          2808   \n",
       "3        5847           663   \n",
       "4       10331          5147   \n",
       "\n",
       "                                                Name  Popularity  Label  \\\n",
       "0  /LHCb/Collision10/Beam3500GeV-VeloClosed-MagDo...    0.019055      0   \n",
       "1  /LHCb/Collision10/Beam3500GeV-VeloClosed-MagDo...    0.036589      0   \n",
       "2  /LHCb/Collision10/Beam3500GeV-VeloClosed-MagDo...    0.351962      1   \n",
       "3  /LHCb/Collision10/Beam3500GeV-VeloClosed-MagDo...    0.405495      1   \n",
       "4  /LHCb/Collision10/Beam3500GeV-VeloClosed-MagDo...    0.000638      0   \n",
       "\n",
       "   Intensity   LFNSize  OnDisk  NbReplicas  Missing  \n",
       "0   6.241640  0.317900       1           3        0  \n",
       "1  32.695929  0.649204       1           4        0  \n",
       "2   0.000000  1.370105       1           1        0  \n",
       "3   0.000000  0.095290       1           1        0  \n",
       "4   0.180068  0.803981       1           1        0  "
      ]
     },
     "execution_count": 26,
     "metadata": {},
     "output_type": "execute_result"
    }
   ],
   "source": [
    "report.irow(range(0,5))"
   ]
  },
  {
   "cell_type": "code",
   "execution_count": null,
   "metadata": {
    "collapsed": true
   },
   "outputs": [],
   "source": []
  }
 ],
 "metadata": {
  "kernelspec": {
   "display_name": "Python 2",
   "language": "python",
   "name": "python2"
  },
  "language_info": {
   "codemirror_mode": {
    "name": "ipython",
    "version": 2
   },
   "file_extension": ".py",
   "mimetype": "text/x-python",
   "name": "python",
   "nbconvert_exporter": "python",
   "pygments_lexer": "ipython2",
   "version": "2.7.6"
  }
 },
 "nbformat": 4,
 "nbformat_minor": 0
}
