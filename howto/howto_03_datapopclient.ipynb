{
 "cells": [
  {
   "cell_type": "markdown",
   "metadata": {},
   "source": [
    "#About\n",
    "This notebook shows how to use data popularity api service wrapper. The service runs in docker container."
   ]
  },
  {
   "cell_type": "markdown",
   "metadata": {},
   "source": [
    "For further understanding of this service look **howto_01_datapop.ipynb** and **howto_02_datapopserv.ipynb** first."
   ]
  },
  {
   "cell_type": "markdown",
   "metadata": {},
   "source": [
    "#Docker pull & run\n",
    "To start your work you should run docker container, which provides the data popularity api service"
   ]
  },
  {
   "cell_type": "markdown",
   "metadata": {},
   "source": [
    "In terminal type:\n",
    "1. ####sudo docker pull hushchynmikhail/dp_api\n",
    "2. ####sudo docker run -d -p 5000:5000 hushchynmikhail/dp_api python DataPopularity/data_popularity_api/dp_api.py"
   ]
  },
  {
   "cell_type": "markdown",
   "metadata": {},
   "source": [
    "#Init DataPopularityApiWrapper"
   ]
  },
  {
   "cell_type": "code",
   "execution_count": 2,
   "metadata": {
    "collapsed": false
   },
   "outputs": [],
   "source": [
    "from datapopclient import DataPopularityClient\n",
    "\n",
    "dpaw = DataPopularityClient(service_url='http://localhost:5000')"
   ]
  },
  {
   "cell_type": "markdown",
   "metadata": {},
   "source": [
    "#Upload data"
   ]
  },
  {
   "cell_type": "code",
   "execution_count": 3,
   "metadata": {
    "collapsed": false
   },
   "outputs": [
    {
     "data": {
      "text/plain": [
       "1"
      ]
     },
     "execution_count": 3,
     "metadata": {},
     "output_type": "execute_result"
    }
   ],
   "source": [
    "data_path = 'Data/popularity-728days.csv'\n",
    "dpaw.upload(data_path=data_path)"
   ]
  },
  {
   "cell_type": "markdown",
   "metadata": {},
   "source": [
    "#Run algorithm\n",
    "The following method runs DataPopularityEstimator and DataIntensityPredictor"
   ]
  },
  {
   "cell_type": "code",
   "execution_count": 4,
   "metadata": {
    "collapsed": false
   },
   "outputs": [
    {
     "name": "stdout",
     "output_type": "stream",
     "text": [
      "CPU times: user 8.08 ms, sys: 13.3 ms, total: 21.4 ms\n",
      "Wall time: 7min 31s\n"
     ]
    }
   ],
   "source": [
    "%%time\n",
    "dpaw.run_algorithm(nb_of_weeks=104)"
   ]
  },
  {
   "cell_type": "markdown",
   "metadata": {},
   "source": [
    "#Get data popularity"
   ]
  },
  {
   "cell_type": "code",
   "execution_count": 5,
   "metadata": {
    "collapsed": false
   },
   "outputs": [
    {
     "name": "stdout",
     "output_type": "stream",
     "text": [
      "CPU times: user 21.7 ms, sys: 11.2 ms, total: 32.9 ms\n",
      "Wall time: 41.6 ms\n"
     ]
    }
   ],
   "source": [
    "%%time\n",
    "popularity = dpaw.get_data_popularity()"
   ]
  },
  {
   "cell_type": "code",
   "execution_count": 6,
   "metadata": {
    "collapsed": false
   },
   "outputs": [
    {
     "data": {
      "text/html": [
       "<div style=\"max-height:1000px;max-width:1500px;overflow:auto;\">\n",
       "<table border=\"1\" class=\"dataframe\">\n",
       "  <thead>\n",
       "    <tr style=\"text-align: right;\">\n",
       "      <th></th>\n",
       "      <th>Unnamed: 0</th>\n",
       "      <th>Name</th>\n",
       "      <th>Popularity</th>\n",
       "      <th>Label</th>\n",
       "    </tr>\n",
       "  </thead>\n",
       "  <tbody>\n",
       "    <tr>\n",
       "      <th>0</th>\n",
       "      <td> 0</td>\n",
       "      <td> /MC/2011/Beam3500GeV-2011-MagDown-Nu2-EmNoCuts...</td>\n",
       "      <td> 0.041713</td>\n",
       "      <td> 0</td>\n",
       "    </tr>\n",
       "    <tr>\n",
       "      <th>1</th>\n",
       "      <td> 1</td>\n",
       "      <td> /MC/2011/Beam3500GeV-2011-MagDown-Nu2-EmNoCuts...</td>\n",
       "      <td> 0.351177</td>\n",
       "      <td> 1</td>\n",
       "    </tr>\n",
       "    <tr>\n",
       "      <th>2</th>\n",
       "      <td> 2</td>\n",
       "      <td> /MC/Upgrade/Beam7000GeV-Upgrade-MagUp-Nu3.8-25...</td>\n",
       "      <td> 0.819466</td>\n",
       "      <td> 1</td>\n",
       "    </tr>\n",
       "    <tr>\n",
       "      <th>3</th>\n",
       "      <td> 3</td>\n",
       "      <td> /MC/2012/Beam4000GeV-2012-MagDown-Nu2.5-Pythia...</td>\n",
       "      <td> 0.000157</td>\n",
       "      <td> 0</td>\n",
       "    </tr>\n",
       "    <tr>\n",
       "      <th>4</th>\n",
       "      <td> 4</td>\n",
       "      <td> /MC/Dev/Beam4000GeV-2012-MagUp-Fix1-UniformHea...</td>\n",
       "      <td> 0.015228</td>\n",
       "      <td> 1</td>\n",
       "    </tr>\n",
       "  </tbody>\n",
       "</table>\n",
       "</div>"
      ],
      "text/plain": [
       "   Unnamed: 0                                               Name  Popularity  \\\n",
       "0           0  /MC/2011/Beam3500GeV-2011-MagDown-Nu2-EmNoCuts...    0.041713   \n",
       "1           1  /MC/2011/Beam3500GeV-2011-MagDown-Nu2-EmNoCuts...    0.351177   \n",
       "2           2  /MC/Upgrade/Beam7000GeV-Upgrade-MagUp-Nu3.8-25...    0.819466   \n",
       "3           3  /MC/2012/Beam4000GeV-2012-MagDown-Nu2.5-Pythia...    0.000157   \n",
       "4           4  /MC/Dev/Beam4000GeV-2012-MagUp-Fix1-UniformHea...    0.015228   \n",
       "\n",
       "   Label  \n",
       "0      0  \n",
       "1      1  \n",
       "2      1  \n",
       "3      0  \n",
       "4      1  "
      ]
     },
     "execution_count": 6,
     "metadata": {},
     "output_type": "execute_result"
    }
   ],
   "source": [
    "popularity.irow(range(0,5))"
   ]
  },
  {
   "cell_type": "markdown",
   "metadata": {},
   "source": [
    "#Get predicted data intensity"
   ]
  },
  {
   "cell_type": "code",
   "execution_count": 7,
   "metadata": {
    "collapsed": false
   },
   "outputs": [
    {
     "name": "stdout",
     "output_type": "stream",
     "text": [
      "CPU times: user 32.8 ms, sys: 4.2 ms, total: 37 ms\n",
      "Wall time: 40.8 ms\n"
     ]
    }
   ],
   "source": [
    "%%time\n",
    "prediction = dpaw.get_data_intensity_prediction()"
   ]
  },
  {
   "cell_type": "code",
   "execution_count": 8,
   "metadata": {
    "collapsed": false
   },
   "outputs": [
    {
     "data": {
      "text/html": [
       "<div style=\"max-height:1000px;max-width:1500px;overflow:auto;\">\n",
       "<table border=\"1\" class=\"dataframe\">\n",
       "  <thead>\n",
       "    <tr style=\"text-align: right;\">\n",
       "      <th></th>\n",
       "      <th>Unnamed: 0</th>\n",
       "      <th>Name</th>\n",
       "      <th>Intensity</th>\n",
       "      <th>Std_error</th>\n",
       "    </tr>\n",
       "  </thead>\n",
       "  <tbody>\n",
       "    <tr>\n",
       "      <th>0</th>\n",
       "      <td> 0</td>\n",
       "      <td> /LHCb/Collision10/Beam3500GeV-VeloClosed-MagDo...</td>\n",
       "      <td> 6.241640e+00</td>\n",
       "      <td>  29.241197</td>\n",
       "    </tr>\n",
       "    <tr>\n",
       "      <th>1</th>\n",
       "      <td> 1</td>\n",
       "      <td> /LHCb/Collision10/Beam3500GeV-VeloClosed-MagDo...</td>\n",
       "      <td> 3.269593e+01</td>\n",
       "      <td> 105.950344</td>\n",
       "    </tr>\n",
       "    <tr>\n",
       "      <th>2</th>\n",
       "      <td> 2</td>\n",
       "      <td> /LHCb/Collision10/Beam3500GeV-VeloClosed-MagDo...</td>\n",
       "      <td> 0.000000e+00</td>\n",
       "      <td>   0.000002</td>\n",
       "    </tr>\n",
       "    <tr>\n",
       "      <th>3</th>\n",
       "      <td> 3</td>\n",
       "      <td> /LHCb/Collision10/Beam3500GeV-VeloClosed-MagDo...</td>\n",
       "      <td> 1.800680e-01</td>\n",
       "      <td>   0.000000</td>\n",
       "    </tr>\n",
       "    <tr>\n",
       "      <th>4</th>\n",
       "      <td> 4</td>\n",
       "      <td> /LHCb/Collision10/Beam3500GeV-VeloClosed-MagDo...</td>\n",
       "      <td> 2.080052e-15</td>\n",
       "      <td>   0.000000</td>\n",
       "    </tr>\n",
       "  </tbody>\n",
       "</table>\n",
       "</div>"
      ],
      "text/plain": [
       "   Unnamed: 0                                               Name  \\\n",
       "0           0  /LHCb/Collision10/Beam3500GeV-VeloClosed-MagDo...   \n",
       "1           1  /LHCb/Collision10/Beam3500GeV-VeloClosed-MagDo...   \n",
       "2           2  /LHCb/Collision10/Beam3500GeV-VeloClosed-MagDo...   \n",
       "3           3  /LHCb/Collision10/Beam3500GeV-VeloClosed-MagDo...   \n",
       "4           4  /LHCb/Collision10/Beam3500GeV-VeloClosed-MagDo...   \n",
       "\n",
       "      Intensity   Std_error  \n",
       "0  6.241640e+00   29.241197  \n",
       "1  3.269593e+01  105.950344  \n",
       "2  0.000000e+00    0.000002  \n",
       "3  1.800680e-01    0.000000  \n",
       "4  2.080052e-15    0.000000  "
      ]
     },
     "execution_count": 8,
     "metadata": {},
     "output_type": "execute_result"
    }
   ],
   "source": [
    "prediction.irow(range(0,5))"
   ]
  },
  {
   "cell_type": "markdown",
   "metadata": {},
   "source": [
    "#Get optimization report\n",
    "This method returns report after loss function optimization. The method runs DataPlacementOptimizer"
   ]
  },
  {
   "cell_type": "code",
   "execution_count": 9,
   "metadata": {
    "collapsed": false
   },
   "outputs": [
    {
     "name": "stdout",
     "output_type": "stream",
     "text": [
      "CPU times: user 34.7 ms, sys: 4 ms, total: 38.7 ms\n",
      "Wall time: 6.02 s\n"
     ]
    }
   ],
   "source": [
    "%%time\n",
    "opti_report = dpaw.get_opti_report(q=None, set_replicas='auto', c_disk=100, c_tape=1, c_miss=2000,\\\n",
    "                alpha=1, max_replicas=4)"
   ]
  },
  {
   "cell_type": "code",
   "execution_count": 10,
   "metadata": {
    "collapsed": false
   },
   "outputs": [
    {
     "data": {
      "text/html": [
       "<div style=\"max-height:1000px;max-width:1500px;overflow:auto;\">\n",
       "<table border=\"1\" class=\"dataframe\">\n",
       "  <thead>\n",
       "    <tr style=\"text-align: right;\">\n",
       "      <th></th>\n",
       "      <th>Unnamed: 0</th>\n",
       "      <th>Name</th>\n",
       "      <th>OnDisk</th>\n",
       "      <th>NbReplicas</th>\n",
       "    </tr>\n",
       "  </thead>\n",
       "  <tbody>\n",
       "    <tr>\n",
       "      <th>0</th>\n",
       "      <td> 4543</td>\n",
       "      <td> /LHCb/Collision10/Beam3500GeV-VeloClosed-MagDo...</td>\n",
       "      <td> 1</td>\n",
       "      <td> 3</td>\n",
       "    </tr>\n",
       "    <tr>\n",
       "      <th>1</th>\n",
       "      <td>  290</td>\n",
       "      <td> /LHCb/Collision10/Beam3500GeV-VeloClosed-MagDo...</td>\n",
       "      <td> 1</td>\n",
       "      <td> 4</td>\n",
       "    </tr>\n",
       "    <tr>\n",
       "      <th>2</th>\n",
       "      <td>  186</td>\n",
       "      <td> /LHCb/Collision10/Beam3500GeV-VeloClosed-MagDo...</td>\n",
       "      <td> 0</td>\n",
       "      <td> 1</td>\n",
       "    </tr>\n",
       "    <tr>\n",
       "      <th>3</th>\n",
       "      <td> 2325</td>\n",
       "      <td> /LHCb/Collision10/Beam3500GeV-VeloClosed-MagDo...</td>\n",
       "      <td> 0</td>\n",
       "      <td> 1</td>\n",
       "    </tr>\n",
       "    <tr>\n",
       "      <th>4</th>\n",
       "      <td> 8202</td>\n",
       "      <td> /LHCb/Collision10/Beam3500GeV-VeloClosed-MagDo...</td>\n",
       "      <td> 1</td>\n",
       "      <td> 1</td>\n",
       "    </tr>\n",
       "  </tbody>\n",
       "</table>\n",
       "</div>"
      ],
      "text/plain": [
       "   Unnamed: 0                                               Name  OnDisk  \\\n",
       "0        4543  /LHCb/Collision10/Beam3500GeV-VeloClosed-MagDo...       1   \n",
       "1         290  /LHCb/Collision10/Beam3500GeV-VeloClosed-MagDo...       1   \n",
       "2         186  /LHCb/Collision10/Beam3500GeV-VeloClosed-MagDo...       0   \n",
       "3        2325  /LHCb/Collision10/Beam3500GeV-VeloClosed-MagDo...       0   \n",
       "4        8202  /LHCb/Collision10/Beam3500GeV-VeloClosed-MagDo...       1   \n",
       "\n",
       "   NbReplicas  \n",
       "0           3  \n",
       "1           4  \n",
       "2           1  \n",
       "3           1  \n",
       "4           1  "
      ]
     },
     "execution_count": 10,
     "metadata": {},
     "output_type": "execute_result"
    }
   ],
   "source": [
    "opti_report.irow(range(0,5))"
   ]
  },
  {
   "cell_type": "markdown",
   "metadata": {},
   "source": [
    "#Get report\n",
    "This method returns report for the data popularity value."
   ]
  },
  {
   "cell_type": "code",
   "execution_count": 11,
   "metadata": {
    "collapsed": false
   },
   "outputs": [
    {
     "name": "stdout",
     "output_type": "stream",
     "text": [
      "CPU times: user 35.1 ms, sys: 4.9 ms, total: 40 ms\n",
      "Wall time: 663 ms\n"
     ]
    }
   ],
   "source": [
    "%%time\n",
    "report = dpaw.get_report(q=None, set_replicas='auto', c_disk=100, c_tape=1, c_miss=2000,\\\n",
    "                alpha=1, max_replicas=4, pop_cut=0.5)"
   ]
  },
  {
   "cell_type": "code",
   "execution_count": 12,
   "metadata": {
    "collapsed": false
   },
   "outputs": [
    {
     "data": {
      "text/html": [
       "<div style=\"max-height:1000px;max-width:1500px;overflow:auto;\">\n",
       "<table border=\"1\" class=\"dataframe\">\n",
       "  <thead>\n",
       "    <tr style=\"text-align: right;\">\n",
       "      <th></th>\n",
       "      <th>Unnamed: 0</th>\n",
       "      <th>Unnamed: 0.1</th>\n",
       "      <th>Name</th>\n",
       "      <th>Popularity</th>\n",
       "      <th>Label</th>\n",
       "      <th>Intensity</th>\n",
       "      <th>LFNSize</th>\n",
       "      <th>OnDisk</th>\n",
       "      <th>NbReplicas</th>\n",
       "      <th>Missing</th>\n",
       "    </tr>\n",
       "  </thead>\n",
       "  <tbody>\n",
       "    <tr>\n",
       "      <th>0</th>\n",
       "      <td> 4543</td>\n",
       "      <td> 4543</td>\n",
       "      <td> /LHCb/Collision10/Beam3500GeV-VeloClosed-MagDo...</td>\n",
       "      <td> 0.006610</td>\n",
       "      <td> 0</td>\n",
       "      <td>  6.241640</td>\n",
       "      <td> 0.317900</td>\n",
       "      <td> 1</td>\n",
       "      <td> 3</td>\n",
       "      <td> 0</td>\n",
       "    </tr>\n",
       "    <tr>\n",
       "      <th>1</th>\n",
       "      <td>  290</td>\n",
       "      <td>  290</td>\n",
       "      <td> /LHCb/Collision10/Beam3500GeV-VeloClosed-MagDo...</td>\n",
       "      <td> 0.109195</td>\n",
       "      <td> 0</td>\n",
       "      <td> 32.695929</td>\n",
       "      <td> 0.649204</td>\n",
       "      <td> 1</td>\n",
       "      <td> 4</td>\n",
       "      <td> 0</td>\n",
       "    </tr>\n",
       "    <tr>\n",
       "      <th>2</th>\n",
       "      <td>  186</td>\n",
       "      <td>  186</td>\n",
       "      <td> /LHCb/Collision10/Beam3500GeV-VeloClosed-MagDo...</td>\n",
       "      <td> 0.394192</td>\n",
       "      <td> 1</td>\n",
       "      <td>  0.000000</td>\n",
       "      <td> 1.370105</td>\n",
       "      <td> 1</td>\n",
       "      <td> 1</td>\n",
       "      <td> 0</td>\n",
       "    </tr>\n",
       "    <tr>\n",
       "      <th>3</th>\n",
       "      <td> 2325</td>\n",
       "      <td> 2325</td>\n",
       "      <td> /LHCb/Collision10/Beam3500GeV-VeloClosed-MagDo...</td>\n",
       "      <td> 0.728414</td>\n",
       "      <td> 1</td>\n",
       "      <td>  0.000000</td>\n",
       "      <td> 0.095290</td>\n",
       "      <td> 0</td>\n",
       "      <td> 1</td>\n",
       "      <td> 0</td>\n",
       "    </tr>\n",
       "    <tr>\n",
       "      <th>4</th>\n",
       "      <td> 8202</td>\n",
       "      <td> 3018</td>\n",
       "      <td> /LHCb/Collision10/Beam3500GeV-VeloClosed-MagDo...</td>\n",
       "      <td> 0.000157</td>\n",
       "      <td> 0</td>\n",
       "      <td>  0.180068</td>\n",
       "      <td> 0.803981</td>\n",
       "      <td> 1</td>\n",
       "      <td> 1</td>\n",
       "      <td> 0</td>\n",
       "    </tr>\n",
       "  </tbody>\n",
       "</table>\n",
       "</div>"
      ],
      "text/plain": [
       "   Unnamed: 0  Unnamed: 0.1  \\\n",
       "0        4543          4543   \n",
       "1         290           290   \n",
       "2         186           186   \n",
       "3        2325          2325   \n",
       "4        8202          3018   \n",
       "\n",
       "                                                Name  Popularity  Label  \\\n",
       "0  /LHCb/Collision10/Beam3500GeV-VeloClosed-MagDo...    0.006610      0   \n",
       "1  /LHCb/Collision10/Beam3500GeV-VeloClosed-MagDo...    0.109195      0   \n",
       "2  /LHCb/Collision10/Beam3500GeV-VeloClosed-MagDo...    0.394192      1   \n",
       "3  /LHCb/Collision10/Beam3500GeV-VeloClosed-MagDo...    0.728414      1   \n",
       "4  /LHCb/Collision10/Beam3500GeV-VeloClosed-MagDo...    0.000157      0   \n",
       "\n",
       "   Intensity   LFNSize  OnDisk  NbReplicas  Missing  \n",
       "0   6.241640  0.317900       1           3        0  \n",
       "1  32.695929  0.649204       1           4        0  \n",
       "2   0.000000  1.370105       1           1        0  \n",
       "3   0.000000  0.095290       0           1        0  \n",
       "4   0.180068  0.803981       1           1        0  "
      ]
     },
     "execution_count": 12,
     "metadata": {},
     "output_type": "execute_result"
    }
   ],
   "source": [
    "report.irow(range(0,5))"
   ]
  },
  {
   "cell_type": "code",
   "execution_count": null,
   "metadata": {
    "collapsed": true
   },
   "outputs": [],
   "source": []
  }
 ],
 "metadata": {
  "kernelspec": {
   "display_name": "Python 2",
   "language": "python",
   "name": "python2"
  },
  "language_info": {
   "codemirror_mode": {
    "name": "ipython",
    "version": 2
   },
   "file_extension": ".py",
   "mimetype": "text/x-python",
   "name": "python",
   "nbconvert_exporter": "python",
   "pygments_lexer": "ipython2",
   "version": "2.7.6"
  }
 },
 "nbformat": 4,
 "nbformat_minor": 0
}
