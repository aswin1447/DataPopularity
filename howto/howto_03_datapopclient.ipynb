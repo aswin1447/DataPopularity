{
 "cells": [
  {
   "cell_type": "markdown",
   "metadata": {},
   "source": [
    "#About\n",
    "This notebook shows how to use data popularity api service wrapper. The service runs in docker container."
   ]
  },
  {
   "cell_type": "markdown",
   "metadata": {},
   "source": [
    "For further understanding of this service look **howto_01_datapop.ipynb** and **howto_02_datapopserv.ipynb** first."
   ]
  },
  {
   "cell_type": "markdown",
   "metadata": {},
   "source": [
    "#Docker pull & run\n",
    "To start your work you should run docker container, which provides the data popularity api service"
   ]
  },
  {
   "cell_type": "markdown",
   "metadata": {},
   "source": [
    "In terminal type:\n",
    "1. ####sudo docker pull hushchynmikhail/datapopserv\n",
    "2. ####sudo docker run -d -p 5000:5000 hushchynmikhail/datapopserv python DataPopularity/datapopserv/datapopserv/app.py"
   ]
  },
  {
   "cell_type": "markdown",
   "metadata": {},
   "source": [
    "#Init DataPopularityApiWrapper"
   ]
  },
  {
   "cell_type": "code",
   "execution_count": 1,
   "metadata": {
    "collapsed": false
   },
   "outputs": [],
   "source": [
    "from datapopclient import DataPopularityClient\n",
    "\n",
    "dpaw = DataPopularityClient(service_url='http://localhost:5000')"
   ]
  },
  {
   "cell_type": "markdown",
   "metadata": {},
   "source": [
    "#Upload data"
   ]
  },
  {
   "cell_type": "code",
   "execution_count": 2,
   "metadata": {
    "collapsed": false
   },
   "outputs": [
    {
     "data": {
      "text/plain": [
       "1"
      ]
     },
     "execution_count": 2,
     "metadata": {},
     "output_type": "execute_result"
    }
   ],
   "source": [
    "data_path = 'Data/popularity-728days.csv'\n",
    "dpaw.upload(data_path=data_path)"
   ]
  },
  {
   "cell_type": "markdown",
   "metadata": {},
   "source": [
    "#Run algorithm\n",
    "The following method runs DataPopularityEstimator and DataIntensityPredictor"
   ]
  },
  {
   "cell_type": "code",
   "execution_count": 3,
   "metadata": {
    "collapsed": false
   },
   "outputs": [
    {
     "name": "stdout",
     "output_type": "stream",
     "text": [
      "CPU times: user 6.78 ms, sys: 7.77 ms, total: 14.6 ms\n",
      "Wall time: 4min 32s\n"
     ]
    }
   ],
   "source": [
    "%%time\n",
    "dpaw.run_algorithm(nb_of_weeks=104)"
   ]
  },
  {
   "cell_type": "markdown",
   "metadata": {},
   "source": [
    "#Get data popularity"
   ]
  },
  {
   "cell_type": "code",
   "execution_count": 4,
   "metadata": {
    "collapsed": false
   },
   "outputs": [
    {
     "name": "stdout",
     "output_type": "stream",
     "text": [
      "CPU times: user 38.4 ms, sys: 243 µs, total: 38.6 ms\n",
      "Wall time: 41 ms\n"
     ]
    }
   ],
   "source": [
    "%%time\n",
    "popularity = dpaw.get_data_popularity()"
   ]
  },
  {
   "cell_type": "code",
   "execution_count": 5,
   "metadata": {
    "collapsed": false
   },
   "outputs": [
    {
     "data": {
      "text/html": [
       "<div style=\"max-height:1000px;max-width:1500px;overflow:auto;\">\n",
       "<table border=\"1\" class=\"dataframe\">\n",
       "  <thead>\n",
       "    <tr style=\"text-align: right;\">\n",
       "      <th></th>\n",
       "      <th>Unnamed: 0</th>\n",
       "      <th>Name</th>\n",
       "      <th>Popularity</th>\n",
       "      <th>Label</th>\n",
       "    </tr>\n",
       "  </thead>\n",
       "  <tbody>\n",
       "    <tr>\n",
       "      <th>0</th>\n",
       "      <td> 0</td>\n",
       "      <td> /LHCb/Collision10/Beam3500GeV-VeloClosed-MagDo...</td>\n",
       "      <td> 0.000157</td>\n",
       "      <td> 0</td>\n",
       "    </tr>\n",
       "    <tr>\n",
       "      <th>1</th>\n",
       "      <td> 1</td>\n",
       "      <td> /LHCb/Collision10/Beam3500GeV-VeloClosed-MagDo...</td>\n",
       "      <td> 0.370487</td>\n",
       "      <td> 0</td>\n",
       "    </tr>\n",
       "    <tr>\n",
       "      <th>2</th>\n",
       "      <td> 2</td>\n",
       "      <td> /LHCb/Collision10/Beam3500GeV-VeloClosed-MagDo...</td>\n",
       "      <td> 0.427786</td>\n",
       "      <td> 1</td>\n",
       "    </tr>\n",
       "    <tr>\n",
       "      <th>3</th>\n",
       "      <td> 3</td>\n",
       "      <td> /LHCb/Collision10/Beam3500GeV-VeloClosed-MagDo...</td>\n",
       "      <td> 0.000157</td>\n",
       "      <td> 0</td>\n",
       "    </tr>\n",
       "    <tr>\n",
       "      <th>4</th>\n",
       "      <td> 4</td>\n",
       "      <td> /LHCb/Collision10/Beam3500GeV-VeloClosed-MagDo...</td>\n",
       "      <td> 0.356515</td>\n",
       "      <td> 1</td>\n",
       "    </tr>\n",
       "  </tbody>\n",
       "</table>\n",
       "</div>"
      ],
      "text/plain": [
       "   Unnamed: 0                                               Name  Popularity  \\\n",
       "0           0  /LHCb/Collision10/Beam3500GeV-VeloClosed-MagDo...    0.000157   \n",
       "1           1  /LHCb/Collision10/Beam3500GeV-VeloClosed-MagDo...    0.370487   \n",
       "2           2  /LHCb/Collision10/Beam3500GeV-VeloClosed-MagDo...    0.427786   \n",
       "3           3  /LHCb/Collision10/Beam3500GeV-VeloClosed-MagDo...    0.000157   \n",
       "4           4  /LHCb/Collision10/Beam3500GeV-VeloClosed-MagDo...    0.356515   \n",
       "\n",
       "   Label  \n",
       "0      0  \n",
       "1      0  \n",
       "2      1  \n",
       "3      0  \n",
       "4      1  "
      ]
     },
     "execution_count": 5,
     "metadata": {},
     "output_type": "execute_result"
    }
   ],
   "source": [
    "popularity.irow(range(0,5))"
   ]
  },
  {
   "cell_type": "markdown",
   "metadata": {},
   "source": [
    "#Get predicted data intensity"
   ]
  },
  {
   "cell_type": "code",
   "execution_count": 6,
   "metadata": {
    "collapsed": false
   },
   "outputs": [
    {
     "name": "stdout",
     "output_type": "stream",
     "text": [
      "CPU times: user 35 ms, sys: 0 ns, total: 35 ms\n",
      "Wall time: 36 ms\n"
     ]
    }
   ],
   "source": [
    "%%time\n",
    "prediction = dpaw.get_data_intensity_prediction()"
   ]
  },
  {
   "cell_type": "code",
   "execution_count": 7,
   "metadata": {
    "collapsed": false
   },
   "outputs": [
    {
     "data": {
      "text/html": [
       "<div style=\"max-height:1000px;max-width:1500px;overflow:auto;\">\n",
       "<table border=\"1\" class=\"dataframe\">\n",
       "  <thead>\n",
       "    <tr style=\"text-align: right;\">\n",
       "      <th></th>\n",
       "      <th>Unnamed: 0</th>\n",
       "      <th>Name</th>\n",
       "      <th>Intensity</th>\n",
       "      <th>Std_error</th>\n",
       "    </tr>\n",
       "  </thead>\n",
       "  <tbody>\n",
       "    <tr>\n",
       "      <th>0</th>\n",
       "      <td> 0</td>\n",
       "      <td> /LHCb/Collision10/Beam3500GeV-VeloClosed-MagDo...</td>\n",
       "      <td> 6.241640e+00</td>\n",
       "      <td>  29.241197</td>\n",
       "    </tr>\n",
       "    <tr>\n",
       "      <th>1</th>\n",
       "      <td> 1</td>\n",
       "      <td> /LHCb/Collision10/Beam3500GeV-VeloClosed-MagDo...</td>\n",
       "      <td> 3.269593e+01</td>\n",
       "      <td> 105.950344</td>\n",
       "    </tr>\n",
       "    <tr>\n",
       "      <th>2</th>\n",
       "      <td> 2</td>\n",
       "      <td> /LHCb/Collision10/Beam3500GeV-VeloClosed-MagDo...</td>\n",
       "      <td> 0.000000e+00</td>\n",
       "      <td>   0.000002</td>\n",
       "    </tr>\n",
       "    <tr>\n",
       "      <th>3</th>\n",
       "      <td> 3</td>\n",
       "      <td> /LHCb/Collision10/Beam3500GeV-VeloClosed-MagDo...</td>\n",
       "      <td> 1.800680e-01</td>\n",
       "      <td>   0.000000</td>\n",
       "    </tr>\n",
       "    <tr>\n",
       "      <th>4</th>\n",
       "      <td> 4</td>\n",
       "      <td> /LHCb/Collision10/Beam3500GeV-VeloClosed-MagDo...</td>\n",
       "      <td> 2.080052e-15</td>\n",
       "      <td>   0.000000</td>\n",
       "    </tr>\n",
       "  </tbody>\n",
       "</table>\n",
       "</div>"
      ],
      "text/plain": [
       "   Unnamed: 0                                               Name  \\\n",
       "0           0  /LHCb/Collision10/Beam3500GeV-VeloClosed-MagDo...   \n",
       "1           1  /LHCb/Collision10/Beam3500GeV-VeloClosed-MagDo...   \n",
       "2           2  /LHCb/Collision10/Beam3500GeV-VeloClosed-MagDo...   \n",
       "3           3  /LHCb/Collision10/Beam3500GeV-VeloClosed-MagDo...   \n",
       "4           4  /LHCb/Collision10/Beam3500GeV-VeloClosed-MagDo...   \n",
       "\n",
       "      Intensity   Std_error  \n",
       "0  6.241640e+00   29.241197  \n",
       "1  3.269593e+01  105.950344  \n",
       "2  0.000000e+00    0.000002  \n",
       "3  1.800680e-01    0.000000  \n",
       "4  2.080052e-15    0.000000  "
      ]
     },
     "execution_count": 7,
     "metadata": {},
     "output_type": "execute_result"
    }
   ],
   "source": [
    "prediction.irow(range(0,5))"
   ]
  },
  {
   "cell_type": "markdown",
   "metadata": {},
   "source": [
    "#Get optimization report\n",
    "This method returns report after loss function optimization. The method runs DataPlacementOptimizer"
   ]
  },
  {
   "cell_type": "code",
   "execution_count": 8,
   "metadata": {
    "collapsed": false
   },
   "outputs": [
    {
     "name": "stdout",
     "output_type": "stream",
     "text": [
      "CPU times: user 31.3 ms, sys: 3.84 ms, total: 35.2 ms\n",
      "Wall time: 2.51 s\n"
     ]
    }
   ],
   "source": [
    "%%time\n",
    "opti_report = dpaw.get_opti_report(q=None, set_replicas='auto', c_disk=100, c_tape=1, c_miss=2000,\\\n",
    "                alpha=1, min_replicas=1, max_replicas=4)"
   ]
  },
  {
   "cell_type": "code",
   "execution_count": 9,
   "metadata": {
    "collapsed": false
   },
   "outputs": [
    {
     "data": {
      "text/html": [
       "<div style=\"max-height:1000px;max-width:1500px;overflow:auto;\">\n",
       "<table border=\"1\" class=\"dataframe\">\n",
       "  <thead>\n",
       "    <tr style=\"text-align: right;\">\n",
       "      <th></th>\n",
       "      <th>Unnamed: 0</th>\n",
       "      <th>Name</th>\n",
       "      <th>OnDisk</th>\n",
       "      <th>NbReplicas</th>\n",
       "    </tr>\n",
       "  </thead>\n",
       "  <tbody>\n",
       "    <tr>\n",
       "      <th>0</th>\n",
       "      <td>    0</td>\n",
       "      <td> /LHCb/Collision10/Beam3500GeV-VeloClosed-MagDo...</td>\n",
       "      <td> 1</td>\n",
       "      <td> 3</td>\n",
       "    </tr>\n",
       "    <tr>\n",
       "      <th>1</th>\n",
       "      <td>    1</td>\n",
       "      <td> /LHCb/Collision10/Beam3500GeV-VeloClosed-MagDo...</td>\n",
       "      <td> 0</td>\n",
       "      <td> 1</td>\n",
       "    </tr>\n",
       "    <tr>\n",
       "      <th>2</th>\n",
       "      <td>    2</td>\n",
       "      <td> /LHCb/Collision10/Beam3500GeV-VeloClosed-MagDo...</td>\n",
       "      <td> 0</td>\n",
       "      <td> 1</td>\n",
       "    </tr>\n",
       "    <tr>\n",
       "      <th>3</th>\n",
       "      <td> 7338</td>\n",
       "      <td> /LHCb/Collision10/Beam3500GeV-VeloClosed-MagDo...</td>\n",
       "      <td> 0</td>\n",
       "      <td> 1</td>\n",
       "    </tr>\n",
       "    <tr>\n",
       "      <th>4</th>\n",
       "      <td>    3</td>\n",
       "      <td> /LHCb/Collision10/Beam3500GeV-VeloClosed-MagDo...</td>\n",
       "      <td> 1</td>\n",
       "      <td> 1</td>\n",
       "    </tr>\n",
       "  </tbody>\n",
       "</table>\n",
       "</div>"
      ],
      "text/plain": [
       "   Unnamed: 0                                               Name  OnDisk  \\\n",
       "0           0  /LHCb/Collision10/Beam3500GeV-VeloClosed-MagDo...       1   \n",
       "1           1  /LHCb/Collision10/Beam3500GeV-VeloClosed-MagDo...       0   \n",
       "2           2  /LHCb/Collision10/Beam3500GeV-VeloClosed-MagDo...       0   \n",
       "3        7338  /LHCb/Collision10/Beam3500GeV-VeloClosed-MagDo...       0   \n",
       "4           3  /LHCb/Collision10/Beam3500GeV-VeloClosed-MagDo...       1   \n",
       "\n",
       "   NbReplicas  \n",
       "0           3  \n",
       "1           1  \n",
       "2           1  \n",
       "3           1  \n",
       "4           1  "
      ]
     },
     "execution_count": 9,
     "metadata": {},
     "output_type": "execute_result"
    }
   ],
   "source": [
    "opti_report.irow(range(0,5))"
   ]
  },
  {
   "cell_type": "markdown",
   "metadata": {},
   "source": [
    "#Get opti_performance report\n",
    "\n",
    "The method runs method Performance"
   ]
  },
  {
   "cell_type": "code",
   "execution_count": 16,
   "metadata": {
    "collapsed": false
   },
   "outputs": [
    {
     "name": "stdout",
     "output_type": "stream",
     "text": [
      "CPU times: user 9.72 ms, sys: 2.78 ms, total: 12.5 ms\n",
      "Wall time: 2.51 s\n"
     ]
    }
   ],
   "source": [
    "%%time\n",
    "opti_performance = dpaw.get_opti_performance(q=None, set_replicas='auto', c_disk=100, c_tape=1, c_miss=3000,\\\n",
    "                alpha=1, min_replicas=1, max_replicas=4)"
   ]
  },
  {
   "cell_type": "code",
   "execution_count": 17,
   "metadata": {
    "collapsed": false
   },
   "outputs": [
    {
     "data": {
      "text/html": [
       "<div style=\"max-height:1000px;max-width:1500px;overflow:auto;\">\n",
       "<table border=\"1\" class=\"dataframe\">\n",
       "  <thead>\n",
       "    <tr style=\"text-align: right;\">\n",
       "      <th></th>\n",
       "      <th>Unnamed: 0</th>\n",
       "      <th>Downloading_time_ratio (train)</th>\n",
       "      <th>Saving_space_(%) (train)</th>\n",
       "      <th>Nb_of_mistakes (train)</th>\n",
       "    </tr>\n",
       "  </thead>\n",
       "  <tbody>\n",
       "    <tr>\n",
       "      <th>0</th>\n",
       "      <td> 0</td>\n",
       "      <td> 0.956397</td>\n",
       "      <td> 19.32928</td>\n",
       "      <td> 8</td>\n",
       "    </tr>\n",
       "  </tbody>\n",
       "</table>\n",
       "</div>"
      ],
      "text/plain": [
       "   Unnamed: 0  Downloading_time_ratio (train)  Saving_space_(%) (train)  \\\n",
       "0           0                        0.956397                  19.32928   \n",
       "\n",
       "   Nb_of_mistakes (train)  \n",
       "0                       8  "
      ]
     },
     "execution_count": 17,
     "metadata": {},
     "output_type": "execute_result"
    }
   ],
   "source": [
    "opti_performance"
   ]
  },
  {
   "cell_type": "markdown",
   "metadata": {},
   "source": [
    "#Get report\n",
    "This method returns report for the data popularity value."
   ]
  },
  {
   "cell_type": "code",
   "execution_count": 12,
   "metadata": {
    "collapsed": false
   },
   "outputs": [
    {
     "name": "stdout",
     "output_type": "stream",
     "text": [
      "CPU times: user 43.1 ms, sys: 3.78 ms, total: 46.9 ms\n",
      "Wall time: 864 ms\n"
     ]
    }
   ],
   "source": [
    "%%time\n",
    "report = dpaw.get_report(q=None, set_replicas='auto', c_disk=100, c_tape=1, c_miss=2000,\\\n",
    "                alpha=1, min_replicas=1, max_replicas=4, pop_cut=0.5)"
   ]
  },
  {
   "cell_type": "code",
   "execution_count": 13,
   "metadata": {
    "collapsed": false
   },
   "outputs": [
    {
     "data": {
      "text/html": [
       "<div style=\"max-height:1000px;max-width:1500px;overflow:auto;\">\n",
       "<table border=\"1\" class=\"dataframe\">\n",
       "  <thead>\n",
       "    <tr style=\"text-align: right;\">\n",
       "      <th></th>\n",
       "      <th>Unnamed: 0</th>\n",
       "      <th>Unnamed: 0.1</th>\n",
       "      <th>Name</th>\n",
       "      <th>Popularity</th>\n",
       "      <th>Label</th>\n",
       "      <th>Intensity</th>\n",
       "      <th>LFNSize</th>\n",
       "      <th>OnDisk</th>\n",
       "      <th>NbReplicas</th>\n",
       "      <th>Missing</th>\n",
       "    </tr>\n",
       "  </thead>\n",
       "  <tbody>\n",
       "    <tr>\n",
       "      <th>0</th>\n",
       "      <td>    0</td>\n",
       "      <td>    0</td>\n",
       "      <td> /LHCb/Collision10/Beam3500GeV-VeloClosed-MagDo...</td>\n",
       "      <td> 0.000157</td>\n",
       "      <td> 0</td>\n",
       "      <td>  6.241640</td>\n",
       "      <td> 0.317900</td>\n",
       "      <td> 1</td>\n",
       "      <td> 3</td>\n",
       "      <td> 0</td>\n",
       "    </tr>\n",
       "    <tr>\n",
       "      <th>1</th>\n",
       "      <td>    1</td>\n",
       "      <td>    1</td>\n",
       "      <td> /LHCb/Collision10/Beam3500GeV-VeloClosed-MagDo...</td>\n",
       "      <td> 0.370487</td>\n",
       "      <td> 0</td>\n",
       "      <td> 32.695929</td>\n",
       "      <td> 0.649204</td>\n",
       "      <td> 1</td>\n",
       "      <td> 4</td>\n",
       "      <td> 0</td>\n",
       "    </tr>\n",
       "    <tr>\n",
       "      <th>2</th>\n",
       "      <td>    2</td>\n",
       "      <td>    2</td>\n",
       "      <td> /LHCb/Collision10/Beam3500GeV-VeloClosed-MagDo...</td>\n",
       "      <td> 0.427786</td>\n",
       "      <td> 1</td>\n",
       "      <td>  0.000000</td>\n",
       "      <td> 1.370105</td>\n",
       "      <td> 1</td>\n",
       "      <td> 1</td>\n",
       "      <td> 0</td>\n",
       "    </tr>\n",
       "    <tr>\n",
       "      <th>3</th>\n",
       "      <td> 7338</td>\n",
       "      <td> 7338</td>\n",
       "      <td> /LHCb/Collision10/Beam3500GeV-VeloClosed-MagDo...</td>\n",
       "      <td> 0.779592</td>\n",
       "      <td> 1</td>\n",
       "      <td>  0.000000</td>\n",
       "      <td> 0.095290</td>\n",
       "      <td> 0</td>\n",
       "      <td> 1</td>\n",
       "      <td> 0</td>\n",
       "    </tr>\n",
       "    <tr>\n",
       "      <th>4</th>\n",
       "      <td>    3</td>\n",
       "      <td>    3</td>\n",
       "      <td> /LHCb/Collision10/Beam3500GeV-VeloClosed-MagDo...</td>\n",
       "      <td> 0.000157</td>\n",
       "      <td> 0</td>\n",
       "      <td>  0.180068</td>\n",
       "      <td> 0.803981</td>\n",
       "      <td> 1</td>\n",
       "      <td> 1</td>\n",
       "      <td> 0</td>\n",
       "    </tr>\n",
       "  </tbody>\n",
       "</table>\n",
       "</div>"
      ],
      "text/plain": [
       "   Unnamed: 0  Unnamed: 0.1  \\\n",
       "0           0             0   \n",
       "1           1             1   \n",
       "2           2             2   \n",
       "3        7338          7338   \n",
       "4           3             3   \n",
       "\n",
       "                                                Name  Popularity  Label  \\\n",
       "0  /LHCb/Collision10/Beam3500GeV-VeloClosed-MagDo...    0.000157      0   \n",
       "1  /LHCb/Collision10/Beam3500GeV-VeloClosed-MagDo...    0.370487      0   \n",
       "2  /LHCb/Collision10/Beam3500GeV-VeloClosed-MagDo...    0.427786      1   \n",
       "3  /LHCb/Collision10/Beam3500GeV-VeloClosed-MagDo...    0.779592      1   \n",
       "4  /LHCb/Collision10/Beam3500GeV-VeloClosed-MagDo...    0.000157      0   \n",
       "\n",
       "   Intensity   LFNSize  OnDisk  NbReplicas  Missing  \n",
       "0   6.241640  0.317900       1           3        0  \n",
       "1  32.695929  0.649204       1           4        0  \n",
       "2   0.000000  1.370105       1           1        0  \n",
       "3   0.000000  0.095290       0           1        0  \n",
       "4   0.180068  0.803981       1           1        0  "
      ]
     },
     "execution_count": 13,
     "metadata": {},
     "output_type": "execute_result"
    }
   ],
   "source": [
    "report.irow(range(0,5))"
   ]
  },
  {
   "cell_type": "markdown",
   "metadata": {
    "collapsed": true
   },
   "source": [
    "#Get performance report\n",
    "\n",
    "The method runs method Performance"
   ]
  },
  {
   "cell_type": "code",
   "execution_count": 22,
   "metadata": {
    "collapsed": false
   },
   "outputs": [
    {
     "name": "stdout",
     "output_type": "stream",
     "text": [
      "CPU times: user 11.2 ms, sys: 0 ns, total: 11.2 ms\n",
      "Wall time: 2.59 s\n"
     ]
    }
   ],
   "source": [
    "%%time\n",
    "performance = dpaw.get_opti_performance(q=None, set_replicas='auto', c_disk=100, c_tape=1, c_miss=3000,\\\n",
    "                alpha=0.01, min_replicas=1, max_replicas=7)"
   ]
  },
  {
   "cell_type": "code",
   "execution_count": 23,
   "metadata": {
    "collapsed": false
   },
   "outputs": [
    {
     "data": {
      "text/html": [
       "<div style=\"max-height:1000px;max-width:1500px;overflow:auto;\">\n",
       "<table border=\"1\" class=\"dataframe\">\n",
       "  <thead>\n",
       "    <tr style=\"text-align: right;\">\n",
       "      <th></th>\n",
       "      <th>Unnamed: 0</th>\n",
       "      <th>Downloading_time_ratio (train)</th>\n",
       "      <th>Saving_space_(%) (train)</th>\n",
       "      <th>Nb_of_mistakes (train)</th>\n",
       "    </tr>\n",
       "  </thead>\n",
       "  <tbody>\n",
       "    <tr>\n",
       "      <th>0</th>\n",
       "      <td> 0</td>\n",
       "      <td> 0.706348</td>\n",
       "      <td> 35.558147</td>\n",
       "      <td> 8</td>\n",
       "    </tr>\n",
       "  </tbody>\n",
       "</table>\n",
       "</div>"
      ],
      "text/plain": [
       "   Unnamed: 0  Downloading_time_ratio (train)  Saving_space_(%) (train)  \\\n",
       "0           0                        0.706348                 35.558147   \n",
       "\n",
       "   Nb_of_mistakes (train)  \n",
       "0                       8  "
      ]
     },
     "execution_count": 23,
     "metadata": {},
     "output_type": "execute_result"
    }
   ],
   "source": [
    "performance"
   ]
  },
  {
   "cell_type": "code",
   "execution_count": null,
   "metadata": {
    "collapsed": true
   },
   "outputs": [],
   "source": []
  },
  {
   "cell_type": "code",
   "execution_count": null,
   "metadata": {
    "collapsed": true
   },
   "outputs": [],
   "source": []
  }
 ],
 "metadata": {
  "kernelspec": {
   "display_name": "Python 2",
   "language": "python",
   "name": "python2"
  },
  "language_info": {
   "codemirror_mode": {
    "name": "ipython",
    "version": 2
   },
   "file_extension": ".py",
   "mimetype": "text/x-python",
   "name": "python",
   "nbconvert_exporter": "python",
   "pygments_lexer": "ipython2",
   "version": "2.7.6"
  }
 },
 "nbformat": 4,
 "nbformat_minor": 0
}
